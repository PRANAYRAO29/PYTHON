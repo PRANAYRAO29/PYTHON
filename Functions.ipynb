{
 "cells": [
  {
   "cell_type": "markdown",
   "id": "f8cea526-58ce-43dc-8954-1ea1e154f443",
   "metadata": {},
   "source": [
    "# FUNCTIONS\n",
    "- it is a organized block of code to perform specific task.\n",
    "- with def keyword\n",
    "- after defining the function we have to start with function name():\n",
    "- in the parenthasis pass parameters.\n",
    "- n number of parameters we can pass,seperated it by(,)\n",
    "- call the function with function name by passing your arguments.\n",
    "- Syntax=def function_name(parameters):\n",
    "- statements\n",
    "- function calling function_name(arguments)"
   ]
  },
  {
   "cell_type": "code",
   "execution_count": 3,
   "id": "c3fe9fd9-73ab-4b06-9598-2ebf3eae1c5e",
   "metadata": {},
   "outputs": [
    {
     "data": {
      "text/plain": [
       "10"
      ]
     },
     "execution_count": 3,
     "metadata": {},
     "output_type": "execute_result"
    }
   ],
   "source": [
    "def addd(a,b):\n",
    "    return a+b\n",
    "addd(4,6)"
   ]
  },
  {
   "cell_type": "code",
   "execution_count": 8,
   "id": "945a18dc-1ed4-4639-be18-85776651cb49",
   "metadata": {},
   "outputs": [
    {
     "data": {
      "text/plain": [
       "50.24"
      ]
     },
     "execution_count": 8,
     "metadata": {},
     "output_type": "execute_result"
    }
   ],
   "source": [
    "#area of circle\n",
    "def area(r):\n",
    "    return 3.14*(r**2)\n",
    "area(4)"
   ]
  },
  {
   "cell_type": "code",
   "execution_count": 9,
   "id": "be61db98-ddb3-467a-b0e9-31b67fea72d1",
   "metadata": {},
   "outputs": [
    {
     "data": {
      "text/plain": [
       "'even'"
      ]
     },
     "execution_count": 9,
     "metadata": {},
     "output_type": "execute_result"
    }
   ],
   "source": [
    "#even and odds\n",
    "def evenodd(a):\n",
    "    if a%2==0:\n",
    "        return \"even\"\n",
    "    else:\n",
    "        return \"odd\"\n",
    "evenodd(76)c"
   ]
  },
  {
   "cell_type": "code",
   "execution_count": 3,
   "id": "43b039af-06d0-4f14-a2e7-d3418fadad38",
   "metadata": {},
   "outputs": [
    {
     "name": "stdin",
     "output_type": "stream",
     "text": [
      " 5\n",
      " 9\n"
     ]
    },
    {
     "name": "stdout",
     "output_type": "stream",
     "text": [
      "5 \n",
      "5 6 \n",
      "5 6 7 \n",
      "5 6 7 8 \n",
      "5 6 7 8 9 \n"
     ]
    }
   ],
   "source": [
    "a=int(input())\n",
    "b=int(input())\n",
    "row=\"\"\n",
    "for i in range(a,b+1):\n",
    "    row=row+str(i)+\" \"\n",
    "    print(row)"
   ]
  },
  {
   "cell_type": "code",
   "execution_count": 4,
   "id": "0e24e72b-5b17-423f-bdc9-c6e0cc5c38d2",
   "metadata": {},
   "outputs": [
    {
     "name": "stdout",
     "output_type": "stream",
     "text": [
      "pranay\n",
      "sai\n",
      "vishu\n",
      "santhosh\n"
     ]
    }
   ],
   "source": [
    "z=[\"pranay\",\"sai\",\"vishu\",\"santhosh\"]\n",
    "def pranay(a):\n",
    "    for i in a:\n",
    "        print(i)\n",
    "pranay(z)"
   ]
  },
  {
   "cell_type": "markdown",
   "id": "fd372135-acef-4fe1-9993-2809056a8079",
   "metadata": {},
   "source": [
    "## Types of functions"
   ]
  },
  {
   "cell_type": "markdown",
   "id": "2db9a2cd-fb9f-4a6b-b9ce-b71079a30651",
   "metadata": {},
   "source": [
    "- built-in functions\n",
    "- user defined functions\n",
    "- anonymous functions"
   ]
  },
  {
   "cell_type": "markdown",
   "id": "287c7a76-90d0-40cb-b0a3-ad21edcd3dd9",
   "metadata": {},
   "source": [
    "## ii.USER DEFINED FUNCTIONS\n",
    "#### difference between print and return statement"
   ]
  },
  {
   "cell_type": "markdown",
   "id": "d87410af-7b77-4f37-a274-919247ef706b",
   "metadata": {},
   "source": [
    "- print will not assign value back to the variable\n",
    "- but in the return it will assign the value"
   ]
  },
  {
   "cell_type": "code",
   "execution_count": 7,
   "id": "72fc5b19-3992-4db0-8c66-00848f29f5f2",
   "metadata": {},
   "outputs": [
    {
     "name": "stdout",
     "output_type": "stream",
     "text": [
      "9\n",
      "None\n"
     ]
    },
    {
     "data": {
      "text/plain": [
       "9"
      ]
     },
     "execution_count": 7,
     "metadata": {},
     "output_type": "execute_result"
    }
   ],
   "source": [
    "def add(a,b):\n",
    "    x=a+b\n",
    "    print(x)\n",
    "x=add(4,5)\n",
    "print(x)\n",
    "def addd(a,b):\n",
    "    x=a+b\n",
    "    return x\n",
    "addd(4,5)"
   ]
  },
  {
   "cell_type": "markdown",
   "id": "7a745bc7-5975-4d3f-9bcc-e90ecb783d73",
   "metadata": {},
   "source": [
    "- here x value in the add method will be none.\n",
    "- int the addd method x value will be assigned."
   ]
  },
  {
   "cell_type": "code",
   "execution_count": 9,
   "id": "720c770f-b736-48cf-9508-b56360e1a438",
   "metadata": {},
   "outputs": [
    {
     "name": "stdin",
     "output_type": "stream",
     "text": [
      " 56\n",
      " 56\n",
      " 56\n"
     ]
    },
    {
     "name": "stdout",
     "output_type": "stream",
     "text": [
      "scored more than 50 percent\n"
     ]
    }
   ],
   "source": [
    "def passage(mark1,mark2,mark3):\n",
    "    a=mark1+mark2+mark3\n",
    "    b=150\n",
    "    if a>b:\n",
    "        print(\"scored more than 50 percent\")\n",
    "    elif mark1>=35 and mark2>=35 and mark3>=35:\n",
    "        print(\"all passed\")\n",
    "    else:\n",
    "        return \"failed\"\n",
    "mark1=int(input())\n",
    "mark2=int(input())\n",
    "mark3=int(input())\n",
    "passage(mark1,mark2,mark3)"
   ]
  },
  {
   "cell_type": "markdown",
   "id": "d3aee9a2-8a85-4a90-b075-d89862cd89bc",
   "metadata": {},
   "source": [
    "## Type Of Arguments"
   ]
  },
  {
   "cell_type": "markdown",
   "id": "cf821598-993a-4090-984a-bc760ea0ba7b",
   "metadata": {},
   "source": [
    "- There are two types of arguments\n",
    "### I.Fixed length arguments\n",
    "- we pass fixed number of arguments\n",
    "- again divided into three types\n",
    "##### i).required length arguments\n",
    "- we exactly give the number of arguments required.\n",
    "##### ii).Default arguments\n",
    "- these are also comes under fixed length but we can set a default value.\n",
    "##### iii).keyword argumrnts\n",
    "- we can pass the values in the function calls."
   ]
  },
  {
   "cell_type": "code",
   "execution_count": 11,
   "id": "98c8ecd8-0327-4ec2-889c-19b93806c0c7",
   "metadata": {},
   "outputs": [
    {
     "data": {
      "text/plain": [
       "15"
      ]
     },
     "execution_count": 11,
     "metadata": {},
     "output_type": "execute_result"
    }
   ],
   "source": [
    "#required length arguments\n",
    "def addedd(a,b):\n",
    "    c=a+b\n",
    "    return c\n",
    "addedd(9,6)"
   ]
  },
  {
   "cell_type": "code",
   "execution_count": 10,
   "id": "a3d35f00-ce2b-4a88-ab19-72a0ceac27ec",
   "metadata": {},
   "outputs": [
    {
     "data": {
      "text/plain": [
       "15"
      ]
     },
     "execution_count": 10,
     "metadata": {},
     "output_type": "execute_result"
    }
   ],
   "source": [
    "# default arguments\n",
    "def added(a,b=6):\n",
    "    c=a+b\n",
    "    return c\n",
    "added(9)"
   ]
  },
  {
   "cell_type": "code",
   "execution_count": 19,
   "id": "cd586ff0-8b0b-44e8-af2b-3dbfa6225c32",
   "metadata": {},
   "outputs": [
    {
     "data": {
      "text/plain": [
       "5"
      ]
     },
     "execution_count": 19,
     "metadata": {},
     "output_type": "execute_result"
    }
   ],
   "source": [
    "#keyword arguments\n",
    "def sub(x,y):\n",
    "    c=x-y\n",
    "    return c\n",
    "sub(10,5)\n",
    "sub(y=5,x=10)"
   ]
  },
  {
   "cell_type": "code",
   "execution_count": 14,
   "id": "ae7943ab-b3c7-427a-a9a2-ad8516563be1",
   "metadata": {},
   "outputs": [
    {
     "name": "stdout",
     "output_type": "stream",
     "text": [
      "pranay good morning\n"
     ]
    }
   ],
   "source": [
    "def namee(b,a=\"pranay\"):\n",
    "    d=a+b\n",
    "    print(d)\n",
    "namee(\" good morning\")"
   ]
  },
  {
   "cell_type": "markdown",
   "id": "9b9f176a-af4f-4d03-a14d-83a2b5831fa4",
   "metadata": {},
   "source": [
    "### II.Variable Length  Arguments"
   ]
  },
  {
   "cell_type": "markdown",
   "id": "8064dc95-8975-4fa2-9208-ab179f6c1695",
   "metadata": {},
   "source": [
    "-  we can pass n no of arguments.\n",
    "-  (*) before the parameter."
   ]
  },
  {
   "cell_type": "code",
   "execution_count": 22,
   "id": "17290833-0a35-4b36-9b81-01580ca47f7a",
   "metadata": {},
   "outputs": [
    {
     "name": "stdout",
     "output_type": "stream",
     "text": [
      "('pranay',)\n",
      "('pranay', 'raju', 'sravan')\n"
     ]
    }
   ],
   "source": [
    "def pranay(*a):\n",
    "    print(a)\n",
    "pranay(\"pranay\")\n",
    "pranay(\"pranay\",\"raju\",\"sravan\")"
   ]
  },
  {
   "cell_type": "code",
   "execution_count": 26,
   "id": "4d7afa71-8235-492d-afe9-69d09542873f",
   "metadata": {},
   "outputs": [
    {
     "name": "stdout",
     "output_type": "stream",
     "text": [
      "(7, 6, 8)\n"
     ]
    }
   ],
   "source": [
    "def pranay(a,*b):\n",
    "    print(b)\n",
    "pranay(3,7,6,8)"
   ]
  },
  {
   "cell_type": "markdown",
   "id": "c9b283ba-8a60-4247-8bfe-b9e7d38abc4c",
   "metadata": {},
   "source": [
    "## iii.Anonymous Functions"
   ]
  },
  {
   "cell_type": "markdown",
   "id": "a2231233-d23e-418e-be31-93451f24523d",
   "metadata": {},
   "source": [
    "- nameless functions\n",
    "- \"lambda functions\"\n",
    "- entire operation can be written in single line.\n",
    "- syntax:variable_name=lambda parameters:expressions\n",
    "- addition=lambda a,b:a+b\n",
    "- lambda wont take more than one expression.\n",
    "- there are three types again and they are:\n",
    "- MAP\n",
    "- FILTER\n",
    "- REDUCE"
   ]
  },
  {
   "cell_type": "code",
   "execution_count": 29,
   "id": "bd65ebc7-ca50-4dae-ad37-803fdc0a5d57",
   "metadata": {},
   "outputs": [
    {
     "data": {
      "text/plain": [
       "13"
      ]
     },
     "execution_count": 29,
     "metadata": {},
     "output_type": "execute_result"
    }
   ],
   "source": [
    "addition=lambda a,b:a+b\n",
    "addition(6,7)"
   ]
  },
  {
   "cell_type": "code",
   "execution_count": null,
   "id": "35e7a2f6-2aee-4028-b078-56b3f8bb8b29",
   "metadata": {},
   "outputs": [],
   "source": [
    "addition=lambda a,b:a+b,a-b\n",
    "addition(6,7)"
   ]
  },
  {
   "cell_type": "markdown",
   "id": "b906da01-1f33-494b-aedf-fe866d5af94d",
   "metadata": {},
   "source": [
    "## I.MAP:\n",
    "- it will map with each and every element using map function.\n",
    "- we need to mention whether it is list or tuple or .... "
   ]
  },
  {
   "cell_type": "code",
   "execution_count": 34,
   "id": "a81ae331-9a2f-4e88-87e3-c3faeb3761a8",
   "metadata": {},
   "outputs": [
    {
     "data": {
      "text/plain": [
       "[2, 4, 68, 8, 10, 12]"
      ]
     },
     "execution_count": 34,
     "metadata": {},
     "output_type": "execute_result"
    }
   ],
   "source": [
    "li=[1,2,34,4,5,6]\n",
    "xy=list(map(lambda a:a*2,li))\n",
    "xy"
   ]
  },
  {
   "cell_type": "code",
   "execution_count": 36,
   "id": "d77e9e13-e644-4781-97e6-4cfe5c9e2725",
   "metadata": {},
   "outputs": [
    {
     "data": {
      "text/plain": [
       "(2, 4, 68, 8, 10, 12)"
      ]
     },
     "execution_count": 36,
     "metadata": {},
     "output_type": "execute_result"
    }
   ],
   "source": [
    "li=(1,2,34,4,5,6)\n",
    "xy=tuple(map(lambda a:a*2,li))\n",
    "xy"
   ]
  },
  {
   "cell_type": "code",
   "execution_count": 37,
   "id": "447c7d3b-e727-4d81-9ac5-954e643a978d",
   "metadata": {},
   "outputs": [
    {
     "data": {
      "text/plain": [
       "['pranay', 'santhosh', 'vishu']"
      ]
     },
     "execution_count": 37,
     "metadata": {},
     "output_type": "execute_result"
    }
   ],
   "source": [
    "ab=[\"Pranay\",\"Santhosh\",\"Vishu\"]\n",
    "y=list(map(lambda a:a.lower(),ab))\n",
    "y"
   ]
  },
  {
   "cell_type": "markdown",
   "id": "ef5f264e-9686-442f-b332-b17006da9ad4",
   "metadata": {},
   "source": [
    " ## II.FILTER"
   ]
  },
  {
   "cell_type": "markdown",
   "id": "3820c3ee-413f-44c0-bc2d-8266c794c376",
   "metadata": {},
   "source": [
    "- filter function applies predicate(condition) on the sequence.if predicate returns true the value is dropped from the consideration."
   ]
  },
  {
   "cell_type": "code",
   "execution_count": 3,
   "id": "facb4fcb-6f60-4bd8-af68-44f7e218e84a",
   "metadata": {},
   "outputs": [
    {
     "data": {
      "text/plain": [
       "[2, 4, 6]"
      ]
     },
     "execution_count": 3,
     "metadata": {},
     "output_type": "execute_result"
    }
   ],
   "source": [
    "li=[1,2,3,4,5,6]\n",
    "evens=list(filter(lambda a:a%2==0,li))\n",
    "evens"
   ]
  },
  {
   "cell_type": "code",
   "execution_count": 4,
   "id": "9d88fd72-9c2f-4058-b61d-93c0c93f4b66",
   "metadata": {},
   "outputs": [
    {
     "data": {
      "text/plain": [
       "['pranay', 'raju', 'vishu']"
      ]
     },
     "execution_count": 4,
     "metadata": {},
     "output_type": "execute_result"
    }
   ],
   "source": [
    "lii=[\"pranay\",\"raju\",\"sai\",\"vishu\"]\n",
    "red=list(filter(lambda a:len(a)>=4,lii))\n",
    "red"
   ]
  },
  {
   "cell_type": "markdown",
   "id": "9a669b97-3996-4298-bff0-299f219572cc",
   "metadata": {},
   "source": [
    "## III.REDUCE"
   ]
  },
  {
   "cell_type": "markdown",
   "id": "3dea7b4a-ebd9-4b2a-bcc9-d8ff12526ef7",
   "metadata": {},
   "source": [
    "- It is used to reduce the value to a single digit by applying function repeatedly."
   ]
  },
  {
   "cell_type": "code",
   "execution_count": 5,
   "id": "b8737ef1-b025-48c4-818f-7aa03757e365",
   "metadata": {},
   "outputs": [
    {
     "data": {
      "text/plain": [
       "21"
      ]
     },
     "execution_count": 5,
     "metadata": {},
     "output_type": "execute_result"
    }
   ],
   "source": [
    "import functools\n",
    "from functools import reduce\n",
    "li=[1,2,3,4,5,6]\n",
    "ab=reduce(lambda a,b:a+b,li)\n",
    "ab"
   ]
  },
  {
   "cell_type": "markdown",
   "id": "bde8cf1b-4df4-4250-bf8a-96429e263f1a",
   "metadata": {},
   "source": [
    "# SCOPE OF VARIABLES"
   ]
  },
  {
   "cell_type": "markdown",
   "id": "df319cc9-c432-4132-abbe-88743900f238",
   "metadata": {},
   "source": [
    "- The scope of variable is the part of the program where the variable can be referenced\n",
    "### Global Variables\n",
    "- defined outside of any function.\n",
    "- can be accessed anywhere in the code including inside functions.\n",
    "### Local Variables\n",
    "- Defined inside a function.\n",
    "- Only accessible within that function."
   ]
  },
  {
   "cell_type": "code",
   "execution_count": 4,
   "id": "a742dc5d-444c-4701-9912-0a9052c76e5d",
   "metadata": {},
   "outputs": [
    {
     "name": "stdout",
     "output_type": "stream",
     "text": [
      "3\n",
      "10\n",
      "3\n"
     ]
    }
   ],
   "source": [
    "x=10 ## global\n",
    "def ab():\n",
    "    global y\n",
    "    y=3 ## local\n",
    "    print(x)\n",
    "    print(y)\n",
    "print(y)\n",
    "ab()"
   ]
  },
  {
   "cell_type": "code",
   "execution_count": 2,
   "id": "cc8a1417-9979-43ed-89ac-dc678a6865f5",
   "metadata": {},
   "outputs": [
    {
     "name": "stdout",
     "output_type": "stream",
     "text": [
      "10\n"
     ]
    }
   ],
   "source": [
    "  print(x)"
   ]
  },
  {
   "cell_type": "code",
   "execution_count": 3,
   "id": "cd543cf9-76c3-4420-b2ad-4eb1cf55c649",
   "metadata": {},
   "outputs": [
    {
     "name": "stdout",
     "output_type": "stream",
     "text": [
      "3\n"
     ]
    }
   ],
   "source": [
    "  print(y)"
   ]
  },
  {
   "cell_type": "code",
   "execution_count": 4,
   "id": "add5fd9f-cfc9-4aa1-9d90-b36c03ff666b",
   "metadata": {},
   "outputs": [
    {
     "name": "stdout",
     "output_type": "stream",
     "text": [
      "10\n",
      "3\n"
     ]
    }
   ],
   "source": [
    "  print(x)\n",
    "  print(y)"
   ]
  },
  {
   "cell_type": "markdown",
   "id": "1e1cc1e7-7523-4105-b454-547107524a66",
   "metadata": {},
   "source": [
    "# RECURSION"
   ]
  },
  {
   "cell_type": "code",
   "execution_count": 15,
   "id": "09a5ed4f-a6a5-407a-85f3-e9a5d5e44369",
   "metadata": {},
   "outputs": [
    {
     "data": {
      "text/plain": [
       "720"
      ]
     },
     "execution_count": 15,
     "metadata": {},
     "output_type": "execute_result"
    }
   ],
   "source": [
    "def fact(n):\n",
    "    if n==0 or n==1:\n",
    "        return 1\n",
    "    else:\n",
    "        return n*fact(n-1)\n",
    "fact(6)"
   ]
  },
  {
   "cell_type": "code",
   "execution_count": 18,
   "id": "af0a2bab-de0b-475f-9725-a87093620e89",
   "metadata": {},
   "outputs": [
    {
     "data": {
      "text/plain": [
       "21"
      ]
     },
     "execution_count": 18,
     "metadata": {},
     "output_type": "execute_result"
    }
   ],
   "source": [
    "def fibo(n):\n",
    "    if n==1:\n",
    "        return 1\n",
    "    elif n==0:\n",
    "        return 0\n",
    "    else:\n",
    "        return fibo(n-1)+fibo(n-2)\n",
    "fibo(8)"
   ]
  },
  {
   "cell_type": "code",
   "execution_count": 19,
   "id": "b1d9227e-8e1c-41d1-ac98-52746a26375e",
   "metadata": {},
   "outputs": [
    {
     "data": {
      "text/plain": [
       "36"
      ]
     },
     "execution_count": 19,
     "metadata": {},
     "output_type": "execute_result"
    }
   ],
   "source": [
    "def summ(n):\n",
    "    if n==1:\n",
    "        return 1\n",
    "    elif n==0:\n",
    "        return 0\n",
    "    else:\n",
    "        return n+summ(n-1)\n",
    "summ(8)"
   ]
  },
  {
   "cell_type": "markdown",
   "id": "6c2c09df-a518-44aa-a925-0449b1461a58",
   "metadata": {},
   "source": [
    "# CLASS TASKS"
   ]
  },
  {
   "cell_type": "code",
   "execution_count": 3,
   "id": "0f6e5bd7-d824-45e8-8456-d9ff543ff3ef",
   "metadata": {},
   "outputs": [
    {
     "name": "stdin",
     "output_type": "stream",
     "text": [
      "Enter the value of n:  56\n"
     ]
    },
    {
     "name": "stdout",
     "output_type": "stream",
     "text": [
      "2 3 5 7 11 13 17 19 23 29 31 37 41 43 47 53 "
     ]
    }
   ],
   "source": [
    "\n",
    "n = int(input(\"Enter the value of n: \"))\n",
    "for j in range(2, n + 1):\n",
    "    isp = True\n",
    "    for i in range(2, int(j ** 0.5) + 1):\n",
    "        if j % i == 0:\n",
    "            isp = False\n",
    "            break\n",
    "    if isp :\n",
    "        print(j, end=\" \")\n"
   ]
  },
  {
   "cell_type": "code",
   "execution_count": 4,
   "id": "7629f2b9-bc30-4ddd-b35c-28a2c2b7e022",
   "metadata": {},
   "outputs": [
    {
     "name": "stdin",
     "output_type": "stream",
     "text": [
      " [2,3,4,5]\n",
      " 9\n"
     ]
    },
    {
     "name": "stdout",
     "output_type": "stream",
     "text": [
      "[2, 3]\n"
     ]
    }
   ],
   "source": [
    "a=eval(input())\n",
    "tar=int(input())\n",
    "li=[]\n",
    "if 2<=len(a)<=104:\n",
    "    for i in range(len(a)):\n",
    "        for j in range(i+1,len(a)):\n",
    "            if a[i]+a[j]==tar:\n",
    "                li.extend([i,j])\n",
    "print(li)"
   ]
  },
  {
   "cell_type": "code",
   "execution_count": 8,
   "id": "1710fa32-d173-4cf6-a2de-f4ea2e399c99",
   "metadata": {},
   "outputs": [
    {
     "name": "stdin",
     "output_type": "stream",
     "text": [
      " 1223\n"
     ]
    },
    {
     "name": "stdout",
     "output_type": "stream",
     "text": [
      "3221\n"
     ]
    }
   ],
   "source": [
    "a=int(input())\n",
    "reverse=0\n",
    "while a>0:\n",
    "    b=int(a%10)\n",
    "    reverse=reverse*10+b\n",
    "    a=a//10\n",
    "print(reverse)"
   ]
  },
  {
   "cell_type": "code",
   "execution_count": 4,
   "id": "e03b5567-1791-4e47-a54e-e369d2ceff14",
   "metadata": {},
   "outputs": [
    {
     "name": "stdout",
     "output_type": "stream",
     "text": [
      "10\n"
     ]
    }
   ],
   "source": [
    "class a:\n",
    "    def method(self,a):\n",
    "        self.a=a\n",
    "        print(a)\n",
    "    def method(self,a,b):\n",
    "        self.a=a\n",
    "        self.b=b\n",
    "        print(a+b)\n",
    "b=a()\n",
    "b.method(4,6)"
   ]
  },
  {
   "cell_type": "code",
   "execution_count": 11,
   "id": "ef1f2f98-1e23-425f-8971-ed320d7855e9",
   "metadata": {},
   "outputs": [
    {
     "name": "stdin",
     "output_type": "stream",
     "text": [
      " 1\n",
      " 100\n"
     ]
    }
   ],
   "source": [
    "a=int(input())\n",
    "b=int(input())\n",
    "isprime=True\n",
    "for i in range(a,b+1):\n",
    "    for j in range(2,int(i**0.5)+1):\n",
    "        if i%b==0:\n",
    "            isprime=False\n",
    "            break\n",
    "if isprime:\n",
    "    if (isprime+2)==isprime:\n",
    "        print(isprime,isprime+2)"
   ]
  },
  {
   "cell_type": "code",
   "execution_count": null,
   "id": "87ed64e3-ddd9-45a0-9991-3f3656c4a320",
   "metadata": {},
   "outputs": [],
   "source": []
  }
 ],
 "metadata": {
  "kernelspec": {
   "display_name": "Python 3 (ipykernel)",
   "language": "python",
   "name": "python3"
  },
  "language_info": {
   "codemirror_mode": {
    "name": "ipython",
    "version": 3
   },
   "file_extension": ".py",
   "mimetype": "text/x-python",
   "name": "python",
   "nbconvert_exporter": "python",
   "pygments_lexer": "ipython3",
   "version": "3.12.7"
  }
 },
 "nbformat": 4,
 "nbformat_minor": 5
}
