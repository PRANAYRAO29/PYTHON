{
 "cells": [
  {
   "cell_type": "code",
   "execution_count": 1,
   "id": "d21e39e6-dead-4432-8958-2f9eb85ffd10",
   "metadata": {},
   "outputs": [],
   "source": [
    "def perfect_number(x):\n",
    "    summ=0\n",
    "    for i in range(1,x):\n",
    "        if x%i==0:\n",
    "            summ+=i\n",
    "    if summ==x:\n",
    "        return True\n",
    "    else:\n",
    "        return False"
   ]
  },
  {
   "cell_type": "code",
   "execution_count": 3,
   "id": "dae38a28-032c-46bf-9413-9e023344d4d6",
   "metadata": {},
   "outputs": [
    {
     "data": {
      "text/plain": [
       "False"
      ]
     },
     "execution_count": 3,
     "metadata": {},
     "output_type": "execute_result"
    }
   ],
   "source": [
    "perfect_number(7)"
   ]
  },
  {
   "cell_type": "code",
   "execution_count": 6,
   "id": "a2ebee3a-c8c8-41e6-93e3-0725ad4265d0",
   "metadata": {},
   "outputs": [],
   "source": [
    "def primeinrange(a,b):\n",
    "    for i in range(a,b+1):\n",
    "        for j in range(2,i):\n",
    "            if i%j==0:\n",
    "                break\n",
    "            else:\n",
    "                print(i)\n",
    "                break"
   ]
  },
  {
   "cell_type": "code",
   "execution_count": 7,
   "id": "b773732d-379b-42a1-b94e-50d9090f9e26",
   "metadata": {},
   "outputs": [
    {
     "name": "stdout",
     "output_type": "stream",
     "text": [
      "3\n",
      "5\n",
      "7\n",
      "9\n",
      "11\n",
      "13\n",
      "15\n"
     ]
    }
   ],
   "source": [
    "primeinrange(3,15)"
   ]
  },
  {
   "cell_type": "markdown",
   "id": "60725302-a59e-4a29-81c6-3783c9a1a222",
   "metadata": {},
   "source": [
    "## Write a Python function to check whether a given string is a palindrome"
   ]
  },
  {
   "cell_type": "code",
   "execution_count": null,
   "id": "b0c72dc0-5f09-4d35-8116-dda800d19958",
   "metadata": {},
   "outputs": [],
   "source": []
  }
 ],
 "metadata": {
  "kernelspec": {
   "display_name": "Python 3 (ipykernel)",
   "language": "python",
   "name": "python3"
  },
  "language_info": {
   "codemirror_mode": {
    "name": "ipython",
    "version": 3
   },
   "file_extension": ".py",
   "mimetype": "text/x-python",
   "name": "python",
   "nbconvert_exporter": "python",
   "pygments_lexer": "ipython3",
   "version": "3.12.7"
  }
 },
 "nbformat": 4,
 "nbformat_minor": 5
}
