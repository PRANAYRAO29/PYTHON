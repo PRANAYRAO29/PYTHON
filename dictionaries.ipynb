{
 "cells": [
  {
   "cell_type": "markdown",
   "id": "f1f2424a-ce05-4c6d-b645-a0ead780f63a",
   "metadata": {},
   "source": [
    "# Dictionaries\n",
    "- it is a mapping data type and mutable data type.\n",
    "- consists of key and value pairs seperated by : and enclosed by { }.\n",
    "- keys are unique and values can be duplicate.\n",
    "- keys are immutable , values are mutable.\n",
    "- syntax={key:value}"
   ]
  },
  {
   "cell_type": "code",
   "execution_count": 15,
   "id": "736fb386-ea18-4a26-9f8c-f7af45e46aa1",
   "metadata": {},
   "outputs": [
    {
     "name": "stdout",
     "output_type": "stream",
     "text": [
      "<class 'dict'>\n"
     ]
    }
   ],
   "source": [
    "#create empty dictionary\n",
    "d1={ }\n",
    "print(type(d1))"
   ]
  },
  {
   "cell_type": "code",
   "execution_count": 16,
   "id": "feb00bde-a0ff-4926-ac8c-c28443be6666",
   "metadata": {},
   "outputs": [
    {
     "name": "stdout",
     "output_type": "stream",
     "text": [
      "<class 'dict'>\n"
     ]
    }
   ],
   "source": [
    "d2=dict()\n",
    "print(type(d2))"
   ]
  },
  {
   "cell_type": "code",
   "execution_count": 17,
   "id": "8b0adea6-225e-453d-8cec-1f39c7960c29",
   "metadata": {},
   "outputs": [
    {
     "data": {
      "text/plain": [
       "{'a': 123, 'z': 456}"
      ]
     },
     "execution_count": 17,
     "metadata": {},
     "output_type": "execute_result"
    }
   ],
   "source": [
    "d3={'a':123,'z':456}\n",
    "d3"
   ]
  },
  {
   "cell_type": "code",
   "execution_count": 18,
   "id": "6a68e1e6-e41c-4e3b-a688-11645884f950",
   "metadata": {},
   "outputs": [
    {
     "data": {
      "text/plain": [
       "{23: 'hi', 456: 'hello'}"
      ]
     },
     "execution_count": 18,
     "metadata": {},
     "output_type": "execute_result"
    }
   ],
   "source": [
    "d4={23:'hi',456:'hello'}\n",
    "d4"
   ]
  },
  {
   "cell_type": "code",
   "execution_count": 19,
   "id": "5975ba31-fec0-46df-9b92-55e94591f93e",
   "metadata": {},
   "outputs": [
    {
     "name": "stdout",
     "output_type": "stream",
     "text": [
      "['hyderabad', 'pune', 'bangalore', 'chennai']\n",
      "pune\n"
     ]
    }
   ],
   "source": [
    "s={'name':\"pranay\",\n",
    "   'dob':2004,\n",
    "   'place':[\"hyderabad\",\"pune\",\"bangalore\",\"chennai\"]}\n",
    "print(s['place'])\n",
    "print(s['place'][1])"
   ]
  },
  {
   "cell_type": "code",
   "execution_count": 20,
   "id": "cb8b9e5e-a2e7-46e4-a564-e0f20a4f7e03",
   "metadata": {},
   "outputs": [
    {
     "data": {
      "text/plain": [
       "dict_keys(['name', 'dob', 'place'])"
      ]
     },
     "execution_count": 20,
     "metadata": {},
     "output_type": "execute_result"
    }
   ],
   "source": [
    "s.keys()"
   ]
  },
  {
   "cell_type": "code",
   "execution_count": 21,
   "id": "d91aa819-2bf1-4d02-bc1c-835a47be02ed",
   "metadata": {},
   "outputs": [
    {
     "data": {
      "text/plain": [
       "dict_values(['pranay', 2004, ['hyderabad', 'pune', 'bangalore', 'chennai']])"
      ]
     },
     "execution_count": 21,
     "metadata": {},
     "output_type": "execute_result"
    }
   ],
   "source": [
    "s.values()"
   ]
  },
  {
   "cell_type": "code",
   "execution_count": 22,
   "id": "79acc53e-6ddc-47a4-ba17-c90c9bd0b837",
   "metadata": {},
   "outputs": [
    {
     "data": {
      "text/plain": [
       "dict_items([('name', 'pranay'), ('dob', 2004), ('place', ['hyderabad', 'pune', 'bangalore', 'chennai'])])"
      ]
     },
     "execution_count": 22,
     "metadata": {},
     "output_type": "execute_result"
    }
   ],
   "source": [
    "s.items()"
   ]
  },
  {
   "cell_type": "code",
   "execution_count": 23,
   "id": "3c57b09e-c2dd-49c2-963c-c6afafd49dac",
   "metadata": {},
   "outputs": [
    {
     "name": "stdout",
     "output_type": "stream",
     "text": [
      "{'name': 'pranay', 'dob': 2004, 'place': ['hyderabad', 'pune', 'bangalore', 'chennai'], 'id': 23847}\n"
     ]
    }
   ],
   "source": [
    "s['id']=23847 #to add a value\n",
    "print(s)"
   ]
  },
  {
   "cell_type": "code",
   "execution_count": 24,
   "id": "34eb7319-c61d-426b-ab81-a259f5fbf10e",
   "metadata": {},
   "outputs": [],
   "source": [
    "s.update({'location':\"kphb\",'pin':32245}) #to add multiple values "
   ]
  },
  {
   "cell_type": "code",
   "execution_count": 25,
   "id": "c931517e-7930-498f-88fd-70b89c5a31bd",
   "metadata": {},
   "outputs": [
    {
     "data": {
      "text/plain": [
       "{'name': 'pranay',\n",
       " 'dob': 2004,\n",
       " 'place': ['hyderabad', 'pune', 'bangalore', 'chennai'],\n",
       " 'id': 23847,\n",
       " 'location': 'kphb',\n",
       " 'pin': 32245}"
      ]
     },
     "execution_count": 25,
     "metadata": {},
     "output_type": "execute_result"
    }
   ],
   "source": [
    "s"
   ]
  },
  {
   "cell_type": "code",
   "execution_count": 26,
   "id": "b1edb396-e8cd-459a-bb5d-7053dd435f29",
   "metadata": {},
   "outputs": [],
   "source": [
    "s['place'][2]='kukatpally' #to update values"
   ]
  },
  {
   "cell_type": "code",
   "execution_count": 27,
   "id": "e5786877-3475-471a-b173-3c63adf7ae40",
   "metadata": {},
   "outputs": [
    {
     "data": {
      "text/plain": [
       "{'name': 'pranay',\n",
       " 'dob': 2004,\n",
       " 'place': ['hyderabad', 'pune', 'kukatpally', 'chennai'],\n",
       " 'id': 23847,\n",
       " 'location': 'kphb',\n",
       " 'pin': 32245}"
      ]
     },
     "execution_count": 27,
     "metadata": {},
     "output_type": "execute_result"
    }
   ],
   "source": [
    "s"
   ]
  },
  {
   "cell_type": "markdown",
   "id": "ce3d4f53-72b6-40d6-9044-d135b8d27d09",
   "metadata": {},
   "source": [
    "## get()\n",
    "- used to prevent a key error exception,we can use the get() function on a dictionary,\n",
    "- then,if a value is not found for a given key,it returns nothing  instead of an error."
   ]
  },
  {
   "cell_type": "code",
   "execution_count": 28,
   "id": "4e026daa-bce7-4baa-8caf-a88cb8e9ca44",
   "metadata": {},
   "outputs": [],
   "source": [
    "s.get('id')\n",
    "s.get(23847)"
   ]
  },
  {
   "cell_type": "code",
   "execution_count": 31,
   "id": "93d08006-76d4-4769-8036-c5cdc50b4fcf",
   "metadata": {},
   "outputs": [
    {
     "data": {
      "text/plain": [
       "'pranay'"
      ]
     },
     "execution_count": 31,
     "metadata": {},
     "output_type": "execute_result"
    }
   ],
   "source": [
    "s={'name':\"pranay\",\n",
    "   'dob':2004,\n",
    "   'place':[\"hyderabad\",\"pune\",\"bangalore\",\"chennai\"]}\n",
    "s.get('name')"
   ]
  },
  {
   "cell_type": "markdown",
   "id": "30ae9a0d-1226-4a8b-a3d0-be600e2ce9e6",
   "metadata": {},
   "source": [
    "## some common operations only on keys.\n",
    "- in\n",
    "- not in\n",
    "- ==\n",
    "- !="
   ]
  },
  {
   "cell_type": "code",
   "execution_count": 80,
   "id": "2e2e7250-7947-415d-948a-1f842cdd4b04",
   "metadata": {},
   "outputs": [
    {
     "data": {
      "text/plain": [
       "True"
      ]
     },
     "execution_count": 80,
     "metadata": {},
     "output_type": "execute_result"
    }
   ],
   "source": [
    "'name' in s"
   ]
  },
  {
   "cell_type": "code",
   "execution_count": 81,
   "id": "2bacf6b0-28d4-4b33-a5bc-4a821e73e276",
   "metadata": {},
   "outputs": [
    {
     "data": {
      "text/plain": [
       "True"
      ]
     },
     "execution_count": 81,
     "metadata": {},
     "output_type": "execute_result"
    }
   ],
   "source": [
    "'NAME' not in s"
   ]
  },
  {
   "cell_type": "code",
   "execution_count": 82,
   "id": "8e045600-c2d5-418a-ad71-f22ae8ca5fa1",
   "metadata": {},
   "outputs": [
    {
     "data": {
      "text/plain": [
       "False"
      ]
     },
     "execution_count": 82,
     "metadata": {},
     "output_type": "execute_result"
    }
   ],
   "source": [
    "s==d4"
   ]
  },
  {
   "cell_type": "markdown",
   "id": "4179f71e-9065-4b0a-84d9-9afca3aca8d7",
   "metadata": {},
   "source": [
    "# Removing values in a dictionary"
   ]
  },
  {
   "cell_type": "markdown",
   "id": "0bad32e8-f0e7-4f7f-a2f7-648f2b77ca9b",
   "metadata": {},
   "source": [
    "## Pop()\n",
    "- pop is used to remove key-value pair."
   ]
  },
  {
   "cell_type": "code",
   "execution_count": 83,
   "id": "28bbebf2-3a3e-461e-99af-dfee3caed00e",
   "metadata": {},
   "outputs": [
    {
     "data": {
      "text/plain": [
       "'pranay'"
      ]
     },
     "execution_count": 83,
     "metadata": {},
     "output_type": "execute_result"
    }
   ],
   "source": [
    "s.pop('name')"
   ]
  },
  {
   "cell_type": "code",
   "execution_count": 84,
   "id": "684c944c-393e-4d1e-bdd8-0dc26986e02e",
   "metadata": {},
   "outputs": [
    {
     "data": {
      "text/plain": [
       "{'dob': 2004,\n",
       " 'place': ['hyderabad', 'pune', 'kukatpally', 'chennai'],\n",
       " 'id': 23847,\n",
       " 'location': 'kphb',\n",
       " 'pin': 32245}"
      ]
     },
     "execution_count": 84,
     "metadata": {},
     "output_type": "execute_result"
    }
   ],
   "source": [
    "s"
   ]
  },
  {
   "cell_type": "markdown",
   "id": "0df2183b-e399-43ab-a354-dad61f7a7ad0",
   "metadata": {},
   "source": [
    "## PopItem()\n",
    "- It is used to delete the last item in a dictionary."
   ]
  },
  {
   "cell_type": "code",
   "execution_count": 85,
   "id": "6ce38e9e-0256-4a4c-9b2f-55adaec5fd47",
   "metadata": {},
   "outputs": [
    {
     "data": {
      "text/plain": [
       "('pin', 32245)"
      ]
     },
     "execution_count": 85,
     "metadata": {},
     "output_type": "execute_result"
    }
   ],
   "source": [
    "s.popitem()"
   ]
  },
  {
   "cell_type": "code",
   "execution_count": 86,
   "id": "e4448bec-23e2-4778-a764-dd449c9db5b1",
   "metadata": {},
   "outputs": [
    {
     "data": {
      "text/plain": [
       "{'dob': 2004,\n",
       " 'place': ['hyderabad', 'pune', 'kukatpally', 'chennai'],\n",
       " 'id': 23847,\n",
       " 'location': 'kphb'}"
      ]
     },
     "execution_count": 86,
     "metadata": {},
     "output_type": "execute_result"
    }
   ],
   "source": [
    "s"
   ]
  },
  {
   "cell_type": "markdown",
   "id": "5aa4a8a2-9c55-40c4-8489-8dbfa3783b2d",
   "metadata": {},
   "source": [
    "## Del()\n",
    "- to delete an entire dictionary."
   ]
  },
  {
   "cell_type": "code",
   "execution_count": 87,
   "id": "77e06037-602a-4786-aa56-40bb67da88ff",
   "metadata": {},
   "outputs": [],
   "source": [
    "del s['place'][2]"
   ]
  },
  {
   "cell_type": "code",
   "execution_count": 88,
   "id": "9110dc7c-00f0-4a34-9ef6-421db5fedc02",
   "metadata": {},
   "outputs": [
    {
     "data": {
      "text/plain": [
       "{'dob': 2004,\n",
       " 'place': ['hyderabad', 'pune', 'chennai'],\n",
       " 'id': 23847,\n",
       " 'location': 'kphb'}"
      ]
     },
     "execution_count": 88,
     "metadata": {},
     "output_type": "execute_result"
    }
   ],
   "source": [
    "s"
   ]
  },
  {
   "cell_type": "code",
   "execution_count": 89,
   "id": "f79a451e-cc1b-47cf-8353-414a797477c7",
   "metadata": {},
   "outputs": [],
   "source": [
    "# del s"
   ]
  },
  {
   "cell_type": "code",
   "execution_count": 90,
   "id": "0d9c5f03-be7a-406a-b335-565916a85418",
   "metadata": {},
   "outputs": [
    {
     "data": {
      "text/plain": [
       "{'dob': 2004,\n",
       " 'place': ['hyderabad', 'pune', 'chennai'],\n",
       " 'id': 23847,\n",
       " 'location': 'kphb'}"
      ]
     },
     "execution_count": 90,
     "metadata": {},
     "output_type": "execute_result"
    }
   ],
   "source": [
    "s"
   ]
  },
  {
   "cell_type": "markdown",
   "id": "e7eea318-8678-4b13-b672-093da0d22a37",
   "metadata": {},
   "source": [
    "# some dictionary methods\n",
    "- clear\n",
    "- fromkeys\n",
    "- zip"
   ]
  },
  {
   "cell_type": "markdown",
   "id": "cfdda1e8-972f-4cda-9ef7-bd0bf86c1f10",
   "metadata": {},
   "source": [
    "## i.clear()\n",
    "- makes dictionary empty."
   ]
  },
  {
   "cell_type": "code",
   "execution_count": 91,
   "id": "f7a23871-2570-47e0-bef9-2c5c2e6823ed",
   "metadata": {},
   "outputs": [
    {
     "data": {
      "text/plain": [
       "{}"
      ]
     },
     "execution_count": 91,
     "metadata": {},
     "output_type": "execute_result"
    }
   ],
   "source": [
    "s.clear()\n",
    "s"
   ]
  },
  {
   "cell_type": "markdown",
   "id": "aed61aa2-6efb-4af0-b872-047168664c53",
   "metadata": {},
   "source": [
    "## ii.fromkeys:\n",
    "-  used to map the value to keys"
   ]
  },
  {
   "cell_type": "code",
   "execution_count": 65,
   "id": "d63edd20-8244-499f-b232-7ef2a163336b",
   "metadata": {},
   "outputs": [
    {
     "data": {
      "text/plain": [
       "{'a': 10, 'b': 10, 'c': 10, 'd': 10}"
      ]
     },
     "execution_count": 65,
     "metadata": {},
     "output_type": "execute_result"
    }
   ],
   "source": [
    "keys=['a','b','c','d']\n",
    "values=10\n",
    "sd=dict.fromkeys(keys,values)\n",
    "sd"
   ]
  },
  {
   "cell_type": "markdown",
   "id": "4e625ff8-41f9-4d1b-bb82-f3fefd207738",
   "metadata": {},
   "source": [
    "## iii.zip\n",
    "- used to assign values seperately."
   ]
  },
  {
   "cell_type": "code",
   "execution_count": 7,
   "id": "60d6baa6-0eff-4a6f-8be7-994ad11d8fa7",
   "metadata": {},
   "outputs": [
    {
     "data": {
      "text/plain": [
       "{'a': 1, 'b': 2, 'c': 3, 'd': 4}"
      ]
     },
     "execution_count": 7,
     "metadata": {},
     "output_type": "execute_result"
    }
   ],
   "source": [
    "keys=['a','b','c','d']\n",
    "values=[1,2,3,4,5]\n",
    "sd=dict(zip(keys,values))\n",
    "sd"
   ]
  },
  {
   "cell_type": "code",
   "execution_count": null,
   "id": "7df8f105-abbc-4d58-818f-f5824c0b4327",
   "metadata": {},
   "outputs": [],
   "source": []
  },
  {
   "cell_type": "code",
   "execution_count": 9,
   "id": "f06a37f0-68f5-4323-ad4c-976826274b04",
   "metadata": {},
   "outputs": [
    {
     "data": {
      "text/plain": [
       "{'a': 'aa', 'b': 'bb', 'c': 'cc', 'd': 'dd'}"
      ]
     },
     "execution_count": 9,
     "metadata": {},
     "output_type": "execute_result"
    }
   ],
   "source": [
    "x={i:i*2 for i in sd}\n",
    "x"
   ]
  },
  {
   "cell_type": "code",
   "execution_count": 10,
   "id": "c4d63b07-723c-4d4a-b144-6fbe5134f321",
   "metadata": {},
   "outputs": [
    {
     "data": {
      "text/plain": [
       "[2, 4]"
      ]
     },
     "execution_count": 10,
     "metadata": {},
     "output_type": "execute_result"
    }
   ],
   "source": [
    "x=[1,2,3,4,5]\n",
    "z=[i for i in x if i%2==0]\n",
    "z"
   ]
  },
  {
   "cell_type": "code",
   "execution_count": 14,
   "id": "51cff348-b3b5-441b-8517-7cb4667d7bd4",
   "metadata": {},
   "outputs": [
    {
     "data": {
      "text/plain": [
       "[5, 6, 7]"
      ]
     },
     "execution_count": 14,
     "metadata": {},
     "output_type": "execute_result"
    }
   ],
   "source": [
    "l=list([5,6,7])\n",
    "l"
   ]
  },
  {
   "cell_type": "code",
   "execution_count": null,
   "id": "49c841a9-b704-4b42-b779-79ab3f410803",
   "metadata": {},
   "outputs": [],
   "source": []
  }
 ],
 "metadata": {
  "kernelspec": {
   "display_name": "Python 3 (ipykernel)",
   "language": "python",
   "name": "python3"
  },
  "language_info": {
   "codemirror_mode": {
    "name": "ipython",
    "version": 3
   },
   "file_extension": ".py",
   "mimetype": "text/x-python",
   "name": "python",
   "nbconvert_exporter": "python",
   "pygments_lexer": "ipython3",
   "version": "3.12.7"
  }
 },
 "nbformat": 4,
 "nbformat_minor": 5
}
