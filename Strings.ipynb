{
 "cells": [
  {
   "cell_type": "markdown",
   "id": "83abf09a-38bb-4994-8386-e9f10a6d239e",
   "metadata": {},
   "source": [
    "# STRINGS\n",
    "- It is a collection of characters.\n",
    "- They are Immutable.Once created we cannot change/update.\n",
    "- It includes alphabets,symbols,numbers,special characters etc...\n",
    "- are written in ' ' or \" \" or \"\"\" ''' ''' \"\"\" or\"\"\" \"\"\" .\n",
    "- ' ' used for single words.\n",
    "- \" \" used for multiple words\n",
    "- \"\"\" \"\"\" or ''' ''' used for storing multiple lines."
   ]
  },
  {
   "cell_type": "code",
   "execution_count": 2,
   "id": "43e42e2f-65ef-426c-a38e-ff15749402b5",
   "metadata": {},
   "outputs": [
    {
     "name": "stdout",
     "output_type": "stream",
     "text": [
      "hi\n",
      "<class 'str'>\n"
     ]
    }
   ],
   "source": [
    "a='hi'\n",
    "print(a)\n",
    "print(type(a))"
   ]
  },
  {
   "cell_type": "code",
   "execution_count": 1,
   "id": "80ae3f1c-bc11-43d3-a5e9-7c5fab114d50",
   "metadata": {},
   "outputs": [
    {
     "name": "stdout",
     "output_type": "stream",
     "text": [
      "hi inno\n",
      "<class 'str'>\n"
     ]
    }
   ],
   "source": [
    "b=\"hi inno\"\n",
    "'''sdifhsiufhsiuvbsdufbgasdjv'''\n",
    "print(b)\n",
    "print(type(b))"
   ]
  },
  {
   "cell_type": "markdown",
   "id": "3767e6b7-89f9-4b75-84fa-63f05c568b87",
   "metadata": {},
   "source": [
    "## String Indexing\n",
    "- index starts from 0\n",
    "- index will represeent what is the position of elements.\n",
    "- 2 types of indexing\n",
    "    - positive indexing- from starting 0\n",
    "    - negative indexing(or) Reverse Indexing- from ending -1"
   ]
  },
  {
   "cell_type": "code",
   "execution_count": 2,
   "id": "1d736fb9-a708-40c7-9703-180fbca14e60",
   "metadata": {},
   "outputs": [
    {
     "name": "stdout",
     "output_type": "stream",
     "text": [
      "o\n",
      "o\n"
     ]
    }
   ],
   "source": [
    "A=\"Hello Python\"\n",
    "print(A[-2])\n",
    "print(A[10])"
   ]
  },
  {
   "cell_type": "markdown",
   "id": "4cc43766-363f-45f1-a25b-ef3b14dafc16",
   "metadata": {},
   "source": [
    "## String Slicing\n",
    "- it is used to extract a portion of a string.\n",
    "- there are two types of slicing they are positive and negative\n",
    "- syntax=var_name[index no]\n",
    "- Syntax=var_name[start:stop]stop should be of +1 that to be printed\n",
    "- syntax=var_name[start:stop:step] steps are used to skip the number of steps from the strating"
   ]
  },
  {
   "cell_type": "code",
   "execution_count": 5,
   "id": "744d97c0-4e19-4b10-ad7d-477ff7d93ed3",
   "metadata": {},
   "outputs": [
    {
     "name": "stdout",
     "output_type": "stream",
     "text": [
      "thon\n",
      "thon\n",
      "o pyth\n",
      "hl\n",
      "nohtyp olleh\n"
     ]
    }
   ],
   "source": [
    "a=\"hello python\"\n",
    "print(a[8:])\n",
    "print(a[-4:])\n",
    "print(a[-8:-2])\n",
    "print(a[:6:3])\n",
    "print(a[::-1])"
   ]
  },
  {
   "cell_type": "code",
   "execution_count": 6,
   "id": "e1a84888-41d1-4bf8-a8d4-1edca9ef1547",
   "metadata": {},
   "outputs": [
    {
     "name": "stdout",
     "output_type": "stream",
     "text": [
      "hlo\n",
      "hlopto\n",
      "hello p\n"
     ]
    }
   ],
   "source": [
    "print(a[:5:2])\n",
    "print(a[::2])\n",
    "print(a[:-5])"
   ]
  },
  {
   "cell_type": "code",
   "execution_count": 6,
   "id": "6822f245-2f0a-4b01-8877-0d198cb3de1b",
   "metadata": {},
   "outputs": [
    {
     "name": "stdout",
     "output_type": "stream",
     "text": [
      "n\n",
      "a\n",
      "Pranay Rao\n",
      "Rao\n",
      "Pranay\n",
      "Pranay\n",
      "Rao\n",
      "yRo\n",
      "narP\n",
      "oaR yanarP\n",
      "\n"
     ]
    }
   ],
   "source": [
    "z=\"Pranay Rao\"\n",
    "print(z[3])\n",
    "print(z[-2])\n",
    "print(z[:])\n",
    "print(z[7:])\n",
    "print(z[:6])\n",
    "print(z[:6:1])\n",
    "print(z[-3:])\n",
    "print(z[-5::2])\n",
    "print(z[-7::-1])\n",
    "print(z[-1::-1])\n",
    "print(z[-1:-3])"
   ]
  },
  {
   "cell_type": "code",
   "execution_count": 8,
   "id": "7fc37e54-b805-4681-8486-d7160454c267",
   "metadata": {},
   "outputs": [
    {
     "name": "stdout",
     "output_type": "stream",
     "text": [
      "Innomatics\n",
      "Research\n",
      "Labs\n"
     ]
    }
   ],
   "source": [
    "a=\"Innomatics Research Labs\"\n",
    "print(a[:-14])\n",
    "print(a[-13:-5])\n",
    "print(a[-4:])"
   ]
  },
  {
   "cell_type": "code",
   "execution_count": 5,
   "id": "62d74853-d07b-418e-9ffe-34bab5fedeb7",
   "metadata": {},
   "outputs": [
    {
     "name": "stdout",
     "output_type": "stream",
     "text": [
      "2\n"
     ]
    }
   ],
   "source": [
    "print((-7)%(3))\n"
   ]
  },
  {
   "cell_type": "markdown",
   "id": "f6a21ea0-1209-4977-bac0-6d3b142c0a35",
   "metadata": {},
   "source": [
    "## STRING METHODS"
   ]
  },
  {
   "cell_type": "markdown",
   "id": "e23f7617-387e-4549-a1af-9a499ee3404e",
   "metadata": {},
   "source": [
    "#### 1.Length function (len()):\n",
    "- to know the length of a string"
   ]
  },
  {
   "cell_type": "code",
   "execution_count": 1,
   "id": "656e6133-3537-4e32-9ad8-2c5a502fc6a9",
   "metadata": {},
   "outputs": [
    {
     "name": "stdout",
     "output_type": "stream",
     "text": [
      "10\n"
     ]
    }
   ],
   "source": [
    "a = \"Pranay Rao\"\n",
    "print(len(a))"
   ]
  },
  {
   "cell_type": "markdown",
   "id": "25767187-77f6-4c4d-82ad-d9795e99ef0e",
   "metadata": {},
   "source": [
    "#### 2.Upper and Lower functions(upper()) and (lower()):\n",
    "- upper converts all characters to capital letters.\n",
    "- lower converts all characters to small letters."
   ]
  },
  {
   "cell_type": "code",
   "execution_count": 10,
   "id": "6307b047-b13e-4943-80fc-abe46bfb6ebc",
   "metadata": {},
   "outputs": [
    {
     "name": "stdout",
     "output_type": "stream",
     "text": [
      "PRANAY RAO\n",
      "pranay rao\n"
     ]
    }
   ],
   "source": [
    "\n",
    "print(a.upper())\n",
    "print(a.lower())"
   ]
  },
  {
   "cell_type": "markdown",
   "id": "db4277b0-2ebf-4e9e-b04e-1ff8b0a9c48d",
   "metadata": {},
   "source": [
    "#### 3.Capitalize():\n",
    "- It changes first letter/character into capital letter."
   ]
  },
  {
   "cell_type": "code",
   "execution_count": 11,
   "id": "372b3a77-146c-402d-a51d-787ffcc7f2aa",
   "metadata": {},
   "outputs": [
    {
     "name": "stdout",
     "output_type": "stream",
     "text": [
      "Pranay rao\n"
     ]
    }
   ],
   "source": [
    "print(a.capitalize())"
   ]
  },
  {
   "cell_type": "markdown",
   "id": "b17a1fee-ed3c-4169-9d3c-261f0e727422",
   "metadata": {},
   "source": [
    "#### 4.Title():\n",
    "- it changes first letter of every word to capital letter."
   ]
  },
  {
   "cell_type": "code",
   "execution_count": 12,
   "id": "6d88bf28-5868-4b68-9a1d-8f13252bdfe0",
   "metadata": {},
   "outputs": [
    {
     "name": "stdout",
     "output_type": "stream",
     "text": [
      "Pranay Rao\n"
     ]
    }
   ],
   "source": [
    "print(a.title())"
   ]
  },
  {
   "cell_type": "markdown",
   "id": "c62af984-1f36-440f-a2e4-53270b61d307",
   "metadata": {},
   "source": [
    "#### 5.Count():\n",
    "- count is used to count sub-strings in a main string."
   ]
  },
  {
   "cell_type": "code",
   "execution_count": 13,
   "id": "b6b5376f-a11d-484e-a5d3-e516cf84d982",
   "metadata": {},
   "outputs": [
    {
     "name": "stdout",
     "output_type": "stream",
     "text": [
      "3\n"
     ]
    }
   ],
   "source": [
    "print(a.count(\"a\"))"
   ]
  },
  {
   "cell_type": "markdown",
   "id": "8f2f6abf-3d9c-4b88-b0f1-c612338843d5",
   "metadata": {},
   "source": [
    "#### 6.startswith():\n",
    "- To check whether a string is starting with specific sub-string."
   ]
  },
  {
   "cell_type": "code",
   "execution_count": 14,
   "id": "7597d19c-697a-4234-bffc-7ee391ea117a",
   "metadata": {},
   "outputs": [
    {
     "name": "stdout",
     "output_type": "stream",
     "text": [
      "True\n"
     ]
    }
   ],
   "source": [
    "print(a.startswith(\"Pr\"))"
   ]
  },
  {
   "cell_type": "markdown",
   "id": "7347ae61-510d-4a51-b32d-6136706bc666",
   "metadata": {},
   "source": [
    "#### 7.endswith():\n",
    "- To check whether a string is ending with specific sub-string."
   ]
  },
  {
   "cell_type": "code",
   "execution_count": 15,
   "id": "2a65a2a2-095a-473d-ac53-432cfb2bcd5e",
   "metadata": {},
   "outputs": [
    {
     "name": "stdout",
     "output_type": "stream",
     "text": [
      "False\n"
     ]
    }
   ],
   "source": [
    "print(a.endswith(\"rao\"))"
   ]
  },
  {
   "cell_type": "markdown",
   "id": "570c735f-94eb-486a-98cf-b3833bccb5f8",
   "metadata": {},
   "source": [
    "#### 8.find() and index():\n",
    "- it is used to get the first occurance of a substring.\n",
    "- find and index perform same function."
   ]
  },
  {
   "cell_type": "code",
   "execution_count": 2,
   "id": "b096c92c-718c-4124-be4f-fa6ec3a8b74e",
   "metadata": {},
   "outputs": [
    {
     "name": "stdout",
     "output_type": "stream",
     "text": [
      "-1\n"
     ]
    },
    {
     "ename": "ValueError",
     "evalue": "substring not found",
     "output_type": "error",
     "traceback": [
      "\u001b[1;31m---------------------------------------------------------------------------\u001b[0m",
      "\u001b[1;31mValueError\u001b[0m                                Traceback (most recent call last)",
      "Cell \u001b[1;32mIn[2], line 2\u001b[0m\n\u001b[0;32m      1\u001b[0m \u001b[38;5;28mprint\u001b[39m(a\u001b[38;5;241m.\u001b[39mfind(\u001b[38;5;124m'\u001b[39m\u001b[38;5;124maan\u001b[39m\u001b[38;5;124m'\u001b[39m))\n\u001b[1;32m----> 2\u001b[0m \u001b[38;5;28mprint\u001b[39m(a\u001b[38;5;241m.\u001b[39mindex(\u001b[38;5;124m'\u001b[39m\u001b[38;5;124maan\u001b[39m\u001b[38;5;124m'\u001b[39m))\n",
      "\u001b[1;31mValueError\u001b[0m: substring not found"
     ]
    }
   ],
   "source": [
    "print(a.find('aan'))\n",
    "print(a.index('aan'))"
   ]
  },
  {
   "cell_type": "markdown",
   "id": "630debbb-0967-4489-91d3-9be42fc22108",
   "metadata": {},
   "source": [
    "#### 9.isdigit():\n",
    "- to check whether a string consists of any numeric values."
   ]
  },
  {
   "cell_type": "code",
   "execution_count": 13,
   "id": "72695422-f2c9-4c5c-8f3a-e28814188cf0",
   "metadata": {},
   "outputs": [
    {
     "data": {
      "text/plain": [
       "True"
      ]
     },
     "execution_count": 13,
     "metadata": {},
     "output_type": "execute_result"
    }
   ],
   "source": [
    "# print(a.isdigit())\n",
    "b=\"12345\"\n",
    "b.isdigit()"
   ]
  },
  {
   "cell_type": "markdown",
   "id": "24659c3d-5c26-47cd-87ab-391d5391084c",
   "metadata": {},
   "source": [
    "#### 10.replace()\n",
    "- It is used to replace any substring with new replacement value."
   ]
  },
  {
   "cell_type": "code",
   "execution_count": 2,
   "id": "567c97b2-e69e-4244-9504-91f0160c9c17",
   "metadata": {},
   "outputs": [
    {
     "name": "stdout",
     "output_type": "stream",
     "text": [
      "aaanay rao\n"
     ]
    },
    {
     "data": {
      "text/plain": [
       "'Pranay rao'"
      ]
     },
     "execution_count": 2,
     "metadata": {},
     "output_type": "execute_result"
    }
   ],
   "source": [
    "a = \"Pranay rao\"\n",
    "print(a.replace(\"Pr\",\"aa\"))\n",
    "a"
   ]
  },
  {
   "cell_type": "markdown",
   "id": "54b127aa-1315-494b-9bd4-9ca6ca86dd87",
   "metadata": {},
   "source": [
    "#### 11.strip()\n",
    "- it is used to remove leading and trailing spaces of the string\n",
    "##### 11.  i.lstrip():\n",
    "- it is used to remove spaces on the left side.\n",
    "##### 11.  ii.rstrip():\n",
    "- It is used to remove spaces on the right side."
   ]
  },
  {
   "cell_type": "code",
   "execution_count": 7,
   "id": "959b28aa-1850-461a-9abe-81562ccab485",
   "metadata": {},
   "outputs": [
    {
     "name": "stdout",
     "output_type": "stream",
     "text": [
      "Pranay \n",
      " Pranay\n",
      "Pranay\n",
      " Pranay \n",
      "Innomatics****Research****Labs\n"
     ]
    }
   ],
   "source": [
    "a=\" Pranay \"\n",
    "print(a.lstrip())\n",
    "print(a.rstrip())\n",
    "print(a.strip())\n",
    "print(a)\n",
    "b=\"*****Innomatics****Research****Labs****\"\n",
    "print(b.strip(\"*\"))"
   ]
  },
  {
   "cell_type": "markdown",
   "id": "f360a0b1-787c-4311-a056-18f1d98a73be",
   "metadata": {},
   "source": [
    "#### 12.split:\n",
    "- splitting a string into sub-strings based on default delimter(space)."
   ]
  },
  {
   "cell_type": "code",
   "execution_count": 2,
   "id": "02624f3e-93f3-460e-8195-fa614fb10905",
   "metadata": {},
   "outputs": [
    {
     "name": "stdout",
     "output_type": "stream",
     "text": [
      "['innomatics', 'research', 'labs']\n",
      "['innom', 'tics rese', 'rch l', 'bs']\n"
     ]
    },
    {
     "data": {
      "text/plain": [
       "['innom', 'tics rese', 'rch l', 'bs']"
      ]
     },
     "execution_count": 2,
     "metadata": {},
     "output_type": "execute_result"
    }
   ],
   "source": [
    "b=\"innomatics research labs\"\n",
    "print(b.split())\n",
    "print(b.split('a'))\n",
    "a=b.split(\"a\")\n",
    "a"
   ]
  },
  {
   "cell_type": "markdown",
   "id": "d8dcce38-5aa1-4ccc-a78c-4339c42a6f2b",
   "metadata": {},
   "source": [
    "### Join\n",
    "- syntax: 'seperator'.join(var)"
   ]
  },
  {
   "cell_type": "code",
   "execution_count": 6,
   "id": "5adc0c0b-e250-406e-a668-4bdb892f9b79",
   "metadata": {},
   "outputs": [
    {
     "name": "stdout",
     "output_type": "stream",
     "text": [
      "i|n|n|o|m|a|t|i|c|s| |r|e|s|e|a|r|c|h| |l|a|b|s\n"
     ]
    }
   ],
   "source": [
    "print(\"|\".join(b))"
   ]
  },
  {
   "cell_type": "markdown",
   "id": "c351b407-5b5c-4e5f-b276-61339f0613b8",
   "metadata": {},
   "source": [
    "# isalpha"
   ]
  },
  {
   "cell_type": "code",
   "execution_count": 4,
   "id": "af7ad6a4-0c01-4669-967c-0211d3efa994",
   "metadata": {},
   "outputs": [
    {
     "data": {
      "text/plain": [
       "True"
      ]
     },
     "execution_count": 4,
     "metadata": {},
     "output_type": "execute_result"
    }
   ],
   "source": [
    "a = \"hello\"\n",
    "a.isalpha()"
   ]
  },
  {
   "cell_type": "markdown",
   "id": "4835b329-2840-4824-95d1-a144ae099bd2",
   "metadata": {},
   "source": [
    "#### 13.delete\n",
    "- it can delete the entire string.\n",
    "- deletion of items from the string is not possible.\n",
    "- del is the keyword."
   ]
  },
  {
   "cell_type": "code",
   "execution_count": 5,
   "id": "1e94e847-490f-4c95-8dda-349b22cc16f0",
   "metadata": {},
   "outputs": [
    {
     "ename": "TypeError",
     "evalue": "'str' object doesn't support item deletion",
     "output_type": "error",
     "traceback": [
      "\u001b[1;31m---------------------------------------------------------------------------\u001b[0m",
      "\u001b[1;31mTypeError\u001b[0m                                 Traceback (most recent call last)",
      "Cell \u001b[1;32mIn[5], line 1\u001b[0m\n\u001b[1;32m----> 1\u001b[0m \u001b[38;5;28;01mdel\u001b[39;00m b[\u001b[38;5;241m1\u001b[39m]\n",
      "\u001b[1;31mTypeError\u001b[0m: 'str' object doesn't support item deletion"
     ]
    }
   ],
   "source": [
    "del b[1]"
   ]
  },
  {
   "cell_type": "code",
   "execution_count": 6,
   "id": "e236ed17-3146-4d49-bf46-6ca65cce8bf1",
   "metadata": {},
   "outputs": [
    {
     "name": "stdout",
     "output_type": "stream",
     "text": [
      "hi inno\n"
     ]
    }
   ],
   "source": [
    "\n",
    "print(b)"
   ]
  },
  {
   "cell_type": "code",
   "execution_count": 7,
   "id": "14f89e5b-b8a8-4f09-bbc1-9fea638c7dc4",
   "metadata": {},
   "outputs": [],
   "source": [
    "del b"
   ]
  },
  {
   "cell_type": "markdown",
   "id": "35cd9b35-e3a2-49b8-a667-2933b624f6af",
   "metadata": {},
   "source": [
    "## .format"
   ]
  },
  {
   "cell_type": "markdown",
   "id": "229152a4-7ed0-4a6e-afbc-8fa9d120c6de",
   "metadata": {},
   "source": [
    "- is used to combine string with values."
   ]
  },
  {
   "cell_type": "code",
   "execution_count": 33,
   "id": "c7465f5d-cf3c-476b-a4f0-d40246efc301",
   "metadata": {},
   "outputs": [
    {
     "data": {
      "text/plain": [
       "'a has 5,b has False,c has 7'"
      ]
     },
     "execution_count": 33,
     "metadata": {},
     "output_type": "execute_result"
    }
   ],
   "source": [
    "a=5\n",
    "b=False\n",
    "c=7\n",
    "\"a has {},b has {},c has {}\".format(a,b,c)"
   ]
  },
  {
   "cell_type": "markdown",
   "id": "c24f1e11-56d7-44a7-b143-7190dd13743d",
   "metadata": {},
   "source": [
    "## String Concatenation"
   ]
  },
  {
   "cell_type": "markdown",
   "id": "1e633c7f-afe7-4216-bffe-f6bd2da81e60",
   "metadata": {},
   "source": [
    "- It is adding  two or more strings"
   ]
  },
  {
   "cell_type": "code",
   "execution_count": 34,
   "id": "2c3000a0-8f15-4edd-bbe0-fe37a5d532ec",
   "metadata": {},
   "outputs": [
    {
     "name": "stdout",
     "output_type": "stream",
     "text": [
      "Hello Pranay\n"
     ]
    }
   ],
   "source": [
    "a=\"Hello\"\n",
    "b=\"Pranay\"\n",
    "print(a+\" \"+b)"
   ]
  },
  {
   "cell_type": "markdown",
   "id": "c5b25acf-bef7-4398-9586-bd2164d641ea",
   "metadata": {},
   "source": [
    "## String Membership"
   ]
  },
  {
   "cell_type": "markdown",
   "id": "be3ff383-1718-4aa6-8871-0a073553cc0c",
   "metadata": {},
   "source": [
    "- It checks whether a value is present in the string."
   ]
  },
  {
   "cell_type": "code",
   "execution_count": 36,
   "id": "7f066412-a230-4498-af9a-9d01b7fbae81",
   "metadata": {},
   "outputs": [
    {
     "name": "stdout",
     "output_type": "stream",
     "text": [
      "True\n",
      "False\n"
     ]
    }
   ],
   "source": [
    "a=\"Pranay\"\n",
    "print('a' in a)\n",
    "print('y' not in a)"
   ]
  },
  {
   "cell_type": "markdown",
   "id": "24702468-0d69-479c-b429-ca57ac1e7eab",
   "metadata": {},
   "source": [
    "##  Type Casting On Strings\n",
    "- converting data type of a value"
   ]
  },
  {
   "cell_type": "code",
   "execution_count": 44,
   "id": "2373783e-607d-49a9-8314-dbf3fcdb4cdc",
   "metadata": {},
   "outputs": [
    {
     "ename": "ValueError",
     "evalue": "could not convert string to float: 'abc'",
     "output_type": "error",
     "traceback": [
      "\u001b[1;31m---------------------------------------------------------------------------\u001b[0m",
      "\u001b[1;31mValueError\u001b[0m                                Traceback (most recent call last)",
      "Cell \u001b[1;32mIn[44], line 2\u001b[0m\n\u001b[0;32m      1\u001b[0m a\u001b[38;5;241m=\u001b[39m\u001b[38;5;124m\"\u001b[39m\u001b[38;5;124mabc\u001b[39m\u001b[38;5;124m\"\u001b[39m\n\u001b[1;32m----> 2\u001b[0m \u001b[38;5;28mfloat\u001b[39m(a)\n",
      "\u001b[1;31mValueError\u001b[0m: could not convert string to float: 'abc'"
     ]
    }
   ],
   "source": [
    "a=\"abc\"\n",
    "float(a)"
   ]
  },
  {
   "cell_type": "code",
   "execution_count": 45,
   "id": "82cf99df-c730-45af-8a62-4329e014795a",
   "metadata": {},
   "outputs": [
    {
     "ename": "ValueError",
     "evalue": "invalid literal for int() with base 10: 'abc'",
     "output_type": "error",
     "traceback": [
      "\u001b[1;31m---------------------------------------------------------------------------\u001b[0m",
      "\u001b[1;31mValueError\u001b[0m                                Traceback (most recent call last)",
      "Cell \u001b[1;32mIn[45], line 1\u001b[0m\n\u001b[1;32m----> 1\u001b[0m \u001b[38;5;28mint\u001b[39m(a)\n",
      "\u001b[1;31mValueError\u001b[0m: invalid literal for int() with base 10: 'abc'"
     ]
    }
   ],
   "source": [
    "int(a)"
   ]
  },
  {
   "cell_type": "code",
   "execution_count": 46,
   "id": "3433e2d5-0a6a-4d9d-a109-b34d4b8357d7",
   "metadata": {},
   "outputs": [
    {
     "ename": "ValueError",
     "evalue": "complex() arg is a malformed string",
     "output_type": "error",
     "traceback": [
      "\u001b[1;31m---------------------------------------------------------------------------\u001b[0m",
      "\u001b[1;31mValueError\u001b[0m                                Traceback (most recent call last)",
      "Cell \u001b[1;32mIn[46], line 1\u001b[0m\n\u001b[1;32m----> 1\u001b[0m \u001b[38;5;28mcomplex\u001b[39m(a)\n",
      "\u001b[1;31mValueError\u001b[0m: complex() arg is a malformed string"
     ]
    }
   ],
   "source": [
    "complex(a)"
   ]
  },
  {
   "cell_type": "code",
   "execution_count": 47,
   "id": "966f345e-b663-4787-9e2f-5b9456c265c9",
   "metadata": {},
   "outputs": [
    {
     "name": "stdout",
     "output_type": "stream",
     "text": [
      "123.0\n"
     ]
    }
   ],
   "source": [
    "a=\"123\"\n",
    "print(float(a))"
   ]
  },
  {
   "cell_type": "code",
   "execution_count": 48,
   "id": "3d82d752-6887-46e3-a556-3b69df0b4057",
   "metadata": {},
   "outputs": [
    {
     "name": "stdout",
     "output_type": "stream",
     "text": [
      "123\n"
     ]
    }
   ],
   "source": [
    "print(int(a))"
   ]
  },
  {
   "cell_type": "code",
   "execution_count": 49,
   "id": "cb1f688b-249c-4b0b-b5c7-46dde9c7437e",
   "metadata": {},
   "outputs": [
    {
     "name": "stdout",
     "output_type": "stream",
     "text": [
      "(123+0j)\n"
     ]
    }
   ],
   "source": [
    "print(complex(a))"
   ]
  },
  {
   "cell_type": "code",
   "execution_count": 57,
   "id": "c40d92cd-ce66-4748-863a-733aa52ae55b",
   "metadata": {},
   "outputs": [
    {
     "name": "stdout",
     "output_type": "stream",
     "text": [
      "123.5\n"
     ]
    }
   ],
   "source": [
    "a=\"123.50\"\n",
    "print(float(a))"
   ]
  },
  {
   "cell_type": "code",
   "execution_count": 58,
   "id": "7d28d8be-9cd7-4248-8a6b-219eb1b9865e",
   "metadata": {},
   "outputs": [
    {
     "name": "stdout",
     "output_type": "stream",
     "text": [
      "(123.5+0j)\n"
     ]
    }
   ],
   "source": [
    "print(complex(a))"
   ]
  },
  {
   "cell_type": "code",
   "execution_count": 59,
   "id": "023a228d-6020-48af-aba5-f609a316a864",
   "metadata": {},
   "outputs": [
    {
     "ename": "ValueError",
     "evalue": "invalid literal for int() with base 10: '123.50'",
     "output_type": "error",
     "traceback": [
      "\u001b[1;31m---------------------------------------------------------------------------\u001b[0m",
      "\u001b[1;31mValueError\u001b[0m                                Traceback (most recent call last)",
      "Cell \u001b[1;32mIn[59], line 1\u001b[0m\n\u001b[1;32m----> 1\u001b[0m \u001b[38;5;28mprint\u001b[39m(\u001b[38;5;28mint\u001b[39m(a))\n",
      "\u001b[1;31mValueError\u001b[0m: invalid literal for int() with base 10: '123.50'"
     ]
    }
   ],
   "source": [
    "print(int(a))"
   ]
  },
  {
   "cell_type": "code",
   "execution_count": 53,
   "id": "3f45a969-734b-45ab-92e6-2a04a31b7267",
   "metadata": {},
   "outputs": [
    {
     "ename": "ValueError",
     "evalue": "invalid literal for int() with base 10: '123+0j'",
     "output_type": "error",
     "traceback": [
      "\u001b[1;31m---------------------------------------------------------------------------\u001b[0m",
      "\u001b[1;31mValueError\u001b[0m                                Traceback (most recent call last)",
      "Cell \u001b[1;32mIn[53], line 2\u001b[0m\n\u001b[0;32m      1\u001b[0m a\u001b[38;5;241m=\u001b[39m\u001b[38;5;124m\"\u001b[39m\u001b[38;5;124m123+0j\u001b[39m\u001b[38;5;124m\"\u001b[39m\n\u001b[1;32m----> 2\u001b[0m \u001b[38;5;28mprint\u001b[39m(\u001b[38;5;28mint\u001b[39m(a))\n",
      "\u001b[1;31mValueError\u001b[0m: invalid literal for int() with base 10: '123+0j'"
     ]
    }
   ],
   "source": [
    "a=\"123+0j\"\n",
    "print(int(a))"
   ]
  },
  {
   "cell_type": "code",
   "execution_count": 55,
   "id": "bd7df2a9-502d-420c-b707-65ada558fa21",
   "metadata": {},
   "outputs": [
    {
     "ename": "ValueError",
     "evalue": "could not convert string to float: '123+0j'",
     "output_type": "error",
     "traceback": [
      "\u001b[1;31m---------------------------------------------------------------------------\u001b[0m",
      "\u001b[1;31mValueError\u001b[0m                                Traceback (most recent call last)",
      "Cell \u001b[1;32mIn[55], line 1\u001b[0m\n\u001b[1;32m----> 1\u001b[0m \u001b[38;5;28mprint\u001b[39m(\u001b[38;5;28mfloat\u001b[39m(a))\n",
      "\u001b[1;31mValueError\u001b[0m: could not convert string to float: '123+0j'"
     ]
    }
   ],
   "source": [
    "print(float(a))"
   ]
  },
  {
   "cell_type": "code",
   "execution_count": 54,
   "id": "ce0a745d-c782-4eb9-925e-2302c87d6d95",
   "metadata": {},
   "outputs": [
    {
     "name": "stdout",
     "output_type": "stream",
     "text": [
      "(123+0j)\n"
     ]
    }
   ],
   "source": [
    "print(complex(a))"
   ]
  },
  {
   "cell_type": "markdown",
   "id": "6d96db12-f23a-467d-aea8-2f38110f4103",
   "metadata": {},
   "source": [
    "# Input Function"
   ]
  },
  {
   "cell_type": "markdown",
   "id": "f939bf93-e65a-4d0e-be8a-f4c1817a55fe",
   "metadata": {},
   "source": [
    "- It is taking input dynamically from the user.\n",
    "- it is an inbuit function in python.\n",
    "- syntax:- x=input()\n",
    "- By default input function holds string data type."
   ]
  },
  {
   "cell_type": "code",
   "execution_count": 62,
   "id": "e572ee7e-c14b-4ca5-a2e9-4c3ced1a1a50",
   "metadata": {},
   "outputs": [
    {
     "name": "stdin",
     "output_type": "stream",
     "text": [
      " pranay\n"
     ]
    },
    {
     "name": "stdout",
     "output_type": "stream",
     "text": [
      "<class 'str'>\n"
     ]
    }
   ],
   "source": [
    "x = input()\n",
    "print(type(x))"
   ]
  },
  {
   "cell_type": "code",
   "execution_count": 65,
   "id": "f5a03bab-ab62-47b0-8164-e060545d052e",
   "metadata": {},
   "outputs": [
    {
     "name": "stdin",
     "output_type": "stream",
     "text": [
      "enter the value: 9898\n"
     ]
    }
   ],
   "source": [
    "a=int(input(\"enter the value:\"))"
   ]
  },
  {
   "cell_type": "code",
   "execution_count": 69,
   "id": "e0acf02d-faac-4046-a415-8bdecdcff0f9",
   "metadata": {},
   "outputs": [
    {
     "name": "stdin",
     "output_type": "stream",
     "text": [
      " 4\n"
     ]
    },
    {
     "name": "stdout",
     "output_type": "stream",
     "text": [
      "4.0\n"
     ]
    }
   ],
   "source": [
    "a=float(input())\n",
    "print(a)"
   ]
  },
  {
   "cell_type": "markdown",
   "id": "bc383403-f53b-468b-893c-58c5dc283281",
   "metadata": {},
   "source": [
    "# Variable Assignment"
   ]
  },
  {
   "cell_type": "code",
   "execution_count": 72,
   "id": "bbdb379a-5e87-483b-b3b0-1392f48ca510",
   "metadata": {},
   "outputs": [
    {
     "data": {
      "text/plain": [
       "5"
      ]
     },
     "execution_count": 72,
     "metadata": {},
     "output_type": "execute_result"
    }
   ],
   "source": [
    "a=5 # single value assignment\n",
    "a # calling"
   ]
  },
  {
   "cell_type": "code",
   "execution_count": 73,
   "id": "37a3af92-074d-489d-80f0-0ea851514404",
   "metadata": {},
   "outputs": [
    {
     "name": "stdout",
     "output_type": "stream",
     "text": [
      "5\n"
     ]
    }
   ],
   "source": [
    "print(a) # printing"
   ]
  },
  {
   "cell_type": "code",
   "execution_count": 74,
   "id": "08342f62-69f0-423d-9f3b-85545547e134",
   "metadata": {},
   "outputs": [
    {
     "data": {
      "text/plain": [
       "(4, 5, 6)"
      ]
     },
     "execution_count": 74,
     "metadata": {},
     "output_type": "execute_result"
    }
   ],
   "source": [
    "a,b,c=4,5,6 #multiple value assignment to multiple variables \n",
    "a,b,c"
   ]
  },
  {
   "cell_type": "markdown",
   "id": "d2493cf5-a6a0-4baf-a311-bcb5a23beeff",
   "metadata": {},
   "source": [
    "# f-String"
   ]
  },
  {
   "cell_type": "markdown",
   "id": "0231daba-694b-4c31-b2b7-33279fd9f944",
   "metadata": {},
   "source": [
    "- formatted string.\n",
    "- here we can write expressions as we cannot write expressions in .format"
   ]
  },
  {
   "cell_type": "code",
   "execution_count": 79,
   "id": "c894e04c-d60d-49a8-b919-dd691350e8f8",
   "metadata": {},
   "outputs": [
    {
     "name": "stdout",
     "output_type": "stream",
     "text": [
      "sum of 4 and 5 is 9\n"
     ]
    }
   ],
   "source": [
    "a=4\n",
    "b=5\n",
    "print(f\"sum of {a} and {b} is {a+b}\")"
   ]
  },
  {
   "cell_type": "code",
   "execution_count": 84,
   "id": "f52cbd65-f6f3-423b-90a7-96784e7ae604",
   "metadata": {},
   "outputs": [
    {
     "name": "stdout",
     "output_type": "stream",
     "text": [
      "sum of 4 and 5 is 9\n",
      "sum of 4 and 5 is 9\n"
     ]
    }
   ],
   "source": [
    "x=3\n",
    "y=5\n",
    "print(\"sum of {} and {} is {}\".format(a,b,a+b))\n",
    "print(f\"sum of {a} and {b} is {a+b}\")"
   ]
  },
  {
   "cell_type": "markdown",
   "id": "83414f76-9693-4f87-89d5-f7f98d5bff00",
   "metadata": {},
   "source": [
    "# eval function"
   ]
  },
  {
   "cell_type": "markdown",
   "id": "66dd59cb-8a41-4587-a8e5-8cc626538eab",
   "metadata": {},
   "source": [
    "- Evaluation of your expression whether it is valid or not."
   ]
  },
  {
   "cell_type": "code",
   "execution_count": 96,
   "id": "b913abcf-5e05-481f-be9f-b985b9d01263",
   "metadata": {},
   "outputs": [
    {
     "name": "stdout",
     "output_type": "stream",
     "text": [
      "11\n"
     ]
    },
    {
     "data": {
      "text/plain": [
       "20"
      ]
     },
     "execution_count": 96,
     "metadata": {},
     "output_type": "execute_result"
    }
   ],
   "source": [
    "x=5\n",
    "y=6\n",
    "print(x+y)\n",
    "eval(\"x+15\")"
   ]
  },
  {
   "cell_type": "code",
   "execution_count": null,
   "id": "9c2d834d-83a7-4d61-ba0d-a45f62dab0af",
   "metadata": {},
   "outputs": [],
   "source": []
  }
 ],
 "metadata": {
  "kernelspec": {
   "display_name": "Python 3 (ipykernel)",
   "language": "python",
   "name": "python3"
  },
  "language_info": {
   "codemirror_mode": {
    "name": "ipython",
    "version": 3
   },
   "file_extension": ".py",
   "mimetype": "text/x-python",
   "name": "python",
   "nbconvert_exporter": "python",
   "pygments_lexer": "ipython3",
   "version": "3.12.7"
  }
 },
 "nbformat": 4,
 "nbformat_minor": 5
}
