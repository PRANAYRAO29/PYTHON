{
 "cells": [
  {
   "cell_type": "markdown",
   "id": "7819de73-7b13-4a23-a433-6530b3b45df9",
   "metadata": {},
   "source": [
    "# SETS\n",
    "- it is an unordered datatype\n",
    "- so we cant do indexing or slicing.\n",
    "- mutable\n",
    "- allows all datatypes but dosent allow duplicates it allows unique values."
   ]
  },
  {
   "cell_type": "markdown",
   "id": "31c47a43-4de1-4dee-b2df-fe863dd4de8c",
   "metadata": {},
   "source": [
    "### Create a empty set"
   ]
  },
  {
   "cell_type": "code",
   "execution_count": 9,
   "id": "93e785dd-1614-4d76-b219-e01b5cf300e7",
   "metadata": {},
   "outputs": [
    {
     "data": {
      "text/plain": [
       "dict"
      ]
     },
     "execution_count": 9,
     "metadata": {},
     "output_type": "execute_result"
    }
   ],
   "source": [
    "s1={ }\n",
    "type(s1)"
   ]
  },
  {
   "cell_type": "code",
   "execution_count": 10,
   "id": "dcfeedea-c946-4470-97cc-a2cfb8196979",
   "metadata": {},
   "outputs": [
    {
     "data": {
      "text/plain": [
       "set()"
      ]
     },
     "execution_count": 10,
     "metadata": {},
     "output_type": "execute_result"
    }
   ],
   "source": [
    "s2=set()\n",
    "type(s2)\n",
    "s2"
   ]
  },
  {
   "cell_type": "code",
   "execution_count": 11,
   "id": "7f17742b-681e-46fd-802e-ebb42925af32",
   "metadata": {},
   "outputs": [
    {
     "data": {
      "text/plain": [
       "{1, 2, 3, 4, 5}"
      ]
     },
     "execution_count": 11,
     "metadata": {},
     "output_type": "execute_result"
    }
   ],
   "source": [
    "s3={1,2,3,4,5,4}\n",
    "type(s3)\n",
    "s3"
   ]
  },
  {
   "cell_type": "code",
   "execution_count": 12,
   "id": "1e172f32-1a05-4f03-be9f-c3924f71ed91",
   "metadata": {},
   "outputs": [
    {
     "ename": "TypeError",
     "evalue": "'int' object is not iterable",
     "output_type": "error",
     "traceback": [
      "\u001b[1;31m---------------------------------------------------------------------------\u001b[0m",
      "\u001b[1;31mTypeError\u001b[0m                                 Traceback (most recent call last)",
      "Cell \u001b[1;32mIn[12], line 1\u001b[0m\n\u001b[1;32m----> 1\u001b[0m s4\u001b[38;5;241m=\u001b[39m\u001b[38;5;28mset\u001b[39m(\u001b[38;5;241m2\u001b[39m)\n\u001b[0;32m      2\u001b[0m \u001b[38;5;28mtype\u001b[39m(s4)\n",
      "\u001b[1;31mTypeError\u001b[0m: 'int' object is not iterable"
     ]
    }
   ],
   "source": [
    "s4=set(2)\n",
    "type(s4)"
   ]
  },
  {
   "cell_type": "code",
   "execution_count": null,
   "id": "cc435b9f-805b-4f2f-a4ef-4173b26df7c2",
   "metadata": {},
   "outputs": [],
   "source": [
    "s5=set({2,3,4,5})\n",
    "type(s5)"
   ]
  },
  {
   "cell_type": "code",
   "execution_count": 13,
   "id": "94e00fdd-300c-4983-8c21-d23b0c649280",
   "metadata": {},
   "outputs": [
    {
     "data": {
      "text/plain": [
       "{'e', 'h', 'l', 'o'}"
      ]
     },
     "execution_count": 13,
     "metadata": {},
     "output_type": "execute_result"
    }
   ],
   "source": [
    "s6=set(\"hello\")\n",
    "type(s6)\n",
    "s6"
   ]
  },
  {
   "cell_type": "code",
   "execution_count": 14,
   "id": "d993159f-41e8-47a7-afe1-ee7d951b05b9",
   "metadata": {},
   "outputs": [
    {
     "data": {
      "text/plain": [
       "{'hello'}"
      ]
     },
     "execution_count": 14,
     "metadata": {},
     "output_type": "execute_result"
    }
   ],
   "source": [
    "s7=set({'hello'})\n",
    "type(s7)\n",
    "s7"
   ]
  },
  {
   "cell_type": "markdown",
   "id": "eb3f6849-6db2-4c6b-86b9-f0c18caf2089",
   "metadata": {},
   "source": [
    "# Add\n",
    "- adds a single element at a random position."
   ]
  },
  {
   "cell_type": "code",
   "execution_count": 15,
   "id": "8da7d873-9b8c-4833-b115-e246ea770ad0",
   "metadata": {},
   "outputs": [
    {
     "data": {
      "text/plain": [
       "{1, 2, 3, 4, 5, 6, 21, 90}"
      ]
     },
     "execution_count": 15,
     "metadata": {},
     "output_type": "execute_result"
    }
   ],
   "source": [
    "sr={1,2,3,4,5,6,90}\n",
    "sr.add(21)\n",
    "sr"
   ]
  },
  {
   "cell_type": "markdown",
   "id": "ee8eedfa-9d1a-4877-894b-4b8d113a95eb",
   "metadata": {},
   "source": [
    "## Update\n",
    "- adds a set of elements at a random positions."
   ]
  },
  {
   "cell_type": "code",
   "execution_count": 16,
   "id": "ab4d352d-9e37-4120-91e1-de2e09b9e747",
   "metadata": {},
   "outputs": [
    {
     "data": {
      "text/plain": [
       "{1, 2, 3, 4, 5, 6, 21, 24, 34, 78, 90}"
      ]
     },
     "execution_count": 16,
     "metadata": {},
     "output_type": "execute_result"
    }
   ],
   "source": [
    "sr={1,2,3,4,5,6,90}\n",
    "sr.update([21,34,78,24])\n",
    "sr"
   ]
  },
  {
   "cell_type": "markdown",
   "id": "02498f8d-ebe3-4b48-8825-647174816eae",
   "metadata": {},
   "source": [
    "# Discard:\n",
    "- it is used to remove elements from a set.\n",
    "- it performs same operations like remove but if the elements doesnt exist in the set.it will not throw an error."
   ]
  },
  {
   "cell_type": "code",
   "execution_count": 19,
   "id": "1b1a46b5-7151-478d-b36a-b4ea730ff9c2",
   "metadata": {},
   "outputs": [
    {
     "data": {
      "text/plain": [
       "{1, 2, 3, 5, 43, 67, 89}"
      ]
     },
     "execution_count": 19,
     "metadata": {},
     "output_type": "execute_result"
    }
   ],
   "source": [
    "sr={1,2,3,4,5,67,43,89}\n",
    "sr.discard(4)\n",
    "sr\n"
   ]
  },
  {
   "cell_type": "markdown",
   "id": "3eca3d78-b169-4f67-a313-5f2d537955d9",
   "metadata": {},
   "source": [
    "# REMOVE:\n",
    "- it is used to remove elements from a set.\n",
    "- it performs same operations like discard but if the elements doesnt exist in the set.it will throw an error."
   ]
  },
  {
   "cell_type": "code",
   "execution_count": 20,
   "id": "3d285c53-0abd-4a7e-89b7-b137dd6ba78e",
   "metadata": {},
   "outputs": [
    {
     "ename": "KeyError",
     "evalue": "200",
     "output_type": "error",
     "traceback": [
      "\u001b[1;31m---------------------------------------------------------------------------\u001b[0m",
      "\u001b[1;31mKeyError\u001b[0m                                  Traceback (most recent call last)",
      "Cell \u001b[1;32mIn[20], line 2\u001b[0m\n\u001b[0;32m      1\u001b[0m sr\u001b[38;5;241m.\u001b[39mremove(\u001b[38;5;241m3\u001b[39m)\n\u001b[1;32m----> 2\u001b[0m sr\u001b[38;5;241m.\u001b[39mremove(\u001b[38;5;241m200\u001b[39m)\n",
      "\u001b[1;31mKeyError\u001b[0m: 200"
     ]
    }
   ],
   "source": [
    "sr.remove(3)\n",
    "sr.remove(200)"
   ]
  },
  {
   "cell_type": "markdown",
   "id": "5cb092c4-41ef-4c1b-9222-e831dd7dd204",
   "metadata": {},
   "source": [
    "# Pop\n",
    "- it is also used to remove the elemnts from a set.\n",
    "- it first displays the item that to be popped up and then removes."
   ]
  },
  {
   "cell_type": "code",
   "execution_count": 22,
   "id": "c5b1d66c-2b7a-494e-846f-a31fbfe00ced",
   "metadata": {},
   "outputs": [
    {
     "data": {
      "text/plain": [
       "1"
      ]
     },
     "execution_count": 22,
     "metadata": {},
     "output_type": "execute_result"
    }
   ],
   "source": [
    "\n",
    "sr.pop()"
   ]
  },
  {
   "cell_type": "markdown",
   "id": "c15090b3-a571-44b0-8eb8-8a671e834bc6",
   "metadata": {},
   "source": [
    "# Clear\n",
    "- to delete the all elemnts from the set."
   ]
  },
  {
   "cell_type": "code",
   "execution_count": 23,
   "id": "505f06ed-3101-4ece-b7e3-48d02c252e30",
   "metadata": {},
   "outputs": [
    {
     "data": {
      "text/plain": [
       "set()"
      ]
     },
     "execution_count": 23,
     "metadata": {},
     "output_type": "execute_result"
    }
   ],
   "source": [
    "sr.clear()\n",
    "sr"
   ]
  },
  {
   "cell_type": "markdown",
   "id": "486cba48-b5dd-4b0f-9845-f9ecfecf1383",
   "metadata": {},
   "source": [
    "# ALL OPERATIONS ON SET\n",
    "## LENGTH\n",
    "## MAXX\n",
    "## MINN\n",
    "## MEMBERSHIP\n",
    "## SUM"
   ]
  },
  {
   "cell_type": "code",
   "execution_count": 24,
   "id": "038fe3f3-54c3-40bf-83bc-b764c6e19cc6",
   "metadata": {},
   "outputs": [
    {
     "name": "stdout",
     "output_type": "stream",
     "text": [
      "8\n",
      "89\n",
      "1\n",
      "True\n",
      "117\n"
     ]
    }
   ],
   "source": [
    "ab={1,2,3,4,5,6,7,89}\n",
    "print(len(ab))\n",
    "print(max(ab))\n",
    "print(min(ab))\n",
    "print(3 in ab)\n",
    "print(sum(ab))"
   ]
  },
  {
   "cell_type": "markdown",
   "id": "84081330-18ea-4d14-a68f-bc2e75513744",
   "metadata": {},
   "source": [
    "# SET OPERATIONS\n",
    "- UNION\n",
    "- INTERSECTION\n",
    "- DIFFERENCE"
   ]
  },
  {
   "cell_type": "markdown",
   "id": "67374c5a-ca04-418c-ad6e-4fde8cac851a",
   "metadata": {},
   "source": [
    "### UNION\n",
    "- all the elements once will be stored."
   ]
  },
  {
   "cell_type": "markdown",
   "id": "1037b1d0-d46a-4509-badc-5ef624db6829",
   "metadata": {},
   "source": [
    "## Intersection\n",
    "- all common elements."
   ]
  },
  {
   "cell_type": "markdown",
   "id": "f73ae571-084e-420b-8e82-7a17421e76ca",
   "metadata": {},
   "source": [
    "## difference \n",
    "- only unique elements from the lhs of the difference"
   ]
  },
  {
   "cell_type": "code",
   "execution_count": 25,
   "id": "fd86ea8c-7f83-42c4-80eb-2948dd643306",
   "metadata": {},
   "outputs": [
    {
     "name": "stdout",
     "output_type": "stream",
     "text": [
      "{1, 2, 3, 4, 5, 6, 7, 8, 9, 10, 11, 12}\n",
      "{8, 4, 7}\n",
      "{1, 2, 3, 5}\n",
      "{6, 9, 10, 11, 12}\n"
     ]
    }
   ],
   "source": [
    "a={1,2,3,4,5,7,8}\n",
    "b={4,6,7,8,9,10,11,12}\n",
    "print(a.union(b))\n",
    "print(a.intersection(b))\n",
    "print(a.difference(b))\n",
    "print(b.difference(a))"
   ]
  },
  {
   "cell_type": "markdown",
   "id": "e462627d-d7f2-43a6-8a49-6c2c4ad6ebf7",
   "metadata": {},
   "source": [
    "## ISDISJOINT\n",
    "- if both the sets dont have any unique elements then it returns true.\n",
    "- if any element is common in the sets then it returns true"
   ]
  },
  {
   "cell_type": "code",
   "execution_count": 26,
   "id": "25df0291-42bd-4d48-b6e7-b2988a87ed1c",
   "metadata": {},
   "outputs": [
    {
     "data": {
      "text/plain": [
       "True"
      ]
     },
     "execution_count": 26,
     "metadata": {},
     "output_type": "execute_result"
    }
   ],
   "source": [
    "a={1,2,3}\n",
    "b={4,5,6}\n",
    "a.isdisjoint(b)"
   ]
  },
  {
   "cell_type": "code",
   "execution_count": 27,
   "id": "ef8cd338-18e2-43f0-bedf-f6671fce5b35",
   "metadata": {},
   "outputs": [
    {
     "data": {
      "text/plain": [
       "False"
      ]
     },
     "execution_count": 27,
     "metadata": {},
     "output_type": "execute_result"
    }
   ],
   "source": [
    "a={1,2,3}\n",
    "b={3,4,5,6}\n",
    "a.isdisjoint(b)"
   ]
  },
  {
   "cell_type": "markdown",
   "id": "f48e750f-37ba-4fae-9181-b0c480977270",
   "metadata": {},
   "source": [
    "# Frozen Set\n",
    "- if we freeze a set it is not possible to do any operation on the frozen set."
   ]
  },
  {
   "cell_type": "code",
   "execution_count": 28,
   "id": "2e4ec12e-264a-40a6-82b8-5939944beaad",
   "metadata": {},
   "outputs": [
    {
     "name": "stdout",
     "output_type": "stream",
     "text": [
      "<class 'set'>\n"
     ]
    }
   ],
   "source": [
    "sd={1,2,3,4,5}\n",
    "print(type(sd))"
   ]
  },
  {
   "cell_type": "code",
   "execution_count": 29,
   "id": "c7724fd6-02b2-4015-a83a-4c9eefd1a912",
   "metadata": {},
   "outputs": [
    {
     "name": "stdout",
     "output_type": "stream",
     "text": [
      "<class 'frozenset'>\n"
     ]
    }
   ],
   "source": [
    "sf=frozenset(sd)\n",
    "print(type(sf))"
   ]
  },
  {
   "cell_type": "code",
   "execution_count": 30,
   "id": "1a84d41d-22d4-446c-8a31-f25e461db902",
   "metadata": {},
   "outputs": [
    {
     "ename": "AttributeError",
     "evalue": "'frozenset' object has no attribute 'add'",
     "output_type": "error",
     "traceback": [
      "\u001b[1;31m---------------------------------------------------------------------------\u001b[0m",
      "\u001b[1;31mAttributeError\u001b[0m                            Traceback (most recent call last)",
      "Cell \u001b[1;32mIn[30], line 1\u001b[0m\n\u001b[1;32m----> 1\u001b[0m sf\u001b[38;5;241m.\u001b[39madd(\u001b[38;5;241m10\u001b[39m)\n",
      "\u001b[1;31mAttributeError\u001b[0m: 'frozenset' object has no attribute 'add'"
     ]
    }
   ],
   "source": [
    "sf.add(10)"
   ]
  },
  {
   "cell_type": "code",
   "execution_count": null,
   "id": "0cdf36de-ebed-47ac-9b0b-fc11a304b0fa",
   "metadata": {},
   "outputs": [],
   "source": []
  },
  {
   "cell_type": "code",
   "execution_count": 7,
   "id": "ced95d84-9f2b-44c0-856c-38a1e97ce7eb",
   "metadata": {},
   "outputs": [
    {
     "name": "stdin",
     "output_type": "stream",
     "text": [
      " 4534\n"
     ]
    },
    {
     "name": "stdout",
     "output_type": "stream",
     "text": [
      "no\n"
     ]
    }
   ],
   "source": [
    "a=input()\n",
    "c=len(a)\n",
    "sum=0\n",
    "a=int(a)\n",
    "z=a\n",
    "while a>0:\n",
    "    b=a%10\n",
    "    sum=sum+b**c\n",
    "    a=a//10\n",
    "if sum==z:\n",
    "    print(\"armstrong number\")\n",
    "else:\n",
    "    print(\"no\")"
   ]
  },
  {
   "cell_type": "code",
   "execution_count": 9,
   "id": "a91ac0f5-5d86-4af6-974d-4a9c5c809c74",
   "metadata": {},
   "outputs": [
    {
     "name": "stdin",
     "output_type": "stream",
     "text": [
      " 1221\n"
     ]
    },
    {
     "name": "stdout",
     "output_type": "stream",
     "text": [
      "palindrome\n"
     ]
    }
   ],
   "source": [
    "a=int(input())\n",
    "rev=0\n",
    "z=a\n",
    "while a>0:\n",
    "    b=a%10\n",
    "    rev=rev*10+b\n",
    "    a=a//10\n",
    "if rev==z:\n",
    "    print(\"palindrome\")\n",
    "else:\n",
    "    print(\"no\")"
   ]
  },
  {
   "cell_type": "code",
   "execution_count": 17,
   "id": "8d37ff43-4e09-4c77-b0b5-feec3efd52d5",
   "metadata": {},
   "outputs": [
    {
     "name": "stdin",
     "output_type": "stream",
     "text": [
      " 145\n"
     ]
    },
    {
     "name": "stdout",
     "output_type": "stream",
     "text": [
      "strong \n"
     ]
    }
   ],
   "source": [
    "a=int(input())\n",
    "\n",
    "summ=0\n",
    "z=a\n",
    "while a>0:\n",
    "    b=a%10\n",
    "    fact=1\n",
    "    for i in range(1,b+1):\n",
    "        fact*=i\n",
    "    summ=summ+fact\n",
    "    a=a//10  \n",
    "if summ==z:\n",
    "    print(\"strong \")\n",
    "else:\n",
    "    print(\"no\")"
   ]
  },
  {
   "cell_type": "code",
   "execution_count": 21,
   "id": "7f36feb5-f00a-4556-a561-30deca488f7b",
   "metadata": {},
   "outputs": [
    {
     "name": "stdin",
     "output_type": "stream",
     "text": [
      " 5\n"
     ]
    },
    {
     "name": "stdout",
     "output_type": "stream",
     "text": [
      "0 1 1 2 3 5 "
     ]
    }
   ],
   "source": [
    "a=int(input())\n",
    "num1=0\n",
    "num2=1\n",
    "print(num1,end=\" \")\n",
    "print(num2,end=\" \")\n",
    "for i in range(2,a+1):\n",
    "    num3=num1+num2\n",
    "    print(num3,end=\" \")\n",
    "    num1=num2\n",
    "    num2=num3"
   ]
  },
  {
   "cell_type": "code",
   "execution_count": null,
   "id": "5c9f3ace-cbd3-44a0-9356-07f8e2ed8b62",
   "metadata": {},
   "outputs": [],
   "source": []
  }
 ],
 "metadata": {
  "kernelspec": {
   "display_name": "Python 3 (ipykernel)",
   "language": "python",
   "name": "python3"
  },
  "language_info": {
   "codemirror_mode": {
    "name": "ipython",
    "version": 3
   },
   "file_extension": ".py",
   "mimetype": "text/x-python",
   "name": "python",
   "nbconvert_exporter": "python",
   "pygments_lexer": "ipython3",
   "version": "3.12.7"
  }
 },
 "nbformat": 4,
 "nbformat_minor": 5
}
