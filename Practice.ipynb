{
 "cells": [
  {
   "cell_type": "code",
   "execution_count": 1,
   "id": "707b0c35-60ef-4ec6-9001-c15bf17b9708",
   "metadata": {},
   "outputs": [
    {
     "name": "stdout",
     "output_type": "stream",
     "text": [
      "1 \n",
      "1 2 \n",
      "1 2 3 \n",
      "1 2 3 4 \n",
      "1 2 3 4 5 \n",
      "1 2 3 4 5 6 \n",
      "1 2 3 4 5 \n",
      "1 2 3 4 \n",
      "1 2 3 \n",
      "1 2 \n",
      "1 \n"
     ]
    }
   ],
   "source": [
    "a=5\n",
    "b=1\n",
    "for i in range(a+1):\n",
    "    for j in range(i+1):\n",
    "        print(j+b,end=\" \")\n",
    "    print()\n",
    "for i in range(a+1,1,-1):\n",
    "    for j in range(2,i+1):\n",
    "        print(j-b,end=\" \")\n",
    "    print()"
   ]
  },
  {
   "cell_type": "code",
   "execution_count": 3,
   "id": "2064fc90-3af8-4140-9962-455792a25de0",
   "metadata": {},
   "outputs": [
    {
     "name": "stdout",
     "output_type": "stream",
     "text": [
      "8\n"
     ]
    }
   ],
   "source": [
    "a=[3,1,4,9,2]\n",
    "ssum=0\n",
    "for i in range(len(a)):\n",
    "    for j in range(i,len(a)):\n",
    "        sums=a[j]-a[i]\n",
    "        if sums>ssum:\n",
    "            ssum=sums\n",
    "print(ssum)"
   ]
  },
  {
   "cell_type": "code",
   "execution_count": 18,
   "id": "f58d4b57-b2c5-4631-8518-4d566ebda03e",
   "metadata": {},
   "outputs": [
    {
     "name": "stdout",
     "output_type": "stream",
     "text": [
      "* * * * \n",
      "* * * * \n",
      "* * * * \n",
      "* * * * \n"
     ]
    }
   ],
   "source": [
    "for i in range(1,5):\n",
    "    print(\"* \"*4)"
   ]
  },
  {
   "cell_type": "code",
   "execution_count": 8,
   "id": "1cb59bbc-1af0-4f74-b900-8cac6ab47f99",
   "metadata": {},
   "outputs": [
    {
     "name": "stdin",
     "output_type": "stream",
     "text": [
      " 10\n"
     ]
    },
    {
     "name": "stdout",
     "output_type": "stream",
     "text": [
      "* * * * * * * * * * \n",
      "*                 *\n",
      "*                 *\n",
      "*                 *\n",
      "*                 *\n",
      "*                 *\n",
      "*                 *\n",
      "*                 *\n",
      "*                 *\n",
      "* * * * * * * * * * \n"
     ]
    }
   ],
   "source": [
    "a=int(input())\n",
    "for i in range(1,a+1):\n",
    "    if i==1 or i==a:\n",
    "        print(\"* \"*a)\n",
    "    else:\n",
    "        print(\"*\"+\" \"*((2*a)-3)+\"*\")"
   ]
  },
  {
   "cell_type": "code",
   "execution_count": 48,
   "id": "59b2e605-29a3-4e69-9eb9-83101606451c",
   "metadata": {},
   "outputs": [
    {
     "name": "stdin",
     "output_type": "stream",
     "text": [
      " 5\n"
     ]
    },
    {
     "name": "stdout",
     "output_type": "stream",
     "text": [
      "* \n",
      "* * \n",
      "* * * \n",
      "* * * * \n",
      "* * * * * \n"
     ]
    }
   ],
   "source": [
    "a=int(input())\n",
    "for i in range(1,a+1):\n",
    "    print(i*\"* \")"
   ]
  },
  {
   "cell_type": "code",
   "execution_count": 51,
   "id": "900e6ef3-41f3-414a-9d3d-18cd8489ac03",
   "metadata": {},
   "outputs": [
    {
     "name": "stdin",
     "output_type": "stream",
     "text": [
      " 5\n"
     ]
    },
    {
     "name": "stdout",
     "output_type": "stream",
     "text": [
      "        * \n",
      "      * * \n",
      "    * * * \n",
      "  * * * * \n",
      "* * * * * \n"
     ]
    }
   ],
   "source": [
    "a=int(input())\n",
    "for i in range(1,a+1):\n",
    "    print((a-i)*\"  \"+\"* \"*i)"
   ]
  },
  {
   "cell_type": "code",
   "execution_count": 52,
   "id": "8ff18073-8223-464f-978e-64e18b254147",
   "metadata": {},
   "outputs": [
    {
     "name": "stdin",
     "output_type": "stream",
     "text": [
      " 5\n"
     ]
    },
    {
     "name": "stdout",
     "output_type": "stream",
     "text": [
      "    * \n",
      "   * * \n",
      "  * * * \n",
      " * * * * \n",
      "* * * * * \n"
     ]
    }
   ],
   "source": [
    "a=int(input())\n",
    "for i in range(1,a+1):\n",
    "    print((a-i)*\" \"+\"* \"*i)"
   ]
  },
  {
   "cell_type": "code",
   "execution_count": 54,
   "id": "81af0842-dda8-4adb-9fa1-5f7a15db2bf0",
   "metadata": {},
   "outputs": [
    {
     "name": "stdin",
     "output_type": "stream",
     "text": [
      " 5\n"
     ]
    },
    {
     "name": "stdout",
     "output_type": "stream",
     "text": [
      "* * * * \n",
      " * * * \n",
      "  * * \n",
      "   * \n",
      "    \n"
     ]
    }
   ],
   "source": [
    "a=int(input())\n",
    "for i in range(1,a+1):\n",
    "    print((i-1)*\" \"+\"* \"*(a-i))"
   ]
  },
  {
   "cell_type": "code",
   "execution_count": 60,
   "id": "5920d3ca-64e0-4a3b-89fe-124b9466fd81",
   "metadata": {},
   "outputs": [
    {
     "name": "stdin",
     "output_type": "stream",
     "text": [
      " 5\n"
     ]
    },
    {
     "name": "stdout",
     "output_type": "stream",
     "text": [
      "    * \n",
      "   * * \n",
      "  * * * \n",
      " * * * * \n",
      "* * * * * \n",
      " * * * * \n",
      "  * * * \n",
      "   * * \n",
      "    * \n",
      "     \n"
     ]
    }
   ],
   "source": [
    "a=int(input())\n",
    "for i in range(1,a+1):\n",
    "    print(\" \"*(a-i)+\"* \"*i)\n",
    "for j in range(1,a+1):\n",
    "    print(\" \"*j+(a-j)*\"* \")"
   ]
  },
  {
   "cell_type": "code",
   "execution_count": 23,
   "id": "b708c10a-818a-4d8d-8a6e-9d12b8982d22",
   "metadata": {},
   "outputs": [
    {
     "name": "stdin",
     "output_type": "stream",
     "text": [
      " 5\n"
     ]
    },
    {
     "name": "stdout",
     "output_type": "stream",
     "text": [
      "    *\n",
      "   * *\n",
      "  *  *\n",
      " *   *\n",
      "*    *\n"
     ]
    }
   ],
   "source": [
    "a=int(input())\n",
    "for i in range(1,a+1):\n",
    "    if i==1:\n",
    "        space=\" \"*(a-i)\n",
    "        print(space+\"*\")\n",
    "    else:\n",
    "        space=\" \"*(a-i)\n",
    "        print(space+\"* \"+\" \"*(i-2) + \"*\")"
   ]
  },
  {
   "cell_type": "code",
   "execution_count": 1,
   "id": "a8e5fdd9-20ac-4711-8103-2e32d615e937",
   "metadata": {},
   "outputs": [
    {
     "name": "stdin",
     "output_type": "stream",
     "text": [
      " 6\n"
     ]
    },
    {
     "name": "stdout",
     "output_type": "stream",
     "text": [
      "1\n",
      "2\n",
      "3\n",
      "4\n",
      "5\n",
      "6\n"
     ]
    }
   ],
   "source": [
    "n=int(input())\n",
    "i=1\n",
    "while i<=n:\n",
    "    print(i)\n",
    "    i+=1"
   ]
  },
  {
   "cell_type": "code",
   "execution_count": 2,
   "id": "5fd63335-a9d1-478f-b482-773ddeb5eade",
   "metadata": {},
   "outputs": [
    {
     "name": "stdin",
     "output_type": "stream",
     "text": [
      " 4\n",
      " 10\n"
     ]
    },
    {
     "name": "stdout",
     "output_type": "stream",
     "text": [
      "4\n",
      "6\n",
      "8\n"
     ]
    }
   ],
   "source": [
    "n=int(input())\n",
    "m=int(input())\n",
    "while n<m:\n",
    "    if n%2==0:\n",
    "        print(n)\n",
    "    n+=1"
   ]
  },
  {
   "cell_type": "code",
   "execution_count": 4,
   "id": "e0de6d03-489f-43b0-826b-946d45f3c89d",
   "metadata": {},
   "outputs": [
    {
     "name": "stdin",
     "output_type": "stream",
     "text": [
      " 50\n"
     ]
    },
    {
     "name": "stdout",
     "output_type": "stream",
     "text": [
      "1225\n"
     ]
    }
   ],
   "source": [
    "n=int(input())\n",
    "i=1\n",
    "sum=0\n",
    "while i<n:\n",
    "    sum+=i\n",
    "    i+=1\n",
    "print(sum)"
   ]
  },
  {
   "cell_type": "code",
   "execution_count": 1,
   "id": "1352c229-bad1-4f24-9cff-c8455a2bc03c",
   "metadata": {},
   "outputs": [
    {
     "name": "stdin",
     "output_type": "stream",
     "text": [
      " 5\n"
     ]
    },
    {
     "name": "stdout",
     "output_type": "stream",
     "text": [
      "120\n"
     ]
    }
   ],
   "source": [
    "n=int(input())\n",
    "sum=1\n",
    "i=1\n",
    "while n>=i:\n",
    "    sum*=i\n",
    "    i+=1\n",
    "print(sum)"
   ]
  },
  {
   "cell_type": "code",
   "execution_count": 5,
   "id": "98f9a0a4-7dda-426c-bdac-491a7a14461b",
   "metadata": {},
   "outputs": [
    {
     "name": "stdin",
     "output_type": "stream",
     "text": [
      " 45\n"
     ]
    },
    {
     "name": "stdout",
     "output_type": "stream",
     "text": [
      "too low\n"
     ]
    },
    {
     "name": "stdin",
     "output_type": "stream",
     "text": [
      " 45\n"
     ]
    },
    {
     "name": "stdout",
     "output_type": "stream",
     "text": [
      "too low\n"
     ]
    },
    {
     "name": "stdin",
     "output_type": "stream",
     "text": [
      " 50\n"
     ]
    },
    {
     "name": "stdout",
     "output_type": "stream",
     "text": [
      "guess is correct\n",
      "3\n"
     ]
    }
   ],
   "source": [
    "n=50\n",
    "guess=0\n",
    "count=0\n",
    "while n!=guess:\n",
    "    guess=int(input())\n",
    "    if guess>n:\n",
    "        print(\"too high\")\n",
    "    elif guess<n:\n",
    "        print(\"too low\")\n",
    "    count+=1\n",
    "print(\"guess is correct\")\n",
    "print(count)\n",
    "    "
   ]
  },
  {
   "cell_type": "code",
   "execution_count": 9,
   "id": "2597e4a0-488f-4e52-8fc7-77ecee4938ba",
   "metadata": {},
   "outputs": [
    {
     "name": "stdin",
     "output_type": "stream",
     "text": [
      " 4\n",
      " 5\n",
      " 6\n",
      " 0\n"
     ]
    },
    {
     "name": "stdout",
     "output_type": "stream",
     "text": [
      "you guessed it correct\n",
      "4\n"
     ]
    }
   ],
   "source": [
    "secret=0\n",
    "guess=1\n",
    "cout=0\n",
    "while guess!=0:\n",
    "    guess=int(input())\n",
    "    cout+=1\n",
    "print(\"you guessed it correct\")\n",
    "print(cout)"
   ]
  },
  {
   "cell_type": "code",
   "execution_count": 7,
   "id": "2d7d040f-15f3-4e43-9ee5-56edebc4cfca",
   "metadata": {},
   "outputs": [
    {
     "name": "stdout",
     "output_type": "stream",
     "text": [
      "10\n",
      "20\n",
      "30\n",
      "40\n",
      "50\n",
      "60\n"
     ]
    }
   ],
   "source": [
    "lst=[[[10,20,30],[40,50,60]]]\n",
    "for i in lst:\n",
    "    for j in i:\n",
    "        for k in j:\n",
    "            print(k)"
   ]
  },
  {
   "cell_type": "code",
   "execution_count": 23,
   "id": "0ccdb7f8-09f9-4ecf-b74f-ba73f948c7df",
   "metadata": {},
   "outputs": [
    {
     "name": "stdout",
     "output_type": "stream",
     "text": [
      "10\n",
      "20\n",
      "30\n",
      "40\n",
      "50\n",
      "60\n"
     ]
    }
   ],
   "source": [
    "lst=[[[10,20,30],[40,50,60]]]\n",
    "i=0\n",
    "while i<len(lst):\n",
    "    j=0\n",
    "    while j<len(lst[i]):\n",
    "        k=0\n",
    "        while k <len(lst[i][j]):\n",
    "            print(lst[i][j][k])\n",
    "            k+=1\n",
    "        j+=1\n",
    "    i+=1"
   ]
  },
  {
   "cell_type": "code",
   "execution_count": 32,
   "id": "3dac2e07-117e-45e7-9499-2db831cbef75",
   "metadata": {},
   "outputs": [
    {
     "name": "stdout",
     "output_type": "stream",
     "text": [
      "20\n",
      "30\n",
      "20\n",
      "30\n",
      "30\n",
      "40\n",
      "20\n",
      "30\n"
     ]
    }
   ],
   "source": [
    "li=[[[20,30],20,30,[30,40]],[20,30]]\n",
    "i=0\n",
    "while i<len(li):\n",
    "    j=0\n",
    "    while j<len(li[i]):\n",
    "        k=0\n",
    "        if type(li[i][j])==list:\n",
    "            while k<len(li[i][j]):\n",
    "                print(li[i][j][k])\n",
    "                k+=1\n",
    "        else:\n",
    "            print(li[i][j])\n",
    "        j+=1\n",
    "    i+=1"
   ]
  },
  {
   "cell_type": "code",
   "execution_count": null,
   "id": "22dfa09a-6584-457d-a22f-cc11fa368583",
   "metadata": {},
   "outputs": [],
   "source": [
    "i=0\n",
    "while i<len(li):\n",
    "    j=0\n",
    "    while j<len(li[i]):\n",
    "        print(li[i][j])\n",
    "        j+=1\n",
    "    i+=1"
   ]
  },
  {
   "cell_type": "code",
   "execution_count": 35,
   "id": "b08a6dbc-dbc3-4a73-90e8-f67a97b4b407",
   "metadata": {},
   "outputs": [
    {
     "data": {
      "text/plain": [
       "[[26, 51, 93], [19, 64, 91]]"
      ]
     },
     "execution_count": 35,
     "metadata": {},
     "output_type": "execute_result"
    }
   ],
   "source": [
    "import random\n",
    "data=[]\n",
    "b=[]\n",
    "for i in range(3):\n",
    "    var=random.randint(10,100)\n",
    "    b.append(var)\n",
    "i=0\n",
    "w=[]\n",
    "while i<3:\n",
    "    va=random.randint(10,100)\n",
    "    w.append(va)\n",
    "    i+=1\n",
    "data.append(b)\n",
    "data.append(w)\n",
    "data"
   ]
  },
  {
   "cell_type": "code",
   "execution_count": 36,
   "id": "416e2ae4-d65d-41ea-9493-5f720228d5ea",
   "metadata": {},
   "outputs": [
    {
     "data": {
      "text/plain": [
       "[[3, 4, 1], [4, 2, 1], [5, 2, 5]]"
      ]
     },
     "execution_count": 36,
     "metadata": {},
     "output_type": "execute_result"
    }
   ],
   "source": [
    "import random\n",
    "li=[]\n",
    "i=0\n",
    "while i<3:\n",
    "    lii=[]\n",
    "    j=0\n",
    "    while j<3:\n",
    "        a=random.randint(1,5)\n",
    "        lii.append(a)\n",
    "        j+=1\n",
    "    i+=1\n",
    "    li.append(lii)\n",
    "li"
   ]
  },
  {
   "cell_type": "code",
   "execution_count": 39,
   "id": "1e2517fb-e417-49b8-9280-30c246db4aef",
   "metadata": {},
   "outputs": [
    {
     "data": {
      "text/plain": [
       "[1, 3, 5, 6]"
      ]
     },
     "execution_count": 39,
     "metadata": {},
     "output_type": "execute_result"
    }
   ],
   "source": [
    "lst=[1,5,3,6]\n",
    "for i in range(len(lst)):\n",
    "    for j in range(i):\n",
    "        if lst[i]<lst[j]:\n",
    "            temp=lst[i]\n",
    "            lst[i]=lst[j]\n",
    "            lst[j]=temp\n",
    "lst"
   ]
  },
  {
   "cell_type": "code",
   "execution_count": 42,
   "id": "fa7cd7cb-4b98-425a-b8a8-fc5bfaabbca2",
   "metadata": {},
   "outputs": [],
   "source": [
    "lst.sort(reverse=True)"
   ]
  },
  {
   "cell_type": "code",
   "execution_count": 43,
   "id": "91708f86-51bf-4245-bab5-c94970903412",
   "metadata": {},
   "outputs": [
    {
     "data": {
      "text/plain": [
       "[6, 5, 3, 1]"
      ]
     },
     "execution_count": 43,
     "metadata": {},
     "output_type": "execute_result"
    }
   ],
   "source": [
    "lst"
   ]
  },
  {
   "cell_type": "code",
   "execution_count": 20,
   "id": "418094b0-13ef-452c-bfe7-613a384da1d6",
   "metadata": {},
   "outputs": [
    {
     "name": "stdout",
     "output_type": "stream",
     "text": [
      "the car name ispranay and model isxyz\n",
      "the car name is tesla and model is s and battery is10kwh.\n"
     ]
    }
   ],
   "source": [
    "class Car:\n",
    "    def __init__(self,name,model):\n",
    "        self.name=name\n",
    "        self.model=model\n",
    "    def display(self):\n",
    "        print(f\"the car name is{self.name} and model is{self.model}\")\n",
    "varr=Car(\"pranay\",\"xyz\")\n",
    "varr.display()\n",
    "class elec(Car):\n",
    "    def __init__(self,name,model,battery):\n",
    "        super().__init__(name,model)\n",
    "        self.battery=battery\n",
    "    def display(self):\n",
    "        print(f\"the car name is {self.name} and model is {self.model} and battery is{self.battery}.\")\n",
    "varrr=elec(\"tesla\",\"s\",\"10kwh\")\n",
    "varrr.display()"
   ]
  },
  {
   "cell_type": "code",
   "execution_count": 22,
   "id": "7148c867-d6a8-4abf-89e8-44b535bf6aa9",
   "metadata": {},
   "outputs": [
    {
     "name": "stdout",
     "output_type": "stream",
     "text": [
      "the car name is pranay and model is 12 and battery is100kwh.\n"
     ]
    }
   ],
   "source": [
    "class electric(Car):\n",
    "    def __init__(self,name,model,battery):\n",
    "        super().__init__(name,model)\n",
    "        self.__battery=battery\n",
    "    def get_battery(self):\n",
    "        return self.__battery\n",
    "    def set_battery(self,battery):\n",
    "        self.__battery=battery\n",
    "    def display(self):\n",
    "        print(f\"the car name is {self.name} and model is {self.model} and battery is{self.__battery}.\")\n",
    "v=electric(\"pranay\",\"12\",\"100kwh\")\n",
    "v.display()"
   ]
  },
  {
   "cell_type": "code",
   "execution_count": 18,
   "id": "47c42e4b-78c1-471d-bba0-02aa64f55d1e",
   "metadata": {},
   "outputs": [
    {
     "name": "stdin",
     "output_type": "stream",
     "text": [
      " 45\n"
     ]
    },
    {
     "name": "stdout",
     "output_type": "stream",
     "text": [
      "the 3 and 5\n",
      "the 5 and 7\n",
      "the 11 and 13\n",
      "the 17 and 19\n",
      "the 29 and 31\n",
      "the 41 and 43\n"
     ]
    }
   ],
   "source": [
    "a=int(input())\n",
    "def isprime(a):\n",
    "    if a<2:\n",
    "        return True\n",
    "    for i in range(2,int(a**0.5)+1):\n",
    "        if a%i==0:\n",
    "            return False\n",
    "    return True\n",
    "for i in range(2,a+1):\n",
    "    if isprime(i) and isprime(i+2):\n",
    "        print(f\"the {i} and {i+2}\")"
   ]
  },
  {
   "cell_type": "code",
   "execution_count": 14,
   "id": "ebcb0384-8d50-4a11-b8aa-acf4c76b32df",
   "metadata": {},
   "outputs": [
    {
     "data": {
      "text/plain": [
       "True"
      ]
     },
     "execution_count": 14,
     "metadata": {},
     "output_type": "execute_result"
    }
   ],
   "source": [
    "a=\"1\"\n",
    "a.isdecimal()"
   ]
  },
  {
   "cell_type": "code",
   "execution_count": 28,
   "id": "af6126eb-d204-40c0-a642-1b46b85541f8",
   "metadata": {},
   "outputs": [
    {
     "ename": "TypeError",
     "evalue": "add() takes 2 positional arguments but 3 were given",
     "output_type": "error",
     "traceback": [
      "\u001b[1;31m---------------------------------------------------------------------------\u001b[0m",
      "\u001b[1;31mTypeError\u001b[0m                                 Traceback (most recent call last)",
      "Cell \u001b[1;32mIn[28], line 4\u001b[0m\n\u001b[0;32m      2\u001b[0m     \u001b[38;5;28mprint\u001b[39m(a)\n\u001b[0;32m      3\u001b[0m     \u001b[38;5;28mprint\u001b[39m(b)\n\u001b[1;32m----> 4\u001b[0m add(\u001b[38;5;241m2\u001b[39m,\u001b[38;5;241m4\u001b[39m,\u001b[38;5;241m5\u001b[39m)\n",
      "\u001b[1;31mTypeError\u001b[0m: add() takes 2 positional arguments but 3 were given"
     ]
    }
   ],
   "source": [
    "def add(a,b):\n",
    "    print(a)\n",
    "    print(b)\n",
    "add(2,4,5)"
   ]
  },
  {
   "cell_type": "code",
   "execution_count": 19,
   "id": "52a387ad-0bd2-4c8e-82a3-e23213706a44",
   "metadata": {},
   "outputs": [
    {
     "name": "stdin",
     "output_type": "stream",
     "text": [
      " 11\n"
     ]
    },
    {
     "name": "stdout",
     "output_type": "stream",
     "text": [
      "True\n"
     ]
    }
   ],
   "source": [
    "a=int(input())\n",
    "for i in range(2,a):\n",
    "    isprime=True\n",
    "    if a%i==0:\n",
    "        isprime=False\n",
    "        break\n",
    "print(isprime)"
   ]
  },
  {
   "cell_type": "code",
   "execution_count": 31,
   "id": "842c7fae-bfe5-44f1-8b07-d8461c8c8d4b",
   "metadata": {},
   "outputs": [
    {
     "name": "stdin",
     "output_type": "stream",
     "text": [
      " 4\n"
     ]
    },
    {
     "name": "stdout",
     "output_type": "stream",
     "text": [
      "   1 \n",
      "  1 2 \n",
      " 1 2 3 \n",
      "1 2 3 4 \n"
     ]
    }
   ],
   "source": [
    "a=int(input())\n",
    "for i in range(2,a+2):\n",
    "    spaces=(a-i+1)*\" \"\n",
    "    row=\"\"\n",
    "    for j in range(1,i):\n",
    "        row+=str(j)+\" \"\n",
    "    print(spaces+row)"
   ]
  },
  {
   "cell_type": "code",
   "execution_count": 24,
   "id": "7ae6fc6a-db19-4b15-94fa-08ff6a9f83f2",
   "metadata": {},
   "outputs": [
    {
     "name": "stdin",
     "output_type": "stream",
     "text": [
      " 6\n"
     ]
    },
    {
     "name": "stdout",
     "output_type": "stream",
     "text": [
      "*******\n",
      "******\n",
      "*****\n",
      "****\n",
      "***\n",
      "**\n"
     ]
    }
   ],
   "source": [
    "a=int(input())\n",
    "for i in range(a+1,1,-1):\n",
    "    print(\"*\"*i)"
   ]
  },
  {
   "cell_type": "code",
   "execution_count": 33,
   "id": "f14b66a6-d59f-4709-81ec-9d3de4a41b66",
   "metadata": {},
   "outputs": [
    {
     "name": "stdin",
     "output_type": "stream",
     "text": [
      " 5\n"
     ]
    },
    {
     "name": "stdout",
     "output_type": "stream",
     "text": [
      "****\n",
      "***\n",
      "**\n",
      "*\n",
      "\n"
     ]
    }
   ],
   "source": [
    "a=int(input())\n",
    "for i in range(1,a+1):\n",
    "    print((a-i)*\"*\")"
   ]
  },
  {
   "cell_type": "code",
   "execution_count": 41,
   "id": "e78f3956-4ed2-4050-914c-52da09a4274f",
   "metadata": {
    "scrolled": true
   },
   "outputs": [
    {
     "data": {
      "text/plain": [
       "[2, 4, 6, 8, 10]"
      ]
     },
     "execution_count": 41,
     "metadata": {},
     "output_type": "execute_result"
    }
   ],
   "source": [
    "a=[1,2,3,4,5]\n",
    "b=[]\n",
    "for i in range(len(a)):\n",
    "    b.append(a[i]*2)\n",
    "b"
   ]
  },
  {
   "cell_type": "code",
   "execution_count": 44,
   "id": "6f35a845-217d-44b7-83d2-2e78c6b77d75",
   "metadata": {},
   "outputs": [
    {
     "name": "stdin",
     "output_type": "stream",
     "text": [
      " 5\n"
     ]
    },
    {
     "name": "stdout",
     "output_type": "stream",
     "text": [
      "    * \n",
      "  * * * \n",
      "* * * * * \n",
      "  * * * \n",
      "    * \n"
     ]
    }
   ],
   "source": [
    "a=int(input())\n",
    "for i in range(1,a+1,2):\n",
    "    stars=\"* \"*i\n",
    "    spaces=\" \"*(a-i)\n",
    "    print(spaces+stars)\n",
    "for j in range(a-2,0,-2):\n",
    "    stars=\"* \"*j\n",
    "    spaces=\" \"*(a-j)\n",
    "    print(spaces+stars)\n",
    "\n"
   ]
  },
  {
   "cell_type": "code",
   "execution_count": null,
   "id": "3d885f6a-8092-4e91-92a9-bdbce2049a9a",
   "metadata": {},
   "outputs": [],
   "source": []
  },
  {
   "cell_type": "code",
   "execution_count": 1,
   "id": "f5098286-521d-4587-9157-01dcd4cb0272",
   "metadata": {},
   "outputs": [
    {
     "name": "stdout",
     "output_type": "stream",
     "text": [
      "1\n",
      "2\n",
      "3\n",
      "4\n",
      "5\n",
      "6\n",
      "7\n",
      "8\n",
      "9\n",
      "10\n"
     ]
    }
   ],
   "source": [
    "i=1\n",
    "while i<=10:\n",
    "    print(i)\n",
    "    i+=1"
   ]
  },
  {
   "cell_type": "code",
   "execution_count": 2,
   "id": "745a5b99-68b1-44e9-bdc9-432b2a5a2ecc",
   "metadata": {},
   "outputs": [
    {
     "name": "stdout",
     "output_type": "stream",
     "text": [
      "2\n",
      "4\n",
      "6\n",
      "8\n",
      "10\n",
      "12\n",
      "14\n",
      "16\n",
      "18\n",
      "20\n"
     ]
    }
   ],
   "source": [
    "i=1\n",
    "while i<=20:\n",
    "    if i%2==0:\n",
    "        print(i)\n",
    "    i+=1"
   ]
  },
  {
   "cell_type": "code",
   "execution_count": 3,
   "id": "dfec34a8-3d44-43d7-b874-e2d88622ebdb",
   "metadata": {},
   "outputs": [
    {
     "name": "stdout",
     "output_type": "stream",
     "text": [
      "1275\n"
     ]
    }
   ],
   "source": [
    "i=0\n",
    "sum=0\n",
    "while i<=50:\n",
    "    sum+=i\n",
    "    i+=1\n",
    "print(sum)"
   ]
  },
  {
   "cell_type": "code",
   "execution_count": 4,
   "id": "c4af511a-f0ca-4daa-a376-b66366f91455",
   "metadata": {},
   "outputs": [
    {
     "name": "stdout",
     "output_type": "stream",
     "text": [
      "5\n",
      "10\n",
      "15\n",
      "20\n",
      "25\n",
      "30\n",
      "35\n",
      "40\n",
      "45\n",
      "50\n"
     ]
    }
   ],
   "source": [
    "a=1\n",
    "while a<=10:\n",
    "    print(5*a)\n",
    "    a+=1"
   ]
  },
  {
   "cell_type": "code",
   "execution_count": 6,
   "id": "c149b3cb-9ec1-4ac8-a288-15b1e17b4965",
   "metadata": {},
   "outputs": [
    {
     "name": "stdout",
     "output_type": "stream",
     "text": [
      "p\n",
      "y\n",
      "t\n",
      "h\n",
      "o\n",
      "n\n"
     ]
    }
   ],
   "source": [
    "a=\"python\"\n",
    "i=0\n",
    "while i<len(a):\n",
    "    print(a[i])\n",
    "    i+=1"
   ]
  },
  {
   "cell_type": "code",
   "execution_count": 8,
   "id": "ff192e0c-8f7a-42b1-a1e5-5bcad6cf2c1e",
   "metadata": {},
   "outputs": [
    {
     "name": "stdin",
     "output_type": "stream",
     "text": [
      "enter input number 8\n",
      "enter input number 9\n",
      "enter input number 0\n"
     ]
    },
    {
     "name": "stdout",
     "output_type": "stream",
     "text": [
      "17\n"
     ]
    }
   ],
   "source": [
    "sum=0\n",
    "i=1\n",
    "while i!=0:\n",
    "    i=int(input(\"enter input number\"))\n",
    "    sum+=i\n",
    "print(sum)"
   ]
  },
  {
   "cell_type": "code",
   "execution_count": 9,
   "id": "bebb06e0-b8ae-4797-8126-6b4ed2ac1bf5",
   "metadata": {},
   "outputs": [
    {
     "name": "stdout",
     "output_type": "stream",
     "text": [
      "4321\n"
     ]
    }
   ],
   "source": [
    "a=1234\n",
    "rev=0\n",
    "while a>0:\n",
    "    b=a%10\n",
    "    rev=rev*10+b\n",
    "    a=a//10\n",
    "print(rev)"
   ]
  },
  {
   "cell_type": "code",
   "execution_count": 1,
   "id": "5a87bce3-e201-4fb4-b6b7-61e306bdab0e",
   "metadata": {},
   "outputs": [
    {
     "name": "stdout",
     "output_type": "stream",
     "text": [
      "4\n"
     ]
    }
   ],
   "source": [
    "a=1234\n",
    "count=0\n",
    "while a>0:\n",
    "    b=a%10\n",
    "    count+=1\n",
    "    a=a//10\n",
    "print(count)"
   ]
  },
  {
   "cell_type": "code",
   "execution_count": 2,
   "id": "00e314c8-134d-4d54-8ac6-ae890d0c70c9",
   "metadata": {},
   "outputs": [
    {
     "name": "stdout",
     "output_type": "stream",
     "text": [
      "120\n"
     ]
    }
   ],
   "source": [
    "a=5\n",
    "sum=1\n",
    "while a>=1:\n",
    "    sum*=a\n",
    "    a-=1\n",
    "print(sum)"
   ]
  },
  {
   "cell_type": "code",
   "execution_count": 6,
   "id": "3c2b6a2a-df69-42b1-85b2-d5a26851f9a0",
   "metadata": {},
   "outputs": [
    {
     "name": "stdin",
     "output_type": "stream",
     "text": [
      "number to be guessed 2\n",
      "enter a number 3\n",
      "enter a number 4\n",
      "enter a number 5\n",
      "enter a number 6\n",
      "enter a number 7\n",
      "enter a number 8\n",
      "enter a number 9\n",
      "enter a number 2\n"
     ]
    },
    {
     "name": "stdout",
     "output_type": "stream",
     "text": [
      "you guessed it correct\n"
     ]
    }
   ],
   "source": [
    "b=int(input(\"number to be guessed\"))\n",
    "i=0\n",
    "while i!=b:\n",
    "    i=int(input(\"enter a number\"))\n",
    "print(\"you guessed it correct\")\n",
    "    "
   ]
  },
  {
   "cell_type": "code",
   "execution_count": 8,
   "id": "78929047-ed1e-420b-accb-5d4814d7257c",
   "metadata": {},
   "outputs": [
    {
     "name": "stdin",
     "output_type": "stream",
     "text": [
      " general\n"
     ]
    },
    {
     "name": "stdout",
     "output_type": "stream",
     "text": [
      "12 18\n"
     ]
    }
   ],
   "source": [
    "a=\"python is a general purpose language\"\n",
    "b=input()\n",
    "c=len(b)\n",
    "if b in a:\n",
    "    print(a.index(b),(a.index(b))+c-1)"
   ]
  },
  {
   "cell_type": "code",
   "execution_count": 49,
   "id": "e40e4fb4-fd63-442c-adfe-f773f08bea6a",
   "metadata": {},
   "outputs": [
    {
     "data": {
      "text/plain": [
       "'praar'"
      ]
     },
     "execution_count": 49,
     "metadata": {},
     "output_type": "execute_result"
    }
   ],
   "source": [
    "name=\"praarp\"\n",
    "n=len(name)\n",
    "name[9:0:-1]"
   ]
  },
  {
   "cell_type": "code",
   "execution_count": 50,
   "id": "d8ad7123-fec8-4552-b539-b746d1fb7fa2",
   "metadata": {},
   "outputs": [
    {
     "name": "stdout",
     "output_type": "stream",
     "text": [
      "praarp"
     ]
    }
   ],
   "source": [
    "for i in range(n-1,-1,-1):\n",
    "    print(name[i],end=\"\")"
   ]
  },
  {
   "cell_type": "code",
   "execution_count": 51,
   "id": "d76d18ac-5cc3-42ed-96d5-ded8899163bc",
   "metadata": {},
   "outputs": [
    {
     "name": "stdout",
     "output_type": "stream",
     "text": [
      "True\n"
     ]
    }
   ],
   "source": [
    "i=0\n",
    "j=n-1\n",
    "while i<j:\n",
    "    palin=False\n",
    "    if name[i]==name[j]:\n",
    "        i+=1\n",
    "        j-=1\n",
    "        palin=True\n",
    "    else:\n",
    "        palin=False\n",
    "        break\n",
    "print(palin)"
   ]
  },
  {
   "cell_type": "code",
   "execution_count": 55,
   "id": "138a5333-d761-4db5-9d24-0dfc22d6270f",
   "metadata": {},
   "outputs": [
    {
     "name": "stdout",
     "output_type": "stream",
     "text": [
      "y\n"
     ]
    }
   ],
   "source": [
    "i=0\n",
    "j=n-1\n",
    "while i<j:\n",
    "    if name[i]!=name[j]:\n",
    "        print(\"n\")\n",
    "        break\n",
    "    i+=1\n",
    "    j-=1\n",
    "else:\n",
    "    print(\"y\")       "
   ]
  },
  {
   "cell_type": "code",
   "execution_count": 63,
   "id": "9031e3ac-3780-434b-8b45-a69c28f9bdc2",
   "metadata": {},
   "outputs": [
    {
     "data": {
      "text/plain": [
       "'This is my python class'"
      ]
     },
     "execution_count": 63,
     "metadata": {},
     "output_type": "execute_result"
    }
   ],
   "source": [
    "text=\"ThisIsMyPythonClass\"\n",
    "texts=text[0].upper()\n",
    "for i in range(1,len(text)):\n",
    "    if text[i].isupper():\n",
    "        texts+=\" \"+text[i]\n",
    "    else:\n",
    "        texts+=text[i]\n",
    "texts.capitalize()"
   ]
  },
  {
   "cell_type": "code",
   "execution_count": 67,
   "id": "0394f648-ca47-4770-86a9-2112cc3d54bf",
   "metadata": {},
   "outputs": [
    {
     "data": {
      "text/plain": [
       "['ThisIsMyPython', 'lass']"
      ]
     },
     "execution_count": 67,
     "metadata": {},
     "output_type": "execute_result"
    }
   ],
   "source": [
    "for i in range(len(text)):\n",
    "    if text[i].isupper():\n",
    "        b=text.split(text[i])\n",
    "b"
   ]
  },
  {
   "cell_type": "markdown",
   "id": "4e7bd835-b1b9-4444-9fcd-92f1b767e32f",
   "metadata": {},
   "source": [
    "# LOOK AGAIN"
   ]
  },
  {
   "cell_type": "code",
   "execution_count": 68,
   "id": "f41aa180-3d7b-474f-9413-a249a1ee936f",
   "metadata": {},
   "outputs": [
    {
     "name": "stdout",
     "output_type": "stream",
     "text": [
      "This is my python class\n"
     ]
    }
   ],
   "source": [
    "text = \"ThisIsMyPythonClass\"\n",
    "parts = [text[0]] + [(' ' + c) if c.isupper() else c for c in text[1:]]\n",
    "result = \"\".join(parts).capitalize()\n",
    "print(result)\n"
   ]
  },
  {
   "cell_type": "markdown",
   "id": "a98a1743-5b5a-4d24-8b32-d5808bfbae0d",
   "metadata": {},
   "source": [
    "# LOOK AGAIN"
   ]
  },
  {
   "cell_type": "code",
   "execution_count": 3,
   "id": "5832175a-a222-4e37-af3a-ac02e01024ad",
   "metadata": {},
   "outputs": [
    {
     "name": "stdin",
     "output_type": "stream",
     "text": [
      " 5\n"
     ]
    },
    {
     "data": {
      "text/plain": [
       "[5, 4, 3, 2, 1]"
      ]
     },
     "execution_count": 3,
     "metadata": {},
     "output_type": "execute_result"
    }
   ],
   "source": [
    "a=[1,2,3,4,5]\n",
    "b=[]\n",
    "c=int(input())\n",
    "for i in range(c):\n",
    "    b.append(a.pop())\n",
    "else:\n",
    "    for i in a:\n",
    "        b.append(i)\n",
    "b"
   ]
  },
  {
   "cell_type": "code",
   "execution_count": 97,
   "id": "46978bfe-a957-4a3d-a39d-44508e2bb121",
   "metadata": {},
   "outputs": [
    {
     "name": "stdout",
     "output_type": "stream",
     "text": [
      "4321\n",
      "non\n"
     ]
    }
   ],
   "source": [
    "a=1234\n",
    "b=a\n",
    "rev=0\n",
    "while a!=0:\n",
    "    c=a%10\n",
    "    rev=rev*10+c\n",
    "    a=a//10\n",
    "print(rev)\n",
    "if b==rev:\n",
    "    print(\"palin\")\n",
    "else:\n",
    "    print(\"non\")"
   ]
  },
  {
   "cell_type": "code",
   "execution_count": 100,
   "id": "54408dff-1a40-4147-b63a-3fe0c1032574",
   "metadata": {},
   "outputs": [
    {
     "name": "stdout",
     "output_type": "stream",
     "text": [
      "3\n"
     ]
    }
   ],
   "source": [
    "a=1232\n",
    "rev=0\n",
    "max=0\n",
    "while a!=0:\n",
    "    c=a%10\n",
    "    if c>max:\n",
    "        max=c\n",
    "    a=a//10\n",
    "print(max)"
   ]
  },
  {
   "cell_type": "code",
   "execution_count": 101,
   "id": "aba3191f-b957-4543-acf2-6883a7de8568",
   "metadata": {},
   "outputs": [
    {
     "name": "stdout",
     "output_type": "stream",
     "text": [
      "4\n"
     ]
    }
   ],
   "source": [
    "a=[1,2,3,4]\n",
    "maxx=a[0]\n",
    "for i in range(len(a)):\n",
    "    if a[i]>maxx:\n",
    "        maxx=a[i]\n",
    "print(maxx)"
   ]
  },
  {
   "cell_type": "code",
   "execution_count": 104,
   "id": "c3e647ae-37bc-4d12-9c2e-6f523745609d",
   "metadata": {},
   "outputs": [
    {
     "name": "stdout",
     "output_type": "stream",
     "text": [
      "[1, 2, 3, 4, 7, 9]\n"
     ]
    }
   ],
   "source": [
    "a=[1,2,3,7,9,4]\n",
    "sorts=[]\n",
    "for i in range(len(a)):\n",
    "    for j in range(i+1,len(a)):\n",
    "        if a[i]>a[j]:\n",
    "            temp=a[j]\n",
    "            a[j]=a[i]\n",
    "            a[i]=temp\n",
    "print(a)\n",
    "            "
   ]
  },
  {
   "cell_type": "code",
   "execution_count": 106,
   "id": "2f8ee0c0-5127-4011-9473-0b9cee640d91",
   "metadata": {},
   "outputs": [
    {
     "name": "stdin",
     "output_type": "stream",
     "text": [
      " udhqiu89234r#%46\n"
     ]
    },
    {
     "name": "stdout",
     "output_type": "stream",
     "text": [
      "3\n",
      "4\n",
      "2\n",
      "7\n"
     ]
    }
   ],
   "source": [
    "a=input()\n",
    "v=0\n",
    "c=0\n",
    "s=0\n",
    "d=0\n",
    "for i in range(len(a)):\n",
    "    if a[i] in \"AEIOUaeiou\":\n",
    "        v+=1\n",
    "    elif(a[i].isalpha()):\n",
    "        c+=1\n",
    "    elif(a[i].isdigit()):\n",
    "        d+=1\n",
    "    else:\n",
    "        s+=1\n",
    "print(v)\n",
    "print(c)\n",
    "print(s)\n",
    "print(d)"
   ]
  },
  {
   "cell_type": "code",
   "execution_count": 125,
   "id": "288ae2d2-377e-4b22-b1f1-987d631e60ff",
   "metadata": {},
   "outputs": [
    {
     "name": "stdin",
     "output_type": "stream",
     "text": [
      " 50\n"
     ]
    },
    {
     "name": "stdout",
     "output_type": "stream",
     "text": [
      "2\n",
      "3\n",
      "5\n",
      "7\n",
      "11\n",
      "13\n",
      "17\n",
      "19\n",
      "23\n",
      "29\n",
      "31\n",
      "37\n",
      "41\n",
      "43\n",
      "47\n"
     ]
    }
   ],
   "source": [
    "a=int(input())\n",
    "for i in range(2,a+1):\n",
    "    for j in range(2,int(i**0.5)+1):\n",
    "        if i%j==0:\n",
    "            break\n",
    "    else:\n",
    "        print(i)\n",
    "            "
   ]
  },
  {
   "cell_type": "code",
   "execution_count": 132,
   "id": "3a82b6fd-59a9-45e9-aa69-39707edf8a42",
   "metadata": {},
   "outputs": [
    {
     "name": "stdout",
     "output_type": "stream",
     "text": [
      "['1240']\n"
     ]
    }
   ],
   "source": [
    "a = [1, 2, 3, 9]             # list of integers\n",
    "b = \"\".join(str(x) for x in a)  # join after converting each element to string\n",
    "c = int(b)                   # convert to integer\n",
    "c += 1                       # increment\n",
    "e = str(c)                   # convert back to string\n",
    "d = e.split()                # split into list (only 1 element here)\n",
    "print(d)\n"
   ]
  },
  {
   "cell_type": "code",
   "execution_count": 2,
   "id": "3e97bcde-c7db-4b23-b38d-136210f3e46d",
   "metadata": {},
   "outputs": [
    {
     "name": "stdout",
     "output_type": "stream",
     "text": [
      "2\n"
     ]
    }
   ],
   "source": [
    "a=[-4,-2,2,24,8]\n",
    "b=[]\n",
    "for i in a:\n",
    "    if i<0:\n",
    "        b.append(i*(-1))\n",
    "    else:\n",
    "        b.append(i)\n",
    "minn=b[0]\n",
    "for i in b:\n",
    "    if minn>i:\n",
    "        minn=i\n",
    "v=dict(zip(b,a))\n",
    "for k,v in v.items():\n",
    "    if k==minn:\n",
    "        print(v)"
   ]
  },
  {
   "cell_type": "code",
   "execution_count": 3,
   "id": "c91987cd-4a0c-4ffc-90c6-90356724001a",
   "metadata": {},
   "outputs": [
    {
     "name": "stdout",
     "output_type": "stream",
     "text": [
      "-1\n"
     ]
    }
   ],
   "source": [
    "a=[2,-1,1]\n",
    "clo=a[0]\n",
    "for num in a:\n",
    "    if num<0:\n",
    "        nums1= -num\n",
    "    else:\n",
    "        nums1=num\n",
    "    if clo<0:\n",
    "        cl= -clo\n",
    "    else:\n",
    "        cl=clo\n",
    "    if nums1<cl or (nums1==cl and num>cl):\n",
    "        clo=num\n",
    "print(clo)"
   ]
  },
  {
   "cell_type": "code",
   "execution_count": null,
   "id": "5e8d7cd6-37be-4e97-9c8e-a63d4a5f65e0",
   "metadata": {},
   "outputs": [],
   "source": []
  },
  {
   "cell_type": "code",
   "execution_count": null,
   "id": "7f944f2f-0401-440b-9211-fbf390560a26",
   "metadata": {},
   "outputs": [],
   "source": []
  },
  {
   "cell_type": "code",
   "execution_count": null,
   "id": "ef25b67d-5fbc-4b49-b473-ba58a2c72f01",
   "metadata": {},
   "outputs": [],
   "source": []
  },
  {
   "cell_type": "code",
   "execution_count": null,
   "id": "69b67e90-9c37-4915-a411-ab7ba6a59b53",
   "metadata": {},
   "outputs": [],
   "source": []
  },
  {
   "cell_type": "code",
   "execution_count": null,
   "id": "49343a47-9f5f-4693-b9be-f797248e7be4",
   "metadata": {},
   "outputs": [],
   "source": []
  },
  {
   "cell_type": "code",
   "execution_count": null,
   "id": "852be849-4dfb-49bd-b562-28bd76ef61e4",
   "metadata": {},
   "outputs": [],
   "source": []
  },
  {
   "cell_type": "code",
   "execution_count": null,
   "id": "dbda724a-4a7c-4280-9cae-97ae51d6c24f",
   "metadata": {},
   "outputs": [],
   "source": []
  },
  {
   "cell_type": "code",
   "execution_count": null,
   "id": "6958b2ac-d6b4-42ae-a967-25e3bf90d049",
   "metadata": {},
   "outputs": [],
   "source": []
  },
  {
   "cell_type": "code",
   "execution_count": 4,
   "id": "c0a68f1d-3405-4aa8-8915-a0da90f14556",
   "metadata": {},
   "outputs": [
    {
     "name": "stdout",
     "output_type": "stream",
     "text": [
      "1\n"
     ]
    }
   ],
   "source": [
    "a=[2,-1,1]\n",
    "c=a[0]\n",
    "for i in a:\n",
    "    if i<0:\n",
    "        num=-i\n",
    "    else:\n",
    "        num=i\n",
    "    if c<0:\n",
    "        cl=-c\n",
    "    else:\n",
    "        cl=c\n",
    "    if num<cl or (num==cl and i>c):\n",
    "        c=i\n",
    "print(c)"
   ]
  },
  {
   "cell_type": "code",
   "execution_count": 2,
   "id": "674250c1-4b12-42cc-8b6d-4563981be33f",
   "metadata": {},
   "outputs": [
    {
     "data": {
      "text/plain": [
       "[1, 4, 0, 0]"
      ]
     },
     "execution_count": 2,
     "metadata": {},
     "output_type": "execute_result"
    }
   ],
   "source": [
    "a=[1,0,4,0]\n",
    "b=[]\n",
    "for i in a:\n",
    "    if i==0\n",
    "        b.append(i)\n",
    "b"
   ]
  },
  {
   "cell_type": "code",
   "execution_count": 6,
   "id": "28fb1d62-be71-4095-801b-86c2cfc9d22d",
   "metadata": {},
   "outputs": [
    {
     "name": "stdout",
     "output_type": "stream",
     "text": [
      "1\n"
     ]
    }
   ],
   "source": [
    "a=[2,-1,1]\n",
    "closest=a[0]\n",
    "for num in a:\n",
    "    if num<0:\n",
    "        num1=-num\n",
    "    else:\n",
    "        num1=num\n",
    "    if closest<0:\n",
    "        newclose=-closest\n",
    "    else:\n",
    "        newclose=closest\n",
    "    if num1<newclose or (num1==newclose and num>newclose):\n",
    "        newclose=num\n",
    "print(newclose)"
   ]
  },
  {
   "cell_type": "code",
   "execution_count": 1,
   "id": "0a0a471e-35b4-4edc-aec2-6670084c96ce",
   "metadata": {},
   "outputs": [
    {
     "name": "stdout",
     "output_type": "stream",
     "text": [
      "3\n"
     ]
    },
    {
     "data": {
      "text/plain": [
       "{1: 2, 2: 2, 3: 1}"
      ]
     },
     "execution_count": 1,
     "metadata": {},
     "output_type": "execute_result"
    }
   ],
   "source": [
    "a=[1,2,3,1,2]\n",
    "b={}\n",
    "for i in a:\n",
    "    if (i in b):\n",
    "        b[i]+=1\n",
    "    else:\n",
    "        b[i]=1\n",
    "for k,v in b.items():\n",
    "    if v==1:\n",
    "        print(k)\n",
    "b"
   ]
  },
  {
   "cell_type": "code",
   "execution_count": 8,
   "id": "caee79ef-762b-4da7-b1e0-3ccfa8a05158",
   "metadata": {},
   "outputs": [
    {
     "name": "stdout",
     "output_type": "stream",
     "text": [
      "true\n"
     ]
    }
   ],
   "source": [
    "a=[1,2,3,1,2]\n",
    "hi=\"false\"\n",
    "for i in range(len(a)):\n",
    "    for j in range(i+1,len(a)):\n",
    "        if a[i]==a[j]:\n",
    "            hi=\"true\"\n",
    "            break\n",
    "print(hi)"
   ]
  },
  {
   "cell_type": "code",
   "execution_count": null,
   "id": "95752534-b8b3-4fbf-9fbb-ca3576e49f24",
   "metadata": {},
   "outputs": [],
   "source": []
  }
 ],
 "metadata": {
  "kernelspec": {
   "display_name": "Python 3 (ipykernel)",
   "language": "python",
   "name": "python3"
  },
  "language_info": {
   "codemirror_mode": {
    "name": "ipython",
    "version": 3
   },
   "file_extension": ".py",
   "mimetype": "text/x-python",
   "name": "python",
   "nbconvert_exporter": "python",
   "pygments_lexer": "ipython3",
   "version": "3.12.7"
  }
 },
 "nbformat": 4,
 "nbformat_minor": 5
}
