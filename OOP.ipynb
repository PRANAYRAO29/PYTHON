{
 "cells": [
  {
   "cell_type": "markdown",
   "id": "5b01227a-f633-40bc-a454-6ec627241c6c",
   "metadata": {},
   "source": [
    "# OBJECT ORIENTED PROGRAMMING"
   ]
  },
  {
   "cell_type": "markdown",
   "id": "48e334b3-51e6-4dea-afbf-77e0bf8a82d9",
   "metadata": {},
   "source": [
    "## Class:\n",
    "- it is like a blueprint/imaginary part."
   ]
  },
  {
   "cell_type": "markdown",
   "id": "e625745c-a843-4e51-b482-359a02b0b72d",
   "metadata": {},
   "source": [
    "## Object:\n",
    "- we can touch and feel.\n",
    "- ex:table,car"
   ]
  },
  {
   "cell_type": "markdown",
   "id": "26d8d4c4-6eba-4e5a-97cf-914054354bc7",
   "metadata": {},
   "source": [
    "#### Objects consists of behavioural properties\n",
    "### i.Attributes:like name,age,gender.\n",
    "### ii.Actions:Walking,listening etc..\n"
   ]
  },
  {
   "cell_type": "code",
   "execution_count": null,
   "id": "63f3c9f5-0369-48a4-8bd0-e53b87f567c4",
   "metadata": {},
   "outputs": [],
   "source": [
    "Syntax:\n",
    "class class_name\n",
    "    def attributes\n",
    "    def action\n",
    "# create an object with object name(class_name)."
   ]
  },
  {
   "cell_type": "code",
   "execution_count": 4,
   "id": "a0163ed9-e79d-479c-9a65-2ce54f6c2425",
   "metadata": {},
   "outputs": [
    {
     "name": "stdout",
     "output_type": "stream",
     "text": [
      "my name is ram and age is 30\n"
     ]
    }
   ],
   "source": [
    "class batch:\n",
    "    def __init__(self,name,age):\n",
    "        self.name=name\n",
    "        self.age=age\n",
    "    def listen(self):\n",
    "        print(f\"my name is {self.name} and age is {self.age}\")\n",
    "male=batch(\"ram\",30)\n",
    "male.listen()"
   ]
  },
  {
   "cell_type": "code",
   "execution_count": 4,
   "id": "ccf8d370-ec89-450a-b51d-7db5372301f6",
   "metadata": {},
   "outputs": [
    {
     "name": "stdout",
     "output_type": "stream",
     "text": [
      "8\n"
     ]
    }
   ],
   "source": [
    "class calculator:\n",
    "    def __init__(self,a,b):\n",
    "        self.a=a\n",
    "        self.b=b\n",
    "    def adds(self):\n",
    "        print(self.a+self.b)\n",
    "    def sub(self):\n",
    "        print(self.a-self.b)\n",
    "    def mul(self):\n",
    "        print(self.a*self.b)\n",
    "    def div(self):\n",
    "        print(self.a/self.b)\n",
    "g=calculator(3,5)\n",
    "g.adds()"
   ]
  },
  {
   "cell_type": "markdown",
   "id": "206a19be-16a5-4d5c-a9d6-4eb670a81979",
   "metadata": {},
   "source": [
    "## Properties\n",
    "### 1.Inheritance\n",
    "### 2.Encapsulation\n",
    "### 3.Polymorphism\n",
    "### 4.Abstraction"
   ]
  },
  {
   "cell_type": "markdown",
   "id": "88a2b0e0-d95b-459b-afcc-1e25cae7fcfc",
   "metadata": {},
   "source": [
    "# 1.INHERITANCE\n",
    "- The child class inheritis the properties from the parent class.\n",
    "- four types\n",
    "## single inheritance"
   ]
  },
  {
   "cell_type": "code",
   "execution_count": 3,
   "id": "f463c487-e8a7-4823-93d4-ae3a78a22e64",
   "metadata": {},
   "outputs": [
    {
     "name": "stdout",
     "output_type": "stream",
     "text": [
      "21\n",
      "1\n",
      "110\n"
     ]
    }
   ],
   "source": [
    "class parent:\n",
    "    def __init__(self,x,y):\n",
    "        self.x=x\n",
    "        self.y=y\n",
    "    def add(self):\n",
    "        result=self.x+self.y\n",
    "        return result\n",
    "class child(parent):\n",
    "    def __init__(self,x,y):\n",
    "        parent.__init__(self,x,y)#it is correct way to refer parent class\n",
    "    def subt(self):\n",
    "        res=self.x-self.y\n",
    "        return res\n",
    "p2=child1(11,10)\n",
    "print(p2.add())\n",
    "print(p2.subt())"
   ]
  },
  {
   "cell_type": "markdown",
   "id": "dcfbaca0-bfff-4a00-8ce4-2c63a222466e",
   "metadata": {},
   "source": [
    "## 2.Multi level inheritance\n",
    "- it means a class is derived from a child class which itself is derived from the parennt class."
   ]
  },
  {
   "cell_type": "code",
   "execution_count": 10,
   "id": "e752f897-1528-44da-8838-7773155d688f",
   "metadata": {},
   "outputs": [
    {
     "name": "stdout",
     "output_type": "stream",
     "text": [
      "21\n",
      "1\n",
      "110\n"
     ]
    }
   ],
   "source": [
    "class parent:\n",
    "    def __init__(self,x,y):\n",
    "        self.x=x\n",
    "        self.y=y\n",
    "    def add(self):\n",
    "        result=self.x+self.y\n",
    "        return result\n",
    "class child(parent):\n",
    "    def __init__(self,x,y):\n",
    "        parent.__init__(self,x,y)#it is correct way to refer parent class\n",
    "    def subt(self):\n",
    "        res=self.x-self.y\n",
    "        return res\n",
    "class child1(child):\n",
    "    def __init__(self,x,y):\n",
    "        child.__init__(self,x,y)#it is correct way to refer parent class\n",
    "    def mult(self):\n",
    "        rest=self.x*self.y\n",
    "        return rest\n",
    "p2=child1(11,10)\n",
    "print(p2.add())\n",
    "print(p2.subt())\n",
    "print(p2.mult())"
   ]
  },
  {
   "cell_type": "markdown",
   "id": "bb1f8bf9-69a7-4d77-b729-391498fb3a6c",
   "metadata": {},
   "source": [
    "## 3.Multiple Inheritance\n",
    "- it means a class inherits from more than one parent class."
   ]
  },
  {
   "cell_type": "code",
   "execution_count": 11,
   "id": "0a9430cb-3320-48ed-9526-df5b6696a161",
   "metadata": {},
   "outputs": [
    {
     "name": "stdout",
     "output_type": "stream",
     "text": [
      "21\n",
      "1\n",
      "110\n"
     ]
    }
   ],
   "source": [
    "class parent:\n",
    "    def __init__(self,x,y):\n",
    "        self.x=x\n",
    "        self.y=y\n",
    "    def add(self):\n",
    "        result=self.x+self.y\n",
    "        return result\n",
    "class child():\n",
    "    def __init__(self,x,y):\n",
    "        self.x=x\n",
    "        self.y=y\n",
    "    def subt(self):\n",
    "        res=self.x-self.y\n",
    "        return res\n",
    "class child1(child,parent):\n",
    "    def __init__(self,x,y):\n",
    "        child.__init__(self,x,y)\n",
    "        parent.__init__(self,x,y)#it is correct way to refer parent class\n",
    "    def mult(self):\n",
    "        rest=self.x*self.y\n",
    "        return rest\n",
    "p2=child1(11,10)\n",
    "print(p2.add())\n",
    "print(p2.subt())\n",
    "print(p2.mult())"
   ]
  },
  {
   "cell_type": "markdown",
   "id": "f249bee7-e86d-4cbf-bf2e-9224923e745e",
   "metadata": {},
   "source": [
    "## 4.Heirarchial Inheritance\n",
    "- one parent class 2 or more child classes inherited from it."
   ]
  },
  {
   "cell_type": "code",
   "execution_count": 14,
   "id": "4febef4a-24b1-4669-af9e-9ccff5febbeb",
   "metadata": {},
   "outputs": [
    {
     "name": "stdout",
     "output_type": "stream",
     "text": [
      "15\n",
      "5\n",
      "10\n",
      "24\n"
     ]
    }
   ],
   "source": [
    "class parent:\n",
    "    def __init__(self,x,y):\n",
    "        self.x=x\n",
    "        self.y=y\n",
    "    def add(self):\n",
    "        res=self.x+self.y\n",
    "        return res\n",
    "class child1(parent):\n",
    "    def sub(self):\n",
    "        rest=self.x-self.y\n",
    "        return rest\n",
    "class child2(parent):\n",
    "    def mul(self):\n",
    "        restu=self.x*self.y\n",
    "        return restu\n",
    "chil=child1(10,5)\n",
    "print(chil.add())\n",
    "print(chil.sub())\n",
    "chill=child2(6,4)\n",
    "print(chill.add())\n",
    "print(chill.mul())"
   ]
  },
  {
   "cell_type": "code",
   "execution_count": 16,
   "id": "e93d44d0-6a8a-4fbd-a6ca-8e35e8a45b05",
   "metadata": {},
   "outputs": [
    {
     "name": "stdout",
     "output_type": "stream",
     "text": [
      "puppy eats\n",
      "puppy barks\n"
     ]
    }
   ],
   "source": [
    "class animal:\n",
    "    def __init__(self,b):\n",
    "        self.b=b        \n",
    "    def ands(self):\n",
    "        print(f\"{self.b} eats\")\n",
    "class dog(animal):\n",
    "    def barks(self):\n",
    "        print(f\"{self.b} barks\")\n",
    "d=dog(\"puppy\")\n",
    "d.ands()\n",
    "d.barks()"
   ]
  },
  {
   "cell_type": "code",
   "execution_count": 19,
   "id": "f4a55cfc-c387-4dee-8efa-9b7be5fb7e29",
   "metadata": {},
   "outputs": [
    {
     "name": "stdout",
     "output_type": "stream",
     "text": [
      "12.56\n"
     ]
    },
    {
     "data": {
      "text/plain": [
       "15"
      ]
     },
     "execution_count": 19,
     "metadata": {},
     "output_type": "execute_result"
    }
   ],
   "source": [
    "class circle:\n",
    "    def __init__(self,r):\n",
    "        self.r=r\n",
    "    def area(self):\n",
    "        res=3.14*self.r*self.r\n",
    "        return res\n",
    "class rect:\n",
    "    def __init__(self,l,b):\n",
    "        self.l=l\n",
    "        self.b=b\n",
    "    def area(self):\n",
    "        resu=self.l*self.b\n",
    "        return resu\n",
    "a=circle(2)\n",
    "b=rect(3,5)\n",
    "print(a.area())\n",
    "b.area()"
   ]
  },
  {
   "cell_type": "code",
   "execution_count": null,
   "id": "e848a7e4-3100-48cc-8603-0711e080e37d",
   "metadata": {},
   "outputs": [],
   "source": []
  }
 ],
 "metadata": {
  "kernelspec": {
   "display_name": "Python 3 (ipykernel)",
   "language": "python",
   "name": "python3"
  },
  "language_info": {
   "codemirror_mode": {
    "name": "ipython",
    "version": 3
   },
   "file_extension": ".py",
   "mimetype": "text/x-python",
   "name": "python",
   "nbconvert_exporter": "python",
   "pygments_lexer": "ipython3",
   "version": "3.12.7"
  }
 },
 "nbformat": 4,
 "nbformat_minor": 5
}
