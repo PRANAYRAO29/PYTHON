{
 "cells": [
  {
   "cell_type": "markdown",
   "id": "af3b88bf-f2a2-489e-99ac-f18f085ce4f6",
   "metadata": {},
   "source": [
    "# DataTypes\n",
    "- numbers(int,float,complex)\n",
    "- strings\n",
    "- List\n",
    "- Tuple\n",
    "- Dictionary\n",
    "- set\n",
    "# upto here standard data types.\n",
    "# bottom are derived data types.\n",
    "- Frozen set\n",
    "- Byte\n",
    "- Byte Array\n",
    "- Boolean"
   ]
  },
  {
   "cell_type": "markdown",
   "id": "827880d4-ce9c-4553-a59d-a4a53fba3bbd",
   "metadata": {
    "jp-MarkdownHeadingCollapsed": true
   },
   "source": [
    "# Note 1: Numbers and Strings are fundamental data types.\n",
    "# Note 3: Strings,List and Tuple are called sequential data types.\n",
    "# Note 2: List,Tuple and Dictionary are advanced data types.\n",
    "# Note 4: Dictionary is mapping data type.\n",
    "# Note 5: Set is unordered data type."
   ]
  },
  {
   "cell_type": "markdown",
   "id": "0f1cba78-aee7-4af5-bc89-4796863ddd09",
   "metadata": {},
   "source": [
    "# 1.Numbers:\n",
    "### i.Integers:\n",
    "- Numbers from -infinity to +infinity.\n",
    "### ii.Float:\n",
    "- Numbers from -infinity to +infinity with decimal points.\n",
    "### iii.Complex:"
   ]
  },
  {
   "cell_type": "code",
   "execution_count": 39,
   "id": "0da059a2-425f-471d-907b-e2de931f2cb6",
   "metadata": {},
   "outputs": [
    {
     "name": "stdout",
     "output_type": "stream",
     "text": [
      "<class 'int'>\n",
      "<class 'int'>\n"
     ]
    }
   ],
   "source": [
    "b=5\n",
    "print(type(b))\n",
    "c=-6\n",
    "print(type(c))"
   ]
  },
  {
   "cell_type": "code",
   "execution_count": 40,
   "id": "8825fdc7-ea63-45df-8e33-b1cff9072515",
   "metadata": {},
   "outputs": [
    {
     "name": "stdout",
     "output_type": "stream",
     "text": [
      "<class 'float'>\n",
      "<class 'float'>\n",
      "10000000000.0\n",
      "<class 'float'>\n",
      "-2.96e-06\n",
      "<class 'float'>\n"
     ]
    }
   ],
   "source": [
    "d=1.2\n",
    "print(type(d))\n",
    "e=-1.6567\n",
    "print(type(e))\n",
    "a=1e10\n",
    "print(a)\n",
    "print(type(a))\n",
    "\n",
    "f=-2.96e-06\n",
    "print(f)\n",
    "print(type(f))"
   ]
  },
  {
   "cell_type": "code",
   "execution_count": 41,
   "id": "b93297bc-269b-4959-a875-4281b2ac6900",
   "metadata": {},
   "outputs": [
    {
     "name": "stdout",
     "output_type": "stream",
     "text": [
      "<class 'complex'>\n",
      "<class 'complex'>\n",
      "<class 'complex'>\n",
      "<class 'complex'>\n"
     ]
    }
   ],
   "source": [
    "g=6+5j\n",
    "print(type(g))\n",
    "h=6-5j\n",
    "print(type(h))\n",
    "i=-6+5j\n",
    "print(type(i))\n",
    "k=-6-5j\n",
    "print(type(k))"
   ]
  },
  {
   "cell_type": "markdown",
   "id": "fbac6f50-ad0b-4e5a-8b5e-a5106a0af1e1",
   "metadata": {},
   "source": [
    "## Type casting\n",
    "- Converting one datatype to another data type.\n",
    "### i.Auto TypeCasting:\n",
    "    "
   ]
  },
  {
   "cell_type": "code",
   "execution_count": 43,
   "id": "11c18bf1-fae3-478e-9099-374001c88296",
   "metadata": {},
   "outputs": [
    {
     "name": "stdout",
     "output_type": "stream",
     "text": [
      "9.6\n",
      "<class 'float'>\n"
     ]
    }
   ],
   "source": [
    "l=5+3.6+True\n",
    "print(l)\n",
    "print(type(l))"
   ]
  },
  {
   "cell_type": "code",
   "execution_count": 44,
   "id": "8bf4be44-222c-4dad-a379-fe621cf58e6f",
   "metadata": {},
   "outputs": [
    {
     "ename": "TypeError",
     "evalue": "unsupported operand type(s) for +: 'float' and 'str'",
     "output_type": "error",
     "traceback": [
      "\u001b[1;31m---------------------------------------------------------------------------\u001b[0m",
      "\u001b[1;31mTypeError\u001b[0m                                 Traceback (most recent call last)",
      "Cell \u001b[1;32mIn[44], line 1\u001b[0m\n\u001b[1;32m----> 1\u001b[0m m\u001b[38;5;241m=\u001b[39m\u001b[38;5;241m1\u001b[39m\u001b[38;5;241m+\u001b[39m\u001b[38;5;241m3.6\u001b[39m\u001b[38;5;241m+\u001b[39m\u001b[38;5;124m'\u001b[39m\u001b[38;5;124mdata\u001b[39m\u001b[38;5;124m'\u001b[39m\n\u001b[0;32m      2\u001b[0m \u001b[38;5;28mprint\u001b[39m(m)\n\u001b[0;32m      3\u001b[0m \u001b[38;5;28mprint\u001b[39m(\u001b[38;5;28mtype\u001b[39m(m))\n",
      "\u001b[1;31mTypeError\u001b[0m: unsupported operand type(s) for +: 'float' and 'str'"
     ]
    }
   ],
   "source": [
    "m=1+3.6+'data'\n",
    "print(m)\n",
    "print(type(m))"
   ]
  },
  {
   "cell_type": "markdown",
   "id": "828939bf-d9f0-4429-97bd-d9e34ef854ee",
   "metadata": {},
   "source": [
    "### ii.Forced Typed Casting"
   ]
  },
  {
   "cell_type": "code",
   "execution_count": 46,
   "id": "6280aec5-de3a-421e-919d-53f1c34020b9",
   "metadata": {},
   "outputs": [
    {
     "name": "stdout",
     "output_type": "stream",
     "text": [
      "8.0\n",
      "(8+0j)\n"
     ]
    }
   ],
   "source": [
    "n=8\n",
    "print(float(n))\n",
    "print(complex(n))"
   ]
  },
  {
   "cell_type": "code",
   "execution_count": 47,
   "id": "22287098-947e-444f-bdd1-537f6609c069",
   "metadata": {},
   "outputs": [
    {
     "name": "stdout",
     "output_type": "stream",
     "text": [
      "5\n",
      "(5.4+0j)\n"
     ]
    }
   ],
   "source": [
    "o=5.4\n",
    "print(int(o))\n",
    "print(complex(o))"
   ]
  },
  {
   "cell_type": "code",
   "execution_count": 48,
   "id": "585db835-0099-4fba-9026-571308e0f6e1",
   "metadata": {},
   "outputs": [
    {
     "ename": "TypeError",
     "evalue": "int() argument must be a string, a bytes-like object or a real number, not 'complex'",
     "output_type": "error",
     "traceback": [
      "\u001b[1;31m---------------------------------------------------------------------------\u001b[0m",
      "\u001b[1;31mTypeError\u001b[0m                                 Traceback (most recent call last)",
      "Cell \u001b[1;32mIn[48], line 2\u001b[0m\n\u001b[0;32m      1\u001b[0m p\u001b[38;5;241m=\u001b[39m\u001b[38;5;241m3\u001b[39m\u001b[38;5;241m+\u001b[39m\u001b[38;5;241m4\u001b[39mj\n\u001b[1;32m----> 2\u001b[0m \u001b[38;5;28mprint\u001b[39m(\u001b[38;5;28mint\u001b[39m(p))\n\u001b[0;32m      3\u001b[0m \u001b[38;5;28mprint\u001b[39m(\u001b[38;5;28mfloat\u001b[39m(p))\n",
      "\u001b[1;31mTypeError\u001b[0m: int() argument must be a string, a bytes-like object or a real number, not 'complex'"
     ]
    }
   ],
   "source": [
    "p=3+4j\n",
    "print(int(p))\n",
    "print(float(p))"
   ]
  },
  {
   "cell_type": "markdown",
   "id": "21ba0a4b-9372-4c29-8c01-20deca444235",
   "metadata": {},
   "source": [
    "# OPERATORS:\n",
    "- are used to do operations (or)\n",
    "- are symbols/constructs used to manipulate operands"
   ]
  },
  {
   "cell_type": "markdown",
   "id": "35442653-fc7d-419a-a21c-b2b419f53514",
   "metadata": {},
   "source": [
    "### 1.Arithematic Operations\n",
    "- Addition(+)\n",
    "- Subraction(-)\n",
    "- Multiplication(*)\n",
    "- Division(/)\n",
    "- Modulus(%)\n",
    "- Floor Division(//)\n",
    "- Exponents(**)"
   ]
  },
  {
   "cell_type": "code",
   "execution_count": 49,
   "id": "ebf298e6-5c1b-42ab-82d6-4d855bef9168",
   "metadata": {},
   "outputs": [
    {
     "name": "stdout",
     "output_type": "stream",
     "text": [
      "16\n",
      "6\n",
      "55\n",
      "2.2\n",
      "1\n",
      "2\n",
      "161051\n"
     ]
    }
   ],
   "source": [
    "\n",
    "ab=11;\n",
    "bc=5;\n",
    "print(ab+bc)\n",
    "print(ab-bc)\n",
    "print(ab*bc)\n",
    "print(ab/bc)\n",
    "print(ab%bc)\n",
    "print(ab//bc)\n",
    "print(ab**bc)"
   ]
  },
  {
   "cell_type": "markdown",
   "id": "3b30eba1-4b31-47aa-812f-f06b00d4e1f7",
   "metadata": {},
   "source": [
    "### 2.Comparision Operators/Relational Operators\n",
    "- less than(<)\n",
    "- greater than(>)\n",
    "- less than or equal(<=)\n",
    "- greater than or equal(>=)\n",
    "- equals to(==)\n",
    "- not equals to(!=)"
   ]
  },
  {
   "cell_type": "code",
   "execution_count": 50,
   "id": "a13d52eb-d56a-4b30-891b-cc6cc0da81bb",
   "metadata": {},
   "outputs": [
    {
     "name": "stdout",
     "output_type": "stream",
     "text": [
      "True\n",
      "False\n",
      "True\n",
      "False\n",
      "False\n",
      "True\n"
     ]
    }
   ],
   "source": [
    "ad=6\n",
    "ae=5\n",
    "print(ad>ae)\n",
    "print(ad<ae)\n",
    "print(ad>=ae)\n",
    "print(ad<=ae)\n",
    "print(ad==ae)\n",
    "print(ad!=ae)"
   ]
  },
  {
   "cell_type": "markdown",
   "id": "6b13320f-be7c-4e82-aff9-4d93164d8412",
   "metadata": {},
   "source": [
    "## 3.Assignment Operators\n",
    "- are used to assign values to variables(=)\n",
    "- modification/change value will be assigned back to left side"
   ]
  },
  {
   "cell_type": "code",
   "execution_count": 7,
   "id": "f06a7aef-8ab0-4795-bedb-03b5d3e8e591",
   "metadata": {},
   "outputs": [
    {
     "name": "stdout",
     "output_type": "stream",
     "text": [
      "8\n",
      "13\n",
      "8\n",
      "40\n",
      "8.0\n"
     ]
    }
   ],
   "source": [
    "a=5\n",
    "b=3\n",
    "c=a+b\n",
    "print(c)\n",
    "c+=a\n",
    "print(c)\n",
    "c-=a\n",
    "print(c)\n",
    "c*=a\n",
    "print(c)\n",
    "c/=a\n",
    "print(c)"
   ]
  },
  {
   "cell_type": "markdown",
   "id": "f3fe6c2f-c0f6-404c-b8a2-5bee53ef2c44",
   "metadata": {},
   "source": [
    "## 4.Logical Operators\n",
    "- logical and\n",
    "- logical or\n",
    "- logical not"
   ]
  },
  {
   "cell_type": "markdown",
   "id": "51d73e59-a657-4a48-b97f-45de331cfb97",
   "metadata": {},
   "source": [
    "#### logical and\n",
    "- if a and b are true then only true remaining all values are false."
   ]
  },
  {
   "cell_type": "code",
   "execution_count": 16,
   "id": "036f15e5-fb6e-45e9-96fd-4fee19363556",
   "metadata": {},
   "outputs": [
    {
     "name": "stdout",
     "output_type": "stream",
     "text": [
      "False\n",
      "False\n",
      "11\n"
     ]
    }
   ],
   "source": [
    "a = 4\n",
    "b = 11\n",
    "print(a<b and b<a)\n",
    "print(a>b and b<a)\n",
    "print( a or b) # if left side value is non-zero it prints right side value else the left side zero"
   ]
  },
  {
   "cell_type": "markdown",
   "id": "ef152bfb-410d-4df7-a231-4841146b5a81",
   "metadata": {},
   "source": [
    "#### logical OR\n",
    "- if one input is true whole value is true."
   ]
  },
  {
   "cell_type": "code",
   "execution_count": 19,
   "id": "31cae673-a101-4f3f-a8f9-d0a88120be24",
   "metadata": {},
   "outputs": [
    {
     "name": "stdout",
     "output_type": "stream",
     "text": [
      "True\n",
      "5\n"
     ]
    }
   ],
   "source": [
    "a = True\n",
    "b = False\n",
    "print(a or b)\n",
    "a = 5\n",
    "b = 3\n",
    "print(a or b) # if left is zero right is printed else left value is printed"
   ]
  },
  {
   "cell_type": "markdown",
   "id": "45ca9475-db00-4da3-94f8-4c3ae70ded66",
   "metadata": {},
   "source": [
    "#### logical NOT\n",
    "- it is exactly opposite to the input"
   ]
  },
  {
   "cell_type": "code",
   "execution_count": 23,
   "id": "ed8703e5-2c99-47d3-ad4e-42f3dcf959a1",
   "metadata": {},
   "outputs": [
    {
     "name": "stdout",
     "output_type": "stream",
     "text": [
      "False\n"
     ]
    }
   ],
   "source": [
    "a = 4\n",
    "print(not a) # here if non zero is taken then it is false if it is zero then it is true"
   ]
  },
  {
   "cell_type": "code",
   "execution_count": 24,
   "id": "e5d6f2c3-2596-4815-8e1c-7718080c966b",
   "metadata": {},
   "outputs": [
    {
     "name": "stdout",
     "output_type": "stream",
     "text": [
      "True\n"
     ]
    }
   ],
   "source": [
    "d=False\n",
    "print(not d)"
   ]
  },
  {
   "cell_type": "code",
   "execution_count": 25,
   "id": "68839edb-95b1-4d2c-b0d7-bcb30c458824",
   "metadata": {},
   "outputs": [
    {
     "name": "stdout",
     "output_type": "stream",
     "text": [
      "False\n"
     ]
    }
   ],
   "source": [
    "d=-5.6\n",
    "print(not d)"
   ]
  },
  {
   "cell_type": "markdown",
   "id": "fdbb9378-9c11-4041-88c5-fe87cc0706f2",
   "metadata": {},
   "source": [
    "## 5. Membership Operators\n",
    "- in"
   ]
  },
  {
   "cell_type": "code",
   "execution_count": 27,
   "id": "204addde-f2c5-4cd4-95de-fdbf3f480d97",
   "metadata": {},
   "outputs": [
    {
     "data": {
      "text/plain": [
       "True"
      ]
     },
     "execution_count": 27,
     "metadata": {},
     "output_type": "execute_result"
    }
   ],
   "source": [
    "'y' in 'python'"
   ]
  },
  {
   "cell_type": "code",
   "execution_count": 28,
   "id": "5ae9c6ed-304d-46d4-965a-620bd489e5c9",
   "metadata": {},
   "outputs": [
    {
     "data": {
      "text/plain": [
       "False"
      ]
     },
     "execution_count": 28,
     "metadata": {},
     "output_type": "execute_result"
    }
   ],
   "source": [
    "'Y' in 'Python'"
   ]
  },
  {
   "cell_type": "markdown",
   "id": "1c769427-3f09-4c80-b105-6b9a798d0f61",
   "metadata": {},
   "source": [
    "## 6.Identity Operators\n",
    "- check if the memory locations are same or not"
   ]
  },
  {
   "cell_type": "code",
   "execution_count": 33,
   "id": "65e4108a-a4d7-45eb-a3ef-b5a4fb117e77",
   "metadata": {},
   "outputs": [
    {
     "name": "stderr",
     "output_type": "stream",
     "text": [
      "<>:1: SyntaxWarning: \"is\" with 'int' literal. Did you mean \"==\"?\n",
      "<>:1: SyntaxWarning: \"is\" with 'int' literal. Did you mean \"==\"?\n",
      "C:\\Users\\prana\\AppData\\Local\\Temp\\ipykernel_19016\\3497154638.py:1: SyntaxWarning: \"is\" with 'int' literal. Did you mean \"==\"?\n",
      "  1 is 1\n"
     ]
    },
    {
     "data": {
      "text/plain": [
       "True"
      ]
     },
     "execution_count": 33,
     "metadata": {},
     "output_type": "execute_result"
    }
   ],
   "source": [
    "1 is 1\n"
   ]
  },
  {
   "cell_type": "code",
   "execution_count": 35,
   "id": "e0d05b04-f94a-4ac2-bef6-570eaa443968",
   "metadata": {},
   "outputs": [
    {
     "name": "stdout",
     "output_type": "stream",
     "text": [
      "True\n",
      "True\n"
     ]
    }
   ],
   "source": [
    "a=1\n",
    "b=1\n",
    "print(a is b)\n",
    "c=id(a)==id(b)\n",
    "print(c)"
   ]
  },
  {
   "cell_type": "markdown",
   "id": "e5739a4e-a7d7-47a3-ae03-8b0a50a55517",
   "metadata": {},
   "source": [
    "#### 7.Bitwise Operators\n",
    "- are used to perform operations on binary digits\n"
   ]
  },
  {
   "cell_type": "markdown",
   "id": "4c6daf35-077d-449c-a7ea-0fbf3f3531d1",
   "metadata": {},
   "source": [
    "- bitwise and\n",
    "- bitwise or\n",
    "- bitwise not\n",
    "- right shift\n",
    "- left shift"
   ]
  },
  {
   "cell_type": "markdown",
   "id": "371f6249-1e44-4cbd-b645-5079da37ab53",
   "metadata": {},
   "source": [
    "#### i.Bitwise AND(&)\n",
    "- it multiplies the binary digits of the values"
   ]
  },
  {
   "cell_type": "code",
   "execution_count": 37,
   "id": "8428289e-a3b5-43b0-a98f-6f63258eb981",
   "metadata": {},
   "outputs": [
    {
     "name": "stdout",
     "output_type": "stream",
     "text": [
      "2\n"
     ]
    }
   ],
   "source": [
    "a=3\n",
    "b=2\n",
    "print(a & b)"
   ]
  },
  {
   "cell_type": "code",
   "execution_count": 38,
   "id": "2c671537-0154-44ab-a6f1-90cbe9cbdeec",
   "metadata": {},
   "outputs": [
    {
     "name": "stdout",
     "output_type": "stream",
     "text": [
      "0\n"
     ]
    }
   ],
   "source": [
    "x=5\n",
    "y=2\n",
    "print(x&y)"
   ]
  },
  {
   "cell_type": "markdown",
   "id": "09997d16-ca49-41f8-9dab-9fccfd44d96b",
   "metadata": {},
   "source": [
    "### ii.Bitwise OR(|)\n",
    "- it adds the binary digits of the values."
   ]
  },
  {
   "cell_type": "code",
   "execution_count": 3,
   "id": "a3f7cf0b-027e-4a2d-bbe5-60dad60d4dd7",
   "metadata": {},
   "outputs": [
    {
     "name": "stdout",
     "output_type": "stream",
     "text": [
      "3\n"
     ]
    }
   ],
   "source": [
    "a=3\n",
    "b=2\n",
    "print(a|b)"
   ]
  },
  {
   "cell_type": "markdown",
   "id": "343d1b70-7018-47f6-a1a1-2ed5698771cd",
   "metadata": {},
   "source": [
    "### iii.Bitwise NOT(~)(tilda symbol)\n",
    "- -(a+1)"
   ]
  },
  {
   "cell_type": "code",
   "execution_count": 4,
   "id": "77e82ea9-672e-48a8-93a7-6caaa3c4b4ae",
   "metadata": {},
   "outputs": [
    {
     "name": "stdout",
     "output_type": "stream",
     "text": [
      "-7\n"
     ]
    }
   ],
   "source": [
    "a=6\n",
    "print(~a)"
   ]
  },
  {
   "cell_type": "markdown",
   "id": "5c4552e3-797b-4997-ad4b-595cd37cada8",
   "metadata": {},
   "source": [
    "### iv.Right Shift(>>)\n",
    "- they are used to shift binary digits once"
   ]
  },
  {
   "cell_type": "code",
   "execution_count": 8,
   "id": "429f3d26-190d-4001-83bb-e5c09ac19da8",
   "metadata": {},
   "outputs": [
    {
     "data": {
      "text/plain": [
       "4"
      ]
     },
     "execution_count": 8,
     "metadata": {},
     "output_type": "execute_result"
    }
   ],
   "source": [
    "x=150\n",
    "x>>5 #operand on the right side decides how many times the digits to be shifted"
   ]
  },
  {
   "cell_type": "markdown",
   "id": "01d57c87-34c6-41be-a37a-61d53cee3406",
   "metadata": {},
   "source": [
    "### V.Left Shift(<<)\n",
    "- they are to shift the binary digits to the left side"
   ]
  },
  {
   "cell_type": "code",
   "execution_count": 1,
   "id": "47a5ef8d-a178-48a7-9bee-8b8e9849fdf1",
   "metadata": {},
   "outputs": [
    {
     "data": {
      "text/plain": [
       "16"
      ]
     },
     "execution_count": 1,
     "metadata": {},
     "output_type": "execute_result"
    }
   ],
   "source": [
    "a=4\n",
    "a<<1\n",
    "a<<2"
   ]
  },
  {
   "cell_type": "code",
   "execution_count": 5,
   "id": "f22a128c-55f1-4693-8606-f3830c093529",
   "metadata": {},
   "outputs": [
    {
     "name": "stdin",
     "output_type": "stream",
     "text": [
      " [1,2,3,4,5]\n"
     ]
    },
    {
     "name": "stdout",
     "output_type": "stream",
     "text": [
      "<class 'list'>\n"
     ]
    }
   ],
   "source": [
    "a=eval(input())\n",
    "print(type(a))"
   ]
  },
  {
   "cell_type": "raw",
   "id": "c01bee1c-6258-4660-88d4-bb3e8935806b",
   "metadata": {},
   "source": []
  }
 ],
 "metadata": {
  "kernelspec": {
   "display_name": "Python 3 (ipykernel)",
   "language": "python",
   "name": "python3"
  },
  "language_info": {
   "codemirror_mode": {
    "name": "ipython",
    "version": 3
   },
   "file_extension": ".py",
   "mimetype": "text/x-python",
   "name": "python",
   "nbconvert_exporter": "python",
   "pygments_lexer": "ipython3",
   "version": "3.12.7"
  }
 },
 "nbformat": 4,
 "nbformat_minor": 5
}
