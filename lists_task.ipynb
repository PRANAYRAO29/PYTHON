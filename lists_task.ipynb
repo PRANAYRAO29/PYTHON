{
 "cells": [
  {
   "cell_type": "markdown",
   "id": "2c1181bb-35f2-4ae6-bf6d-957943614dcb",
   "metadata": {},
   "source": [
    "## Q1. Concatenate two lists (like first names and last names) using +."
   ]
  },
  {
   "cell_type": "code",
   "execution_count": 2,
   "id": "464fb526-2847-42bf-ab4a-57f86e3242cd",
   "metadata": {},
   "outputs": [
    {
     "name": "stdout",
     "output_type": "stream",
     "text": [
      "['mattapelly', 'madibooyena', 'kyatham', 'merugu', 'pranay', 'sai', 'vishu', 'nithish']\n"
     ]
    }
   ],
   "source": [
    "first_names=[\"mattapelly\",\"madibooyena\",\"kyatham\",\"merugu\"]\n",
    "last_names=[\"pranay\",\"sai\",\"vishu\",\"nithish\"]\n",
    "print(first_names+last_names)"
   ]
  },
  {
   "cell_type": "markdown",
   "id": "d55a737c-7105-4e54-a343-90a0c78be43c",
   "metadata": {},
   "source": [
    "## Q2.Duplicate a list using the * operator and show how the elements repeat.\n"
   ]
  },
  {
   "cell_type": "code",
   "execution_count": 5,
   "id": "24b9229b-98bc-40e7-b5df-3d34151508a5",
   "metadata": {},
   "outputs": [
    {
     "name": "stdout",
     "output_type": "stream",
     "text": [
      "[1, 2, 3, 4, 5, 6, 7, 8, 1, 2, 3, 4, 5, 6, 7, 8]\n",
      "[1, 2, 3, 4, 5, 6, 7, 8, 1, 2, 3, 4, 5, 6, 7, 8, 1, 2, 3, 4, 5, 6, 7, 8]\n"
     ]
    }
   ],
   "source": [
    "a=[1,2,3,4,5,6,7,8]\n",
    "b=a*2\n",
    "print(b)\n",
    "c=a*3\n",
    "print(c)"
   ]
  },
  {
   "cell_type": "markdown",
   "id": "14e17c17-be39-4c75-af1b-b18ad2309ba6",
   "metadata": {},
   "source": [
    "## Q3.Access the last 3 items of a list using negative slicing."
   ]
  },
  {
   "cell_type": "code",
   "execution_count": 6,
   "id": "7154147f-335b-4b19-bc98-510617f8922c",
   "metadata": {},
   "outputs": [
    {
     "name": "stdout",
     "output_type": "stream",
     "text": [
      "[6, 7, 8]\n"
     ]
    }
   ],
   "source": [
    "a=[1,2,3,4,5,6,7,8]\n",
    "print(a[-3:])"
   ]
  },
  {
   "cell_type": "markdown",
   "id": "5bf87b48-9ec2-4551-9c4b-1baa78293ecc",
   "metadata": {},
   "source": [
    "## Q4.Use slicing to get a sublist from index 1 to 4"
   ]
  },
  {
   "cell_type": "code",
   "execution_count": 7,
   "id": "5b4f6d01-607a-420b-aedc-100c17d9104f",
   "metadata": {},
   "outputs": [
    {
     "name": "stdout",
     "output_type": "stream",
     "text": [
      "[1, 2, 3, 4, 5]\n"
     ]
    }
   ],
   "source": [
    "a=[1,2,3,4,5,6,7,8]\n",
    "print(a[:5])"
   ]
  },
  {
   "cell_type": "markdown",
   "id": "bd8af8be-b579-4b13-8ad6-187b8412fdb9",
   "metadata": {},
   "source": [
    "## Q5.Use del to delete the second element from a list."
   ]
  },
  {
   "cell_type": "code",
   "execution_count": 9,
   "id": "0bbf39ed-9d4f-4442-b4f6-066e2736af46",
   "metadata": {},
   "outputs": [
    {
     "data": {
      "text/plain": [
       "[1, 3, 4, 5, 6, 7, 8]"
      ]
     },
     "execution_count": 9,
     "metadata": {},
     "output_type": "execute_result"
    }
   ],
   "source": [
    "a=[1,2,3,4,5,6,7,8]\n",
    "del a[1]\n",
    "a"
   ]
  },
  {
   "cell_type": "markdown",
   "id": "75a001bd-8cc4-4c5f-b148-cc734cc596a6",
   "metadata": {},
   "source": [
    "## Q1. Create two lists and join them into a single list using +."
   ]
  },
  {
   "cell_type": "code",
   "execution_count": 10,
   "id": "89adbfae-b0bd-49dc-93d3-8f962a53a642",
   "metadata": {},
   "outputs": [
    {
     "name": "stdout",
     "output_type": "stream",
     "text": [
      "['mattapelly', 'madibooyena', 'kyatham', 'merugu', 'pranay', 'sai', 'vishu', 'nithish']\n"
     ]
    }
   ],
   "source": [
    "first_names=[\"mattapelly\",\"madibooyena\",\"kyatham\",\"merugu\"]\n",
    "last_names=[\"pranay\",\"sai\",\"vishu\",\"nithish\"]\n",
    "print(first_names+last_names)"
   ]
  },
  {
   "cell_type": "markdown",
   "id": "db220c2b-66b6-47e5-9fe0-be3998624e21",
   "metadata": {},
   "source": [
    "## Q2.Make a copy of a list and modify the copy. Show that the original list is unchanged"
   ]
  },
  {
   "cell_type": "code",
   "execution_count": 12,
   "id": "8daf4a0f-0783-471a-83e4-127fdbdbc4ba",
   "metadata": {},
   "outputs": [
    {
     "name": "stdout",
     "output_type": "stream",
     "text": [
      "[1, 2, 3, 4, 5, 6, 7, 8]\n",
      "[1, 2, 3, 4, 5, 6, 7, 8]\n"
     ]
    }
   ],
   "source": [
    "a=[1,2,3,4,5,6,7,8]\n",
    "b=a.copy()\n",
    "print(a)\n",
    "print(b)"
   ]
  },
  {
   "cell_type": "markdown",
   "id": "22a18552-18d0-4970-8ca3-b7b67f99e778",
   "metadata": {},
   "source": [
    "## Q3.Create a list of 5 integers and sort them in ascending order."
   ]
  },
  {
   "cell_type": "code",
   "execution_count": 17,
   "id": "fc9ea5f3-3a27-4415-88c2-51b64627167d",
   "metadata": {},
   "outputs": [
    {
     "name": "stdout",
     "output_type": "stream",
     "text": [
      "[1, 2, 3, 6, 8]\n"
     ]
    }
   ],
   "source": [
    "a=[1,2,6,3,8]\n",
    "a.sort()\n",
    "print(a)"
   ]
  },
  {
   "cell_type": "markdown",
   "id": "38b6fab1-8003-496c-8cd6-457e499869a4",
   "metadata": {},
   "source": [
    "## Q4.. Create a list of 5 strings and sort them in reverse alphabetical order.\n"
   ]
  },
  {
   "cell_type": "code",
   "execution_count": 20,
   "id": "ad30ca6e-2a98-4e03-b77c-efac05734623",
   "metadata": {},
   "outputs": [
    {
     "name": "stdout",
     "output_type": "stream",
     "text": [
      "['vishu', 'sai', 'pranay', 'nithish']\n"
     ]
    }
   ],
   "source": [
    "last_names=[\"pranay\",\"sai\",\"vishu\",\"nithish\"]\n",
    "last_names.sort(reverse='True')\n",
    "print(last_names)"
   ]
  },
  {
   "cell_type": "markdown",
   "id": "b701fbe4-750c-415c-b199-e85979cae341",
   "metadata": {},
   "source": [
    "## Q5.Create a list and reverse the entire list using a method."
   ]
  },
  {
   "cell_type": "code",
   "execution_count": 22,
   "id": "9c74f463-f61c-44c4-b16c-e24187dc0f6d",
   "metadata": {},
   "outputs": [
    {
     "data": {
      "text/plain": [
       "[8, 7, 6, 5, 4, 3, 2, 1]"
      ]
     },
     "execution_count": 22,
     "metadata": {},
     "output_type": "execute_result"
    }
   ],
   "source": [
    "a=[1,2,3,4,5,6,7,8]\n",
    "a.sort(reverse='True')\n",
    "a"
   ]
  },
  {
   "cell_type": "markdown",
   "id": "0194b57e-1608-4ec9-8b26-66d1a5dd3843",
   "metadata": {},
   "source": [
    "## Q6.Create a list of 4 colors. Clear all the elements using a method and print it."
   ]
  },
  {
   "cell_type": "code",
   "execution_count": 25,
   "id": "36647ff1-7761-4a5d-973e-2d4426ab45fc",
   "metadata": {},
   "outputs": [
    {
     "data": {
      "text/plain": [
       "[]"
      ]
     },
     "execution_count": 25,
     "metadata": {},
     "output_type": "execute_result"
    }
   ],
   "source": [
    "a=[\"red\",\"yellow\",\"green\",\"blue\"]\n",
    "a.clear()\n",
    "a"
   ]
  },
  {
   "cell_type": "markdown",
   "id": "262b28cb-b41d-4371-9bf0-a099e657a9ca",
   "metadata": {},
   "source": [
    "## Q7. Create a list and multiply it by 3 (list * 3). What is the result?"
   ]
  },
  {
   "cell_type": "code",
   "execution_count": 27,
   "id": "d2a54448-c50f-479a-8b36-5b4ea4d30af6",
   "metadata": {},
   "outputs": [
    {
     "name": "stdout",
     "output_type": "stream",
     "text": [
      "['red', 'yellow', 'green', 'blue', 'red', 'yellow', 'green', 'blue', 'red', 'yellow', 'green', 'blue']\n"
     ]
    }
   ],
   "source": [
    "a=[\"red\",\"yellow\",\"green\",\"blue\"]\n",
    "print(a*3)"
   ]
  },
  {
   "cell_type": "markdown",
   "id": "cf16e0c1-be92-4ff6-b7c7-260d8e542873",
   "metadata": {},
   "source": [
    "## Q8. Create a list and access only the first three items using slicing."
   ]
  },
  {
   "cell_type": "code",
   "execution_count": 28,
   "id": "f5fde17f-cb9c-4d43-89d8-9428a996bbb6",
   "metadata": {},
   "outputs": [
    {
     "name": "stdout",
     "output_type": "stream",
     "text": [
      "['mattapelly', 'madibooyena', 'kyatham']\n"
     ]
    }
   ],
   "source": [
    "first_names=[\"mattapelly\",\"madibooyena\",\"kyatham\",\"merugu\"]\n",
    "print(first_names[:3])"
   ]
  },
  {
   "cell_type": "markdown",
   "id": "c2968964-3052-4635-b5f0-8073721e0e01",
   "metadata": {},
   "source": [
    "## Q9. Create a list and delete the second item using the del keyword."
   ]
  },
  {
   "cell_type": "code",
   "execution_count": 30,
   "id": "a8b3d52c-cb42-4d5c-913b-b5821e10d694",
   "metadata": {},
   "outputs": [
    {
     "name": "stdout",
     "output_type": "stream",
     "text": [
      "[1, 3, 4, 5, 6, 7, 8]\n"
     ]
    }
   ],
   "source": [
    "a=[1,2,3,4,5,6,7,8]\n",
    "del a[1]\n",
    "print(a)\n"
   ]
  },
  {
   "cell_type": "markdown",
   "id": "03e17488-2000-45c0-b694-2bd59fece801",
   "metadata": {},
   "source": [
    "## Q10. Create a list of your top 5 favorite movies.Remove a movie by name and then add a new one at the end.\n"
   ]
  },
  {
   "cell_type": "code",
   "execution_count": 32,
   "id": "797f3d40-a7d3-433b-8d00-9e07d16e9495",
   "metadata": {},
   "outputs": [
    {
     "data": {
      "text/plain": [
       "['ace', 'eleven', 'padakkalam', 'hrudaya kaleyam']"
      ]
     },
     "execution_count": 32,
     "metadata": {},
     "output_type": "execute_result"
    }
   ],
   "source": [
    "a=[\"ace\",\"eleven\",\"dark\",\"padakkalam\",\"hrudaya kaleyam\"]\n",
    "a.remove(\"dark\")\n",
    "a"
   ]
  },
  {
   "cell_type": "code",
   "execution_count": null,
   "id": "f087e78a-bbf0-40b6-a0d9-72dae19e0515",
   "metadata": {},
   "outputs": [],
   "source": []
  }
 ],
 "metadata": {
  "kernelspec": {
   "display_name": "Python 3 (ipykernel)",
   "language": "python",
   "name": "python3"
  },
  "language_info": {
   "codemirror_mode": {
    "name": "ipython",
    "version": 3
   },
   "file_extension": ".py",
   "mimetype": "text/x-python",
   "name": "python",
   "nbconvert_exporter": "python",
   "pygments_lexer": "ipython3",
   "version": "3.12.7"
  }
 },
 "nbformat": 4,
 "nbformat_minor": 5
}
