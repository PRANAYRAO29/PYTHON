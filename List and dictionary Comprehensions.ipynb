{
 "cells": [
  {
   "cell_type": "markdown",
   "id": "8c95276c-ec84-450b-9d96-0a3b5e0944c0",
   "metadata": {},
   "source": [
    "# List & Dictionary Comprehension:\n",
    "- syntax=[expression for item in iterables]\n",
    "- [expression for item in iterables if]"
   ]
  },
  {
   "cell_type": "code",
   "execution_count": 5,
   "id": "c678b71d-d42a-4d4f-b068-df73f08f4d79",
   "metadata": {},
   "outputs": [
    {
     "name": "stdout",
     "output_type": "stream",
     "text": [
      "[2, 4, 6, 8]\n"
     ]
    },
    {
     "data": {
      "text/plain": [
       "[2, 4, 6, 8]"
      ]
     },
     "execution_count": 5,
     "metadata": {},
     "output_type": "execute_result"
    }
   ],
   "source": [
    "a=[1,2,3,4]\n",
    "b=[]\n",
    "for i in a:\n",
    "    b.append(i*2)\n",
    "print(b)\n",
    "#we can do the same thing in comprehensions like this\n",
    "c=[i*2 for i in a]\n",
    "c"
   ]
  },
  {
   "cell_type": "code",
   "execution_count": 4,
   "id": "2f2c3142-f8ea-4089-b047-e34dfe3d1615",
   "metadata": {},
   "outputs": [
    {
     "data": {
      "text/plain": [
       "[2, 6]"
      ]
     },
     "execution_count": 4,
     "metadata": {},
     "output_type": "execute_result"
    }
   ],
   "source": [
    "a=[1,2,3,45,6,67]\n",
    "even=[]\n",
    "d=[i for i in a if i%2==0]\n",
    "d"
   ]
  },
  {
   "cell_type": "code",
   "execution_count": 21,
   "id": "f21f501f-fefe-4c3a-bb42-be270ccb5a23",
   "metadata": {},
   "outputs": [
    {
     "name": "stdout",
     "output_type": "stream",
     "text": [
      "['p', 's', 'v']\n",
      "['p', 's', 'v']\n"
     ]
    }
   ],
   "source": [
    "a=[\"pranay\",\"santhosh\",\"vishu\"]\n",
    "b=[]\n",
    "for i in a:\n",
    "    b.append(i[0])\n",
    "print(b)\n",
    "#using comprehensions\n",
    "c=[i[0][0] for i in a]\n",
    "print(c)\n"
   ]
  },
  {
   "cell_type": "code",
   "execution_count": null,
   "id": "c16a300f-aec0-4e02-a476-873cba556ff4",
   "metadata": {},
   "outputs": [],
   "source": [
    "# wap to filter out evens and odds seperately in new lists using comprehension"
   ]
  },
  {
   "cell_type": "code",
   "execution_count": null,
   "id": "46434bc8-31e9-4683-86a4-fa49c9c1d01b",
   "metadata": {},
   "outputs": [],
   "source": []
  },
  {
   "cell_type": "markdown",
   "id": "2cad2ccd-0ae8-4219-ae87-ef8a82b6d7f3",
   "metadata": {},
   "source": [
    "# Dictionary Comprehensions"
   ]
  },
  {
   "cell_type": "code",
   "execution_count": 27,
   "id": "9310e010-392d-4fe2-acea-4a4a1e507d91",
   "metadata": {},
   "outputs": [
    {
     "data": {
      "text/plain": [
       "{0: 0, 1: 2, 2: 4, 3: 6, 4: 8}"
      ]
     },
     "execution_count": 27,
     "metadata": {},
     "output_type": "execute_result"
    }
   ],
   "source": [
    "a={}\n",
    "for i in range(5):\n",
    "    a[i]=i*2\n",
    "a"
   ]
  },
  {
   "cell_type": "code",
   "execution_count": 29,
   "id": "d877a1a1-384f-44ff-abb3-1f6945d7e60d",
   "metadata": {},
   "outputs": [
    {
     "data": {
      "text/plain": [
       "{0: 0, 1: 2, 2: 4, 3: 6, 4: 8}"
      ]
     },
     "execution_count": 29,
     "metadata": {},
     "output_type": "execute_result"
    }
   ],
   "source": [
    "b={i:i*2 for i in range(5)}\n",
    "b"
   ]
  },
  {
   "cell_type": "code",
   "execution_count": 42,
   "id": "721eb996-448b-461a-b733-5267ccd9929e",
   "metadata": {
    "scrolled": true
   },
   "outputs": [
    {
     "data": {
      "text/plain": [
       "{0: 'pranay', 1: 'santhosh'}"
      ]
     },
     "execution_count": 42,
     "metadata": {},
     "output_type": "execute_result"
    }
   ],
   "source": [
    "a=[\"pranay\",\"santhosh\",\"vishu\"]\n",
    "{i:a[i] for i in range(len(a)) if len(a[i])>=6}"
   ]
  },
  {
   "cell_type": "code",
   "execution_count": 45,
   "id": "0191bd47-08d5-404b-8eb2-d1bb3b9a4bca",
   "metadata": {},
   "outputs": [
    {
     "data": {
      "text/plain": [
       "{'pranay': 6, 'santhosh': 8}"
      ]
     },
     "execution_count": 45,
     "metadata": {},
     "output_type": "execute_result"
    }
   ],
   "source": [
    "a=[\"pranay\",\"santhosh\",\"vishu\"]\n",
    "{i:len(i) for i in a if len(i)>5}S"
   ]
  },
  {
   "cell_type": "code",
   "execution_count": 10,
   "id": "2de154aa-3a3e-4d14-a548-07c5a7b2f89d",
   "metadata": {},
   "outputs": [
    {
     "data": {
      "text/plain": [
       "[4, 6, 8, 10, 12, 14]"
      ]
     },
     "execution_count": 10,
     "metadata": {},
     "output_type": "execute_result"
    }
   ],
   "source": [
    "a=[2,3,4,5,6,7]\n",
    "b=list(map(lambda i:i*2,a))\n",
    "b"
   ]
  },
  {
   "cell_type": "code",
   "execution_count": 3,
   "id": "1da0d809-453c-46dc-8051-fecb336df0fa",
   "metadata": {},
   "outputs": [
    {
     "data": {
      "text/plain": [
       "['pranay']"
      ]
     },
     "execution_count": 3,
     "metadata": {},
     "output_type": "execute_result"
    }
   ],
   "source": [
    "a=[\"Pranay\"]\n",
    "b=[i.lower() for i in a]\n",
    "b"
   ]
  },
  {
   "cell_type": "code",
   "execution_count": 9,
   "id": "8d0f4082-ad00-4524-b626-48c9334385a5",
   "metadata": {},
   "outputs": [
    {
     "ename": "AttributeError",
     "evalue": "'tuple' object has no attribute 'clear'",
     "output_type": "error",
     "traceback": [
      "\u001b[1;31m---------------------------------------------------------------------------\u001b[0m",
      "\u001b[1;31mAttributeError\u001b[0m                            Traceback (most recent call last)",
      "Cell \u001b[1;32mIn[9], line 2\u001b[0m\n\u001b[0;32m      1\u001b[0m a\u001b[38;5;241m=\u001b[39m(\u001b[38;5;241m1\u001b[39m,\u001b[38;5;241m2\u001b[39m,\u001b[38;5;241m3\u001b[39m,\u001b[38;5;241m4\u001b[39m)\n\u001b[1;32m----> 2\u001b[0m a\u001b[38;5;241m.\u001b[39mclear()\n",
      "\u001b[1;31mAttributeError\u001b[0m: 'tuple' object has no attribute 'clear'"
     ]
    }
   ],
   "source": [
    "a=(1,2,3,4)\n",
    "a.clear()"
   ]
  },
  {
   "cell_type": "code",
   "execution_count": null,
   "id": "98919fff-a2fd-4922-aba0-8715a01512db",
   "metadata": {},
   "outputs": [],
   "source": []
  }
 ],
 "metadata": {
  "kernelspec": {
   "display_name": "Python 3 (ipykernel)",
   "language": "python",
   "name": "python3"
  },
  "language_info": {
   "codemirror_mode": {
    "name": "ipython",
    "version": 3
   },
   "file_extension": ".py",
   "mimetype": "text/x-python",
   "name": "python",
   "nbconvert_exporter": "python",
   "pygments_lexer": "ipython3",
   "version": "3.12.7"
  }
 },
 "nbformat": 4,
 "nbformat_minor": 5
}
