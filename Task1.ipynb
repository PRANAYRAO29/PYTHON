{
 "cells": [
  {
   "cell_type": "markdown",
   "id": "934f00da-2d55-42ca-b03d-0ebc82e6262a",
   "metadata": {},
   "source": [
    "# 1.What is Python?\n",
    "- Python is a general purpose high-level language.\n",
    "- Python is object-oriented.\n",
    "- python is interpreted language."
   ]
  },
  {
   "cell_type": "markdown",
   "id": "5a3f1b2b-7e28-4a13-aeaa-bc4768dccc5f",
   "metadata": {},
   "source": [
    "# 2. Who created Python and when?\n",
    "- Python was invented by Guido Van Rossum in the year 1991."
   ]
  },
  {
   "cell_type": "markdown",
   "id": "fbf727db-2fa4-4b84-bab3-76874167988e",
   "metadata": {},
   "source": [
    "# 3. Why is Python a popular programming language?\n",
    "- Python is easy to learn.\n",
    "- Python is dynamically typed.\n",
    "- python has many inbuit functions.\n",
    "- Python is rich in libraries.\n",
    "- Python is Open Source."
   ]
  },
  {
   "cell_type": "markdown",
   "id": "a90cfc28-a168-4819-b01d-edc7b2a4fad9",
   "metadata": {},
   "source": [
    "# 4. What are some common uses of Python?\n",
    "- Web Development\n",
    "- Artificial Intelligence.\n",
    "- Machine Learning.\n",
    "- Deep Learning.\n",
    "- Automation/Testing.\n",
    "- Data Science.\n",
    "- Game Development.\n",
    "- Internet Of Things.\n",
    "- Robotics.\n",
    "- And Many More......."
   ]
  },
  {
   "cell_type": "markdown",
   "id": "58ee214d-ebb3-48bb-a486-b38ceb94de23",
   "metadata": {},
   "source": [
    "# 5. Is Python a compiled or interpreted language?\n",
    "- Python is a interpreted language."
   ]
  },
  {
   "cell_type": "markdown",
   "id": "3a55a562-5e56-429f-a750-c58d075d218b",
   "metadata": {},
   "source": [
    "# 6. What is a variable in Python?\n",
    "- Variable in python stores the memory location of a value."
   ]
  },
  {
   "cell_type": "markdown",
   "id": "ba85540a-c504-4fba-8b80-11ebaa4afe07",
   "metadata": {},
   "source": [
    "# 7. What is the file extension for Python files?\n",
    "- (IPYNB) in jupyter notebook. But in general we use (.PY)."
   ]
  },
  {
   "cell_type": "markdown",
   "id": "b9c542ff-8ad5-444d-ab41-9a51ac00d97b",
   "metadata": {},
   "source": [
    "# 8. What is an IDE and name a few used for Python development?\n",
    "- IDE is a Integrated Development Environment.\n",
    "- Few IDE's are PyCharm,Jupyter notebook,Spyder,Google Collab,Visual Studio Code,etc....."
   ]
  },
  {
   "cell_type": "markdown",
   "id": "455c4e56-2f3a-4947-acf2-455295aea57c",
   "metadata": {},
   "source": [
    "# 9. What is Jupyter Notebook and what is it used for?\n",
    "- Jupyter Notebook is  a opensource ide where we can write,edit and run any kind of text."
   ]
  },
  {
   "cell_type": "markdown",
   "id": "8a1eca65-7eb9-4270-946f-08329b9e0872",
   "metadata": {},
   "source": [
    "# 10. How do you run a cell in Jupyter Notebook?\n",
    "- we can run a cell by clicking Run in the Navigation Bar. (OR)\n",
    "- we can run using Shift+Enter in your keyboard."
   ]
  },
  {
   "cell_type": "markdown",
   "id": "5a815bd7-694c-4390-a41d-b9e1ed4c3c62",
   "metadata": {},
   "source": [
    "# 11. What is the difference between a code cell and a markdown cell in Jupyter Notebook?\n",
    "- Code cells are where you write and execute your code. You can write code in various programming languages.\n",
    "- Markdown cells are used to create formatted text, including headings, lists."
   ]
  },
  {
   "cell_type": "markdown",
   "id": "8e3af5f4-e97e-4e88-a236-c0b9ad4845fa",
   "metadata": {},
   "source": [
    "# 12. How do you save your work in Jupyter Notebook?\n",
    "- we can save our work in Jupyter Notebook by clicking file and then save Notebook.(OR)\n",
    "- By clicking the Control+S."
   ]
  },
  {
   "cell_type": "markdown",
   "id": "25a767df-f6db-4322-86e5-e722b75fa598",
   "metadata": {},
   "source": [
    "# 13. What are the advantages of using Jupyter Notebook for Python programming?\n",
    "- we can run the code line by line.\n",
    "- we can divide the code to clusters and test the code."
   ]
  },
  {
   "cell_type": "code",
   "execution_count": null,
   "id": "bd0cb850-7709-4bd5-9fcb-d58e789c51a3",
   "metadata": {},
   "outputs": [],
   "source": []
  }
 ],
 "metadata": {
  "kernelspec": {
   "display_name": "Python 3 (ipykernel)",
   "language": "python",
   "name": "python3"
  },
  "language_info": {
   "codemirror_mode": {
    "name": "ipython",
    "version": 3
   },
   "file_extension": ".py",
   "mimetype": "text/x-python",
   "name": "python",
   "nbconvert_exporter": "python",
   "pygments_lexer": "ipython3",
   "version": "3.12.7"
  }
 },
 "nbformat": 4,
 "nbformat_minor": 5
}
