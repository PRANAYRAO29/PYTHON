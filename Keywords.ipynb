{
 "cells": [
  {
   "attachments": {},
   "cell_type": "markdown",
   "id": "a36b0aca-84f5-46df-8974-9abfe522cc36",
   "metadata": {},
   "source": [
    "## KEYWORDS:\n",
    "\n",
    "- are reserved words in python.\n",
    "- are special words reserved for specific purpose"
   ]
  },
  {
   "cell_type": "code",
   "execution_count": 41,
   "id": "6dc38c96-709b-4f14-9faf-6b40bef67b3a",
   "metadata": {},
   "outputs": [
    {
     "name": "stdout",
     "output_type": "stream",
     "text": [
      "['False', 'None', 'True', 'and', 'as', 'assert', 'async', 'await', 'break', 'class', 'continue', 'def', 'del', 'elif', 'else', 'except', 'finally', 'for', 'from', 'global', 'if', 'import', 'in', 'is', 'lambda', 'nonlocal', 'not', 'or', 'pass', 'raise', 'return', 'try', 'while', 'with', 'yield']\n"
     ]
    }
   ],
   "source": [
    "import keyword\n",
    "print(keyword.kwlist)"
   ]
  },
  {
   "cell_type": "code",
   "execution_count": 42,
   "id": "a435f7a3-2b0d-494c-a1ad-714cf425fe1d",
   "metadata": {
    "scrolled": true
   },
   "outputs": [
    {
     "data": {
      "text/plain": [
       "35"
      ]
     },
     "execution_count": 42,
     "metadata": {},
     "output_type": "execute_result"
    }
   ],
   "source": [
    "len(keyword.kwlist)"
   ]
  },
  {
   "cell_type": "markdown",
   "id": "d8acd2d1-e56a-4b58-9df3-d999cef9b387",
   "metadata": {},
   "source": [
    "# VARIABLES\n",
    "- are used to store values or placeholders\n",
    "### Syntax\n",
    "- variable_Name = value"
   ]
  },
  {
   "cell_type": "code",
   "execution_count": 43,
   "id": "8a2b4924-12bd-423b-8841-ac702020d783",
   "metadata": {},
   "outputs": [
    {
     "name": "stdout",
     "output_type": "stream",
     "text": [
      "5\n",
      "5\n",
      "5\n",
      "5\n",
      "5\n"
     ]
    }
   ],
   "source": [
    "a=5\n",
    "az=5\n",
    "Az=5\n",
    "AA=5\n",
    "A_B=5\n",
    "print(a)\n",
    "print(az)\n",
    "print(Az)\n",
    "print(AA)\n",
    "print(A_B)"
   ]
  },
  {
   "cell_type": "code",
   "execution_count": 44,
   "id": "77b03774-d5cb-48a3-8ff2-ecae1eba3f40",
   "metadata": {},
   "outputs": [
    {
     "ename": "SyntaxError",
     "evalue": "cannot assign to expression here. Maybe you meant '==' instead of '='? (124918268.py, line 2)",
     "output_type": "error",
     "traceback": [
      "\u001b[1;36m  Cell \u001b[1;32mIn[44], line 2\u001b[1;36m\u001b[0m\n\u001b[1;33m    a@r=5\u001b[0m\n\u001b[1;37m    ^\u001b[0m\n\u001b[1;31mSyntaxError\u001b[0m\u001b[1;31m:\u001b[0m cannot assign to expression here. Maybe you meant '==' instead of '='?\n"
     ]
    }
   ],
   "source": [
    "\n",
    "#a=5\n",
    "a@r=5\n",
    "&=5"
   ]
  },
  {
   "cell_type": "code",
   "execution_count": 49,
   "id": "1397cd78-56b5-4df8-9685-70eb99f04a0e",
   "metadata": {},
   "outputs": [],
   "source": [
    "x=5\n",
    "y=5\n",
    "z=\"Stored\""
   ]
  },
  {
   "cell_type": "code",
   "execution_count": 50,
   "id": "54bdb009-bb03-493a-b46e-4c2683f495cc",
   "metadata": {},
   "outputs": [
    {
     "name": "stdout",
     "output_type": "stream",
     "text": [
      "5\n",
      "<class 'int'>\n",
      "<class 'str'>\n"
     ]
    }
   ],
   "source": [
    "print(x)\n",
    "print(type(x))\n",
    "print(type(z))"
   ]
  },
  {
   "cell_type": "code",
   "execution_count": 47,
   "id": "18f3fd74-4774-4b19-85e5-29e419554e27",
   "metadata": {},
   "outputs": [
    {
     "name": "stdout",
     "output_type": "stream",
     "text": [
      "140703764982328\n",
      "140703764982328\n"
     ]
    }
   ],
   "source": [
    "print(id(x))\n",
    "print(id(y))"
   ]
  },
  {
   "cell_type": "raw",
   "id": "5656e33e-45b0-401b-9013-0567ccd017ca",
   "metadata": {},
   "source": []
  },
  {
   "cell_type": "code",
   "execution_count": null,
   "id": "429bfe7e-3f38-4d63-89e1-b3e125a5a8e3",
   "metadata": {},
   "outputs": [],
   "source": []
  }
 ],
 "metadata": {
  "kernelspec": {
   "display_name": "Python 3 (ipykernel)",
   "language": "python",
   "name": "python3"
  },
  "language_info": {
   "codemirror_mode": {
    "name": "ipython",
    "version": 3
   },
   "file_extension": ".py",
   "mimetype": "text/x-python",
   "name": "python",
   "nbconvert_exporter": "python",
   "pygments_lexer": "ipython3",
   "version": "3.12.7"
  }
 },
 "nbformat": 4,
 "nbformat_minor": 5
}
