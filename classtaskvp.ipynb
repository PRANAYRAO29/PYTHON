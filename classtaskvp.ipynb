{
 "cells": [
  {
   "cell_type": "markdown",
   "id": "52d3df7a-3b02-4651-8f86-734bb960397b",
   "metadata": {},
   "source": [
    "# Write a Python program that takes a messy sentence from the user and performs the following operations:\n",
    "## Step 1: Take Input and Remove Extra Spaces\n",
    "- Ask the user to enter a sentence.\n",
    "- Remove extra spaces from the beginning and end using the strip() method.\n",
    "- Print the cleaned sentence."
   ]
  },
  {
   "cell_type": "code",
   "execution_count": 30,
   "id": "1a883914-9a4e-4bbc-be1e-d13c7879c7a2",
   "metadata": {},
   "outputs": [
    {
     "name": "stdin",
     "output_type": "stream",
     "text": [
      "Enter a Sentence: data science\n"
     ]
    },
    {
     "name": "stdout",
     "output_type": "stream",
     "text": [
      "data science\n"
     ]
    }
   ],
   "source": [
    "a = input(\"Enter a Sentence:\")\n",
    "b = a.strip()\n",
    "print(a)"
   ]
  },
  {
   "cell_type": "markdown",
   "id": "ad57332f-ff85-4c47-aa94-f9267795af78",
   "metadata": {},
   "source": [
    "## Step 2: Find Length of the Sentence\n",
    "- Find and print the total number of characters in the cleaned sentence using the len() function."
   ]
  },
  {
   "cell_type": "code",
   "execution_count": 31,
   "id": "368bafe8-b9ab-474d-9916-77ac96d67741",
   "metadata": {},
   "outputs": [
    {
     "data": {
      "text/plain": [
       "12"
      ]
     },
     "execution_count": 31,
     "metadata": {},
     "output_type": "execute_result"
    }
   ],
   "source": [
    "len(b)"
   ]
  },
  {
   "cell_type": "markdown",
   "id": "abddd5c9-4ab5-47df-ab5c-b11d58a90823",
   "metadata": {},
   "source": [
    "## Step 3: Check Start and End\n",
    "- Check if the sentence starts with the word \"Hello\" using startswith().\n",
    "- Check if the sentence ends with a period (.) using endswith().\n",
    "- Print the result as True or False."
   ]
  },
  {
   "cell_type": "code",
   "execution_count": 32,
   "id": "4c98ad9f-986f-4adc-a3e8-0317ab195185",
   "metadata": {},
   "outputs": [
    {
     "name": "stdout",
     "output_type": "stream",
     "text": [
      "False\n"
     ]
    }
   ],
   "source": [
    "if b.startswith(\"Hello\") or b.endswith('.'):\n",
    "    print(True)\n",
    "else:\n",
    "    print(False)\n"
   ]
  },
  {
   "cell_type": "markdown",
   "id": "3ded2f09-79ce-4c67-bb63-ee5a8d70695f",
   "metadata": {},
   "source": [
    "## Step 4: Count a Specific Letter\n",
    "\n",
    "- Count how many times the letter \"a\" appears in the sentence using the count() method.\n",
    "- Print the result."
   ]
  },
  {
   "cell_type": "code",
   "execution_count": 33,
   "id": "d40b855d-4497-4d70-a5c5-b516e37744b7",
   "metadata": {},
   "outputs": [
    {
     "name": "stdout",
     "output_type": "stream",
     "text": [
      "2\n"
     ]
    }
   ],
   "source": [
    "print(b.count('a'))"
   ]
  },
  {
   "cell_type": "markdown",
   "id": "573836da-2452-4316-813b-aba44510ea8b",
   "metadata": {},
   "source": [
    "## Step 5: Split Sentence and Delete a Word\n",
    "\n",
    "- Split the sentence into words using split().\n",
    "- If there are two or more words, delete the second word using the del keyword.\n",
    "- Print the new list of words."
   ]
  },
  {
   "cell_type": "code",
   "execution_count": 34,
   "id": "ff3e4202-9a93-401a-9e4f-88906f1cf017",
   "metadata": {},
   "outputs": [
    {
     "name": "stdout",
     "output_type": "stream",
     "text": [
      "['data', 'science']\n"
     ]
    }
   ],
   "source": [
    "print(b.split())"
   ]
  },
  {
   "cell_type": "markdown",
   "id": "3e0829d1-975a-40fd-b8c8-8986c5a0db51",
   "metadata": {},
   "source": [
    "## Step 6: Replace a Word\n",
    "\n",
    "- Join the list of words back into a sentence.\n",
    "- Replace the word \"bad\" with \"good\" using the replace() method.\n",
    "- Print the modified sentence."
   ]
  },
  {
   "cell_type": "code",
   "execution_count": 35,
   "id": "ff97c8b0-2c7e-4334-80de-4a3a63493dc9",
   "metadata": {},
   "outputs": [
    {
     "name": "stdout",
     "output_type": "stream",
     "text": [
      "data science\n"
     ]
    }
   ],
   "source": [
    "print(b)\n",
    "c=b.replace(\"bad\",\"good\")\n"
   ]
  },
  {
   "cell_type": "markdown",
   "id": "62d15613-a1ab-42b5-b3cf-9ad0945951d8",
   "metadata": {},
   "source": [
    "## Step 7: Capitalize the Sentence\n",
    "- Capitalize the sentence using the capitalize() method.\n",
    "- Print the result."
   ]
  },
  {
   "cell_type": "code",
   "execution_count": 36,
   "id": "348df83c-c4e6-4322-8b6f-160774a72639",
   "metadata": {},
   "outputs": [
    {
     "name": "stdout",
     "output_type": "stream",
     "text": [
      "Data science\n"
     ]
    }
   ],
   "source": [
    "print(b.capitalize())"
   ]
  },
  {
   "cell_type": "code",
   "execution_count": 1,
   "id": "45763407-8a43-452e-a928-02f2d1a85a82",
   "metadata": {},
   "outputs": [
    {
     "data": {
      "text/plain": [
       "tuple"
      ]
     },
     "execution_count": 1,
     "metadata": {},
     "output_type": "execute_result"
    }
   ],
   "source": [
    "type((5,))"
   ]
  },
  {
   "cell_type": "code",
   "execution_count": 3,
   "id": "3bf9810c-a20c-4730-b14e-7272940ca49e",
   "metadata": {},
   "outputs": [
    {
     "data": {
      "text/plain": [
       "NoneType"
      ]
     },
     "execution_count": 3,
     "metadata": {},
     "output_type": "execute_result"
    }
   ],
   "source": [
    "t=(None)\n",
    "type(t)"
   ]
  },
  {
   "cell_type": "code",
   "execution_count": null,
   "id": "11781edc-fc1f-45e2-8809-d2a1efd7885a",
   "metadata": {},
   "outputs": [],
   "source": []
  }
 ],
 "metadata": {
  "kernelspec": {
   "display_name": "Python 3 (ipykernel)",
   "language": "python",
   "name": "python3"
  },
  "language_info": {
   "codemirror_mode": {
    "name": "ipython",
    "version": 3
   },
   "file_extension": ".py",
   "mimetype": "text/x-python",
   "name": "python",
   "nbconvert_exporter": "python",
   "pygments_lexer": "ipython3",
   "version": "3.12.7"
  }
 },
 "nbformat": 4,
 "nbformat_minor": 5
}
