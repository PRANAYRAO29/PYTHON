{
 "cells": [
  {
   "cell_type": "markdown",
   "id": "9f69eb5e-57c9-406c-bf6e-8bd6f0ad6f8c",
   "metadata": {},
   "source": [
    "# Lists\n",
    "- it is a ordered collection of elements/items.\n",
    "- represented by square brackets []\n",
    "- list allows all datatypes(int,float,strings,boolean,mixed datatype,nested lists).\n",
    "- list is a mutable datatype and allows duplicates."
   ]
  },
  {
   "cell_type": "code",
   "execution_count": 34,
   "id": "e5133541-6971-456c-adb8-169c220bc901",
   "metadata": {},
   "outputs": [
    {
     "name": "stdout",
     "output_type": "stream",
     "text": [
      "[]\n",
      "<class 'list'>\n"
     ]
    }
   ],
   "source": [
    "a=[]\n",
    "print(a)\n",
    "print(type(a))"
   ]
  },
  {
   "cell_type": "code",
   "execution_count": 35,
   "id": "afea6f8c-a3fe-4fa3-9407-8da3e598fbcc",
   "metadata": {},
   "outputs": [
    {
     "name": "stdout",
     "output_type": "stream",
     "text": [
      "[1, 2, 3, 4, 5]\n",
      "[1.0, 2.0, 3.0]\n",
      "['hello', 'python']\n",
      "[1, 1.0, True, 'data', 9]\n",
      "[1, 3, ['data', True, 4.0], 7]\n"
     ]
    }
   ],
   "source": [
    "b=[1,2,3,4,5]               #integers\n",
    "c=[1.0,2.0,3.0]             #float\n",
    "d=['hello','python']        #strings\n",
    "e=[1,1.0,True,'data',9]     #mixed\n",
    "f=[1,3,['data',True,4.0],7] #nested list\n",
    "print(b)\n",
    "print(c)\n",
    "print(d)\n",
    "print(e)\n",
    "print(f)"
   ]
  },
  {
   "cell_type": "markdown",
   "id": "e6bde070-a4f8-4492-9bec-c1a0dace182f",
   "metadata": {},
   "source": [
    "# list indexing and list slicing"
   ]
  },
  {
   "cell_type": "code",
   "execution_count": 36,
   "id": "f6f548cd-41c2-4118-b1d0-868a2d49641c",
   "metadata": {},
   "outputs": [
    {
     "name": "stdout",
     "output_type": "stream",
     "text": [
      "1\n",
      "data\n",
      "[1, 1.0, True, 'data', 9]\n",
      "[1, 1.0, True, 'data', 9]\n",
      "[9, 'data', True, 1.0, 1]\n",
      "[True]\n",
      "[1.0, True, 'data']\n"
     ]
    }
   ],
   "source": [
    "e=[1,1.0,True,'data',9]\n",
    "print(e[0])\n",
    "print(e[-2])\n",
    "\n",
    "print(e[:len(e)])\n",
    "print(e[0:])\n",
    "print(e[::-1])\n",
    "print(e[2:3:2])\n",
    "print(e[-4:-1:1])"
   ]
  },
  {
   "cell_type": "code",
   "execution_count": 37,
   "id": "70015bfa-0f79-4044-b40e-6e2bcf74f21b",
   "metadata": {},
   "outputs": [
    {
     "name": "stdout",
     "output_type": "stream",
     "text": [
      "hyderabad\n",
      "hyderabad\n",
      "hyderabad\n",
      "hyderabad\n",
      "[2, 3.6, ['python', 4.5, 8]]\n",
      "['cat', 'hyderabad']\n"
     ]
    }
   ],
   "source": [
    "g=[2,3.6,[\"python\",4.5,8],[4,\"cat\",\"hyderabad\",9],10,11]\n",
    "print(g[3][2])\n",
    "print(g[-3][-2]) ## to get a value from a nested list.\n",
    "print(g[-3][2])\n",
    "print(g[3][-2])\n",
    "print(g[:3])\n",
    "print(g[3][1:3])"
   ]
  },
  {
   "cell_type": "markdown",
   "id": "95dbe914-d490-42fc-8633-76a210d5b029",
   "metadata": {},
   "source": [
    "# List Methods"
   ]
  },
  {
   "cell_type": "markdown",
   "id": "4f75aaff-5d6c-4b11-9d16-35a25e205ca5",
   "metadata": {},
   "source": [
    "## i.append:\n",
    "- it is used to add single element to the list.\n",
    "- list_name.append(value)"
   ]
  },
  {
   "cell_type": "code",
   "execution_count": 38,
   "id": "b221626a-bfe3-4cc2-97eb-cac3e6b26169",
   "metadata": {},
   "outputs": [
    {
     "name": "stdout",
     "output_type": "stream",
     "text": [
      "[1, 2, 3, 4, 5, 2]\n"
     ]
    }
   ],
   "source": [
    "a=[1,2,3,4,5]\n",
    "a.append(2)\n",
    "print(a)"
   ]
  },
  {
   "cell_type": "markdown",
   "id": "a3f04005-eaa9-4884-b68a-dd5eed1d2e58",
   "metadata": {},
   "source": [
    "## ii.extend:\n",
    "- it is used to extend existing list with more than one element.\n",
    "- list_name.extend([values])"
   ]
  },
  {
   "cell_type": "code",
   "execution_count": 39,
   "id": "b1d2a108-f20e-48ba-aac0-3c291b3e198b",
   "metadata": {},
   "outputs": [
    {
     "name": "stdout",
     "output_type": "stream",
     "text": [
      "[1, 2, 3, 4, 5, 2, 'data', 2, 3.4]\n"
     ]
    }
   ],
   "source": [
    "a.extend(['data',2,3.4])\n",
    "print(a)"
   ]
  },
  {
   "cell_type": "markdown",
   "id": "ab2dd64a-2427-4778-8e75-8c358b4b8b9f",
   "metadata": {},
   "source": [
    "## iii.changing values in a list:\n",
    "- we can change the value in list by assigning the values using the index position.\n",
    "- list_name[index_position]=value"
   ]
  },
  {
   "cell_type": "code",
   "execution_count": 40,
   "id": "c49722c5-7143-4683-ae84-5dc0f274c0d6",
   "metadata": {},
   "outputs": [],
   "source": [
    "a[2]='data'"
   ]
  },
  {
   "cell_type": "code",
   "execution_count": 41,
   "id": "fa483b03-4bd6-45e7-9c87-204ad5bac176",
   "metadata": {},
   "outputs": [
    {
     "name": "stdout",
     "output_type": "stream",
     "text": [
      "[1, 2, 'data', 4, 5, 2, 'data', 2, 3.4]\n"
     ]
    }
   ],
   "source": [
    "print(a)"
   ]
  },
  {
   "cell_type": "markdown",
   "id": "7fece49f-9d97-48a7-acc2-59a1fcb0b730",
   "metadata": {},
   "source": [
    "## iv.Insert:\n",
    "- You can insert values at any index position\n",
    "- list_name.insert(index_position,value)\n",
    "- it will just move the elements after the index position."
   ]
  },
  {
   "cell_type": "code",
   "execution_count": 42,
   "id": "16b817e2-4e42-4007-ad75-c73a4a772e09",
   "metadata": {},
   "outputs": [],
   "source": [
    "a.insert(3,\"calculator\")\n",
    "a.insert(3,3)"
   ]
  },
  {
   "cell_type": "code",
   "execution_count": 43,
   "id": "ee27079f-adb9-4bd9-bd82-70da94f42e79",
   "metadata": {},
   "outputs": [
    {
     "name": "stdout",
     "output_type": "stream",
     "text": [
      "[1, 2, 'data', 3, 'calculator', 4, 5, 2, 'data', 2, 3.4]\n"
     ]
    }
   ],
   "source": [
    "print(a)"
   ]
  },
  {
   "cell_type": "markdown",
   "id": "a87a5f0e-0796-4e99-8e18-b74d89f9132e",
   "metadata": {},
   "source": [
    "# Remove Elements from the list"
   ]
  },
  {
   "cell_type": "markdown",
   "id": "a3497bec-d443-4f3e-9a0d-ba5a3dd4e105",
   "metadata": {},
   "source": [
    "## V.pop:\n",
    "- is used to remove elements from list but pop without index number by default it removes last element from the list\n",
    "- list_name.pop() ==> it removes last element from list\n",
    "- list_name.pop(index_position) ==>it removes element at index.\n",
    "- we  cannot delete elements from nested lists or a range of elements from list"
   ]
  },
  {
   "cell_type": "code",
   "execution_count": 44,
   "id": "642ec827-966d-4b1f-8a71-9c32296f9e90",
   "metadata": {},
   "outputs": [
    {
     "name": "stdout",
     "output_type": "stream",
     "text": [
      "[1, 2, 'data', 3, 'calculator', 4, 5, 2, 'data', 2]\n",
      "[1, 2, 'data', 3, 4, 5, 2, 'data', 2]\n"
     ]
    }
   ],
   "source": [
    "a.pop()\n",
    "print(a)\n",
    "a.pop(4)\n",
    "print(a)"
   ]
  },
  {
   "cell_type": "code",
   "execution_count": 45,
   "id": "71b55fcb-5d36-4ad4-b034-991ff8b24082",
   "metadata": {},
   "outputs": [
    {
     "ename": "TypeError",
     "evalue": "'str' object cannot be interpreted as an integer",
     "output_type": "error",
     "traceback": [
      "\u001b[1;31m---------------------------------------------------------------------------\u001b[0m",
      "\u001b[1;31mTypeError\u001b[0m                                 Traceback (most recent call last)",
      "Cell \u001b[1;32mIn[45], line 1\u001b[0m\n\u001b[1;32m----> 1\u001b[0m a\u001b[38;5;241m.\u001b[39mpop(a[\u001b[38;5;241m2\u001b[39m])\n\u001b[0;32m      2\u001b[0m a\n",
      "\u001b[1;31mTypeError\u001b[0m: 'str' object cannot be interpreted as an integer"
     ]
    }
   ],
   "source": [
    "a.pop(a[2])\n",
    "a"
   ]
  },
  {
   "cell_type": "markdown",
   "id": "8634f99c-68ad-429c-9f70-9cfc2bdf85a3",
   "metadata": {},
   "source": [
    "## vi.remove:\n",
    "- it is used to remove values from list directly using value\n",
    "- list_name.remove(value)"
   ]
  },
  {
   "cell_type": "code",
   "execution_count": 46,
   "id": "94617430-5c3e-48a3-81b7-f5c6f90bc1cc",
   "metadata": {},
   "outputs": [],
   "source": [
    "a=[2,3,4,2,3,2,4]\n",
    "a.remove(2)"
   ]
  },
  {
   "cell_type": "code",
   "execution_count": 47,
   "id": "b73abb96-e2ec-415d-a807-193694e0beec",
   "metadata": {},
   "outputs": [
    {
     "data": {
      "text/plain": [
       "[3, 4, 2, 3, 2, 4]"
      ]
     },
     "execution_count": 47,
     "metadata": {},
     "output_type": "execute_result"
    }
   ],
   "source": [
    "a"
   ]
  },
  {
   "cell_type": "markdown",
   "id": "cdc6a499-cacf-44a0-8477-9db9b98f1cec",
   "metadata": {},
   "source": [
    "## vii.delete\n",
    "- it is used to delete list or an element from the list.\n",
    "- del list_name\n",
    "- del list_name[index]\n",
    "- can delete elements from nested lists or a range of elements from list"
   ]
  },
  {
   "cell_type": "code",
   "execution_count": 129,
   "id": "0c9d159e-b682-48d0-bf61-ef11fddd030f",
   "metadata": {},
   "outputs": [],
   "source": [
    "del b"
   ]
  },
  {
   "cell_type": "code",
   "execution_count": 130,
   "id": "184f7d78-643a-4805-8e2d-5100fd6b3a3a",
   "metadata": {},
   "outputs": [
    {
     "ename": "NameError",
     "evalue": "name 'b' is not defined",
     "output_type": "error",
     "traceback": [
      "\u001b[1;31m---------------------------------------------------------------------------\u001b[0m",
      "\u001b[1;31mNameError\u001b[0m                                 Traceback (most recent call last)",
      "Cell \u001b[1;32mIn[130], line 1\u001b[0m\n\u001b[1;32m----> 1\u001b[0m b\n",
      "\u001b[1;31mNameError\u001b[0m: name 'b' is not defined"
     ]
    }
   ],
   "source": [
    "b"
   ]
  },
  {
   "cell_type": "code",
   "execution_count": 131,
   "id": "33f7c8de-4f9e-4413-9abe-ccc0f52b5a5d",
   "metadata": {},
   "outputs": [
    {
     "data": {
      "text/plain": [
       "[2, 3.6, ['python', 4.5, 8], [4, 'cat', 'hyderabad', 9], 10, 11]"
      ]
     },
     "execution_count": 131,
     "metadata": {},
     "output_type": "execute_result"
    }
   ],
   "source": [
    "g"
   ]
  },
  {
   "cell_type": "code",
   "execution_count": 132,
   "id": "7519a404-7548-4c1b-9dd8-dd66252f3999",
   "metadata": {},
   "outputs": [],
   "source": [
    "del g[3][2]"
   ]
  },
  {
   "cell_type": "code",
   "execution_count": 133,
   "id": "c44c76d3-bc54-41a1-85b9-36765810c855",
   "metadata": {},
   "outputs": [
    {
     "data": {
      "text/plain": [
       "[2, 3.6, ['python', 4.5, 8], [4, 'cat', 9], 10, 11]"
      ]
     },
     "execution_count": 133,
     "metadata": {},
     "output_type": "execute_result"
    }
   ],
   "source": [
    "g"
   ]
  },
  {
   "cell_type": "code",
   "execution_count": 134,
   "id": "5da923da-4ec0-43a0-afd9-8b965e7bdc29",
   "metadata": {},
   "outputs": [],
   "source": [
    "del g[1:3]"
   ]
  },
  {
   "cell_type": "code",
   "execution_count": 135,
   "id": "26278a85-618f-4d4f-b037-458cd42c9db3",
   "metadata": {},
   "outputs": [
    {
     "data": {
      "text/plain": [
       "[2, [4, 'cat', 9], 10, 11]"
      ]
     },
     "execution_count": 135,
     "metadata": {},
     "output_type": "execute_result"
    }
   ],
   "source": [
    "g"
   ]
  },
  {
   "cell_type": "markdown",
   "id": "4334b8ab-3d6b-41b1-b9c0-82a190c9bd39",
   "metadata": {},
   "source": [
    "# Joining two lists"
   ]
  },
  {
   "cell_type": "code",
   "execution_count": 138,
   "id": "1092b120-fecd-4b2c-9057-5419f3dce6aa",
   "metadata": {},
   "outputs": [
    {
     "data": {
      "text/plain": [
       "[1, 2, 'calculator', 4, 5, 2, 2, 2, [4, 'cat', 9], 10, 11]"
      ]
     },
     "execution_count": 138,
     "metadata": {},
     "output_type": "execute_result"
    }
   ],
   "source": [
    "a+g"
   ]
  },
  {
   "cell_type": "markdown",
   "id": "394a2636-6b99-4f05-9c3f-0e9f75b38f8e",
   "metadata": {},
   "source": [
    "## viii.count()\n",
    "-  count is used to count the frequency of a element.\n"
   ]
  },
  {
   "cell_type": "code",
   "execution_count": 1,
   "id": "8eff2e6e-0884-4948-a457-48d9d326a7bb",
   "metadata": {},
   "outputs": [
    {
     "data": {
      "text/plain": [
       "2"
      ]
     },
     "execution_count": 1,
     "metadata": {},
     "output_type": "execute_result"
    }
   ],
   "source": [
    "a=[1,2,3,4,3,2,3,3]\n",
    "a.count(2)"
   ]
  },
  {
   "cell_type": "markdown",
   "id": "7fa57588-0708-4f85-be19-7f90422cbe04",
   "metadata": {},
   "source": [
    "## iX.index\n",
    "- it is used to find the index position of first occurance of an element."
   ]
  },
  {
   "cell_type": "code",
   "execution_count": 2,
   "id": "3b09fe35-af33-48b3-98a7-33b78fd5b726",
   "metadata": {},
   "outputs": [
    {
     "data": {
      "text/plain": [
       "2"
      ]
     },
     "execution_count": 2,
     "metadata": {},
     "output_type": "execute_result"
    }
   ],
   "source": [
    "a.index(3)"
   ]
  },
  {
   "cell_type": "markdown",
   "id": "d743620e-71ef-4d1f-9430-bf533f1ed2d4",
   "metadata": {},
   "source": [
    "## x.reverse()\n",
    "- to reverse a list."
   ]
  },
  {
   "cell_type": "code",
   "execution_count": 3,
   "id": "47c5427b-55bb-4e76-a6c0-ca9c4b97d2a2",
   "metadata": {},
   "outputs": [
    {
     "data": {
      "text/plain": [
       "[3, 3, 2, 3, 4, 3, 2, 1]"
      ]
     },
     "execution_count": 3,
     "metadata": {},
     "output_type": "execute_result"
    }
   ],
   "source": [
    "a.reverse()\n",
    "a"
   ]
  },
  {
   "cell_type": "markdown",
   "id": "78c002c2-70b1-4575-ad76-531ee2484cf6",
   "metadata": {},
   "source": [
    "## xi.clear()\n",
    "- clear will clears all elements from list then list will be empty.\n"
   ]
  },
  {
   "cell_type": "code",
   "execution_count": 4,
   "id": "ff26da2a-7042-43f4-96d8-049c40d0717b",
   "metadata": {},
   "outputs": [
    {
     "data": {
      "text/plain": [
       "[]"
      ]
     },
     "execution_count": 4,
     "metadata": {},
     "output_type": "execute_result"
    }
   ],
   "source": [
    "a.clear()\n",
    "a"
   ]
  },
  {
   "cell_type": "markdown",
   "id": "575edd1c-5921-4a63-bb50-d9306ff225a7",
   "metadata": {},
   "source": [
    "# Xii.copy()\n",
    "- copy is used to copy the list and assign it to another list.\n",
    "- but in the nested list we can copy the lists and if we change any values in the list both of the lists will be modified"
   ]
  },
  {
   "cell_type": "code",
   "execution_count": 17,
   "id": "ec53def4-452b-4d36-a01e-1c020dfc0662",
   "metadata": {},
   "outputs": [
    {
     "name": "stdout",
     "output_type": "stream",
     "text": [
      "[1, 2, 3, 4, 3, 2, 3, 3]\n",
      "[1, 2, 3, 4, 3, 2, 3, 3]\n",
      "[1, 2, 3, 9, 3, 2, 3, 3]\n"
     ]
    }
   ],
   "source": [
    "##normal lists\n",
    "a=[1,2,3,4,3,2,3,3]\n",
    "print(a)\n",
    "b=a.copy()\n",
    "a[3]=9\n",
    "print(b)\n",
    "print(a)"
   ]
  },
  {
   "cell_type": "code",
   "execution_count": 16,
   "id": "1d557d9e-e43e-4d46-a2f4-413e0f4e2d4c",
   "metadata": {},
   "outputs": [
    {
     "name": "stdout",
     "output_type": "stream",
     "text": [
      "[1, 2, 3, [2, 3, 4], 5, 6]\n",
      "[1, 2, 3, [2, 3, 4], 5, 6]\n",
      "[1, 2, 3, [2, 7, 4], 5, 6]\n",
      "[1, 2, 3, [2, 7, 4], 5, 6]\n"
     ]
    }
   ],
   "source": [
    "##nested lists\n",
    "a=[1,2,3,[2,3,4],5,6]\n",
    "print(a)\n",
    "b=a.copy()\n",
    "print(b)\n",
    "b[3][1]=7\n",
    "print(a)\n",
    "print(b)"
   ]
  },
  {
   "cell_type": "markdown",
   "id": "dfb7bdc4-e544-47a9-a582-5673f01a2e70",
   "metadata": {},
   "source": [
    "# xiii.deepcopy()\n",
    "- deep copy is used to copy list and assign it to another list.\n",
    "- to solve the probleem of nested lists we use deepcopy()"
   ]
  },
  {
   "cell_type": "code",
   "execution_count": 20,
   "id": "6f6a53cb-bcee-4459-a8f0-84ba32a54210",
   "metadata": {},
   "outputs": [
    {
     "name": "stdout",
     "output_type": "stream",
     "text": [
      "[1, 2, 3, 4, 3, 2, 3, 3]\n",
      "[1, 2, 3, 4, 3, 2, 3, 3]\n",
      "[1, 2, 3, 9, 3, 2, 3, 3]\n"
     ]
    }
   ],
   "source": [
    "##normal lists\n",
    "import copy\n",
    "a=[1,2,3,4,3,2,3,3]\n",
    "print(a)\n",
    "b=copy.deepcopy(a)\n",
    "a[3]=9\n",
    "print(b)\n",
    "print(a)"
   ]
  },
  {
   "cell_type": "code",
   "execution_count": 14,
   "id": "1d066d30-da24-4fa9-a76f-67298914a610",
   "metadata": {},
   "outputs": [
    {
     "name": "stdout",
     "output_type": "stream",
     "text": [
      "[1, 2, 3, [2, 3, 4], 5, 6]\n",
      "[1, 2, 3, [2, 3, 4], 5, 6]\n",
      "[1, 2, 3, [2, 9, 4], 5, 6]\n"
     ]
    }
   ],
   "source": [
    "##nested lists\n",
    "import copy\n",
    "a=[1,2,3,[2,3,4],5,6]\n",
    "b=copy.deepcopy(a)\n",
    "print(a)\n",
    "a[3][1]=9\n",
    "print(b)\n",
    "print(a)"
   ]
  },
  {
   "cell_type": "code",
   "execution_count": 26,
   "id": "fddb0044-5d88-4e6b-9dc9-4d65650db07c",
   "metadata": {},
   "outputs": [
    {
     "name": "stdout",
     "output_type": "stream",
     "text": [
      "1\n",
      "4\n",
      "27\n",
      "True\n",
      "False\n"
     ]
    }
   ],
   "source": [
    "a=[1,2,3,4,2,3,4,2,3,3]\n",
    "print(min(a))\n",
    "print(max(a))\n",
    "print(sum(a))\n",
    "print(1 in a)\n",
    "print(1 not in a)"
   ]
  },
  {
   "cell_type": "code",
   "execution_count": 32,
   "id": "d289335b-9364-42c9-a16a-3e249cd602db",
   "metadata": {},
   "outputs": [
    {
     "name": "stdout",
     "output_type": "stream",
     "text": [
      "[1, 23, 23, 34, 43, 45, 56, 64, 65, 74]\n",
      "[74, 65, 64, 56, 45, 43, 34, 23, 23, 1]\n"
     ]
    }
   ],
   "source": [
    "# sort()\n",
    "li=[1,34,56,74,23,43,64,23,45,65]\n",
    "li.sort()\n",
    "print(li)\n",
    "li.sort(reverse=True)\n",
    "print(li)"
   ]
  },
  {
   "cell_type": "code",
   "execution_count": null,
   "id": "36b82811-31e6-4720-9943-b9e24c60c81a",
   "metadata": {},
   "outputs": [],
   "source": []
  }
 ],
 "metadata": {
  "kernelspec": {
   "display_name": "Python 3 (ipykernel)",
   "language": "python",
   "name": "python3"
  },
  "language_info": {
   "codemirror_mode": {
    "name": "ipython",
    "version": 3
   },
   "file_extension": ".py",
   "mimetype": "text/x-python",
   "name": "python",
   "nbconvert_exporter": "python",
   "pygments_lexer": "ipython3",
   "version": "3.12.7"
  }
 },
 "nbformat": 4,
 "nbformat_minor": 5
}
