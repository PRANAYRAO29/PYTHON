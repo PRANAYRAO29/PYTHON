{
 "cells": [
  {
   "cell_type": "code",
   "execution_count": 2,
   "id": "2ac13a52-f5dd-4db6-9670-e907d7e541ba",
   "metadata": {},
   "outputs": [
    {
     "name": "stdout",
     "output_type": "stream",
     "text": [
      "10000\n",
      "8000\n",
      "15000\n"
     ]
    }
   ],
   "source": [
    "class thanesh:\n",
    "    def __init__(self,accountno,accountname,ifsccode,balance):\n",
    "        self.accountno=accountno\n",
    "        self.accountname=accountname\n",
    "        self.ifsccode=ifsccode\n",
    "        self.balance=balance\n",
    "    def display(self):\n",
    "        print(self.balance)\n",
    "    def withdraw(self,amount):\n",
    "        print(self.balance-amount)\n",
    "    def deposit(self,amount):\n",
    "        print(self.balance+amount)\n",
    "a=thanesh(123456,\"iob\",\"apgb4354\",10000)\n",
    "a.display()\n",
    "a.withdraw(2000)\n",
    "a.deposit(5000)"
   ]
  },
  {
   "cell_type": "code",
   "execution_count": 13,
   "id": "760f800d-6516-40ec-89b4-25242180de51",
   "metadata": {},
   "outputs": [
    {
     "name": "stdout",
     "output_type": "stream",
     "text": [
      "parent class\n",
      "child class\n"
     ]
    }
   ],
   "source": [
    "#single inheritance\n",
    "class parent:\n",
    "    def method1(self):\n",
    "        print(\"parent class\")\n",
    "class child(parent):\n",
    "    def method2(self):\n",
    "        print(\"child class\")\n",
    "a=child()\n",
    "a.method1()\n",
    "a.method2()\n"
   ]
  },
  {
   "cell_type": "code",
   "execution_count": 1,
   "id": "26cf658b-e636-4559-882e-5697395b0a97",
   "metadata": {},
   "outputs": [
    {
     "name": "stdout",
     "output_type": "stream",
     "text": [
      "father class\n",
      "mother class\n",
      "child class\n"
     ]
    }
   ],
   "source": [
    "#multiple inheritance\n",
    "class father:\n",
    "    def method1(self):\n",
    "        print(\"father class\")\n",
    "class mother:\n",
    "    def method2(self):\n",
    "        print(\"mother class\")\n",
    "class child(father,mother):\n",
    "    def method3(self):\n",
    "        print(\"child class\")\n",
    "a=child()\n",
    "a.method1()\n",
    "a.method2()\n",
    "a.method3()"
   ]
  },
  {
   "cell_type": "code",
   "execution_count": 2,
   "id": "3c4dc0d2-597a-4ec4-8f97-3560e2661331",
   "metadata": {},
   "outputs": [
    {
     "name": "stdout",
     "output_type": "stream",
     "text": [
      "father class\n",
      "mother class\n",
      "child class\n"
     ]
    }
   ],
   "source": [
    "#multilevel inheritance\n",
    "class father:\n",
    "    def method1(self):\n",
    "        print(\"father class\")\n",
    "class mother(father):\n",
    "    def method2(self):\n",
    "        print(\"mother class\")\n",
    "class child(mother):\n",
    "    def method3(self):\n",
    "        print(\"child class\")\n",
    "a=child()\n",
    "a.method1()\n",
    "a.method2()\n",
    "a.method3()"
   ]
  },
  {
   "cell_type": "code",
   "execution_count": 3,
   "id": "33a26441-17a1-46cc-879c-d4363d311aea",
   "metadata": {},
   "outputs": [
    {
     "name": "stdout",
     "output_type": "stream",
     "text": [
      "father class\n",
      "father class\n"
     ]
    }
   ],
   "source": [
    "#hierarchial inheritance\n",
    "class father:\n",
    "    def method1(self):\n",
    "        print(\"father class\")\n",
    "class mother(father):\n",
    "    def method2(self):\n",
    "        print(\"mother class\")\n",
    "class child(father):\n",
    "    def method3(self):\n",
    "        print(\"child class\")\n",
    "a=child()\n",
    "b=mother()\n",
    "b.method1()\n",
    "a.method1()"
   ]
  },
  {
   "cell_type": "markdown",
   "id": "2598a5ea-5e55-435b-8436-4b89fea69369",
   "metadata": {},
   "source": [
    "## Method Overloading"
   ]
  },
  {
   "cell_type": "code",
   "execution_count": 6,
   "id": "8c368f13-7e4b-4431-8452-e46f1c5db84c",
   "metadata": {},
   "outputs": [
    {
     "name": "stdout",
     "output_type": "stream",
     "text": [
      "6\n",
      "3\n",
      "memeprogrammers\n"
     ]
    }
   ],
   "source": [
    "import multipledispatch\n",
    "\n",
    "class A:\n",
    "    @multipledispatch.dispatch(int, int)\n",
    "    def add(self, a, b):\n",
    "        return a + b\n",
    "\n",
    "    @multipledispatch.dispatch(int, int, int)\n",
    "    def add(self, a, b, c):\n",
    "        return a + b + c\n",
    "\n",
    "    @multipledispatch.dispatch(str, str)\n",
    "    def add(self, a, b):\n",
    "        return a + b\n",
    "\n",
    "obj = A()\n",
    "print(obj.add(1, 2, 3))\n",
    "print(obj.add(1, 2))\n",
    "print(obj.add('meme', 'programmers'))\n"
   ]
  },
  {
   "cell_type": "code",
   "execution_count": 5,
   "id": "5167fb0a-5218-472f-a378-6314838f3805",
   "metadata": {},
   "outputs": [
    {
     "name": "stdout",
     "output_type": "stream",
     "text": [
      "3\n",
      "6\n",
      "abc\n",
      "ab\n",
      "20.28\n",
      "[1, 2, 3, 4]\n",
      "14.2\n"
     ]
    }
   ],
   "source": [
    "#without using method overloading\n",
    "class A:\n",
    "    def add(self, *args):\n",
    "        if args:\n",
    "            sum = type(args[0])()\n",
    "            for i in args:\n",
    "                sum += i\n",
    "            return sum\n",
    "\n",
    "obj = A()\n",
    "\n",
    "print(obj.add(1, 2))\n",
    "print(obj.add(1, 2, 3))\n",
    "print(obj.add('a', 'b', 'c'))\n",
    "print(obj.add('a', 'b'))\n",
    "print(obj.add(12.3, 3.42, 4.56))\n",
    "print(obj.add([1, 2], [3, 4]))\n",
    "print(obj.add(1, 2, 4.5, 6.7))\n"
   ]
  },
  {
   "cell_type": "markdown",
   "id": "5a86e540-12d8-473c-a497-b5a2a52ad3f9",
   "metadata": {},
   "source": [
    "## METHOD OVERRIDING"
   ]
  },
  {
   "cell_type": "markdown",
   "id": "43c78a92-6aa4-496b-a6a8-39a54134bdd8",
   "metadata": {},
   "source": [
    "### Rules for Method overriding :\n",
    "\n",
    "- Super class & Subclass must be present (Inheritance must be done between two classes )\n",
    "\n",
    "- Declare two classes with same method & same parameters\n",
    "\n",
    "- Logic must be different in methods\n",
    "\n",
    "- Method overriding will done when we access the same method in subclass. If we access in superclass then method will not override"
   ]
  },
  {
   "cell_type": "code",
   "execution_count": 1,
   "id": "0b47ea3f-37a3-4e63-bbe0-35d6063f52d6",
   "metadata": {},
   "outputs": [
    {
     "name": "stdout",
     "output_type": "stream",
     "text": [
      "child\n"
     ]
    }
   ],
   "source": [
    "class parent:\n",
    "    def method(self):\n",
    "        print(\"parent\")\n",
    "class child(parent):\n",
    "    def method(self):\n",
    "        print(\"child\")\n",
    "a=child()\n",
    "a.method()"
   ]
  },
  {
   "cell_type": "code",
   "execution_count": 2,
   "id": "e4b3ae89-06ec-4ea1-ac3f-717a370fff2e",
   "metadata": {},
   "outputs": [
    {
     "name": "stdout",
     "output_type": "stream",
     "text": [
      "parent\n",
      "child\n"
     ]
    }
   ],
   "source": [
    "# to not to override the method we use\n",
    "#method1\n",
    "class parent:\n",
    "    def method(self):\n",
    "        print(\"parent\")\n",
    "class child(parent):\n",
    "    def method(self):\n",
    "        parent.method(self)\n",
    "        print(\"child\")\n",
    "a=child()\n",
    "a.method()"
   ]
  },
  {
   "cell_type": "code",
   "execution_count": 4,
   "id": "3fa954b5-39ee-45c6-94a6-6c2f5b8b7181",
   "metadata": {},
   "outputs": [
    {
     "name": "stdout",
     "output_type": "stream",
     "text": [
      "parent\n",
      "child\n"
     ]
    }
   ],
   "source": [
    "#method2\n",
    "class parent:\n",
    "    def method(self):\n",
    "        print(\"parent\")\n",
    "class child(parent):\n",
    "    def method(self):\n",
    "        super().method()\n",
    "        print(\"child\")\n",
    "a=child()\n",
    "a.method()"
   ]
  },
  {
   "cell_type": "code",
   "execution_count": 7,
   "id": "b95213fc-2d0d-4923-b8d8-06b9587c2100",
   "metadata": {},
   "outputs": [
    {
     "name": "stdout",
     "output_type": "stream",
     "text": [
      "parent\n",
      "child\n"
     ]
    }
   ],
   "source": [
    "class parent:\n",
    "    def method(self,a,b):\n",
    "        self.a=a\n",
    "        self.b=b\n",
    "        print(\"parent\")\n",
    "class child(parent):\n",
    "    def method(self,a,b,c,d):\n",
    "        parent.method(self,a,b)\n",
    "        self.c=c\n",
    "        self.d=d\n",
    "        print(\"child\")\n",
    "a=child()\n",
    "a.method(1,2,3,4)"
   ]
  },
  {
   "cell_type": "code",
   "execution_count": 19,
   "id": "1d549911-7f43-45c5-8041-489e12da9b2c",
   "metadata": {},
   "outputs": [
    {
     "name": "stdout",
     "output_type": "stream",
     "text": [
      "9334\n",
      "9000\n"
     ]
    }
   ],
   "source": [
    "class mobile:\n",
    "    def __init__(self,price,modelNo):\n",
    "        self.price=price\n",
    "        self.modelNo=modelNo\n",
    "    def discount(self):\n",
    "        return self.price-(self.price//10)\n",
    "    def commonmethod1(self):\n",
    "        print(\"common method1\")\n",
    "    def commonmethod2(self):\n",
    "        print(\"common method2\")\n",
    "    def getprice(self):\n",
    "        return self.price\n",
    "    def getmodelno(self):\n",
    "        return self.modelno\n",
    "class iphone(mobile):\n",
    "    def __init__(self,price,modelNo):\n",
    "        mobile.__init__(self,price,modelNo)\n",
    "    def somemethod1(self):\n",
    "        print(\"some method1\")\n",
    "    def somemethod2(self):\n",
    "        print(\"common method2\")\n",
    "    def discount(self):\n",
    "        return self.price-(self.price//15)\n",
    "    \n",
    "class Samsung(mobile):\n",
    "    def __init__(self, price, modelNo):\n",
    "        mobile.__init__(self, price, modelNo)\n",
    "    def somemethod3(self):\n",
    "        return 'this is some method3'\n",
    "    def somemethod4(self):\n",
    "        return 'this is some method4'\n",
    "\n",
    "class Sony(mobile):\n",
    "    def __init__(self, price, modelNo):\n",
    "        mobile.__init__(self, price, modelNo)\n",
    "    def somemethod5(self):\n",
    "        return 'this is some method5'\n",
    "    def somemethod6(self):\n",
    "        return 'this is some method6'\n",
    "\n",
    "class RedMe(mobile):\n",
    "    def __init__(self, price, modelNo):\n",
    "        mobile.__init__(self, price, modelNo)\n",
    "    def somemethod7(self):\n",
    "        return 'this is some method7'\n",
    "    def somemethod8(self):\n",
    "        return 'this is some method8'\n",
    "a=iphone(10000,133)\n",
    "print(a.discount())\n",
    "b=Sony(10000,133)\n",
    "print(b.discount())"
   ]
  },
  {
   "cell_type": "markdown",
   "id": "d4533dcd-fa97-40e5-bc36-cb8a7e8dbf2d",
   "metadata": {},
   "source": [
    "# Polymorphism"
   ]
  },
  {
   "cell_type": "code",
   "execution_count": 20,
   "id": "534fdd29-a896-4c34-9c39-c08feb91b9a9",
   "metadata": {},
   "outputs": [
    {
     "name": "stdout",
     "output_type": "stream",
     "text": [
      "This is class A\n",
      "This is class B\n",
      "This is class C\n"
     ]
    }
   ],
   "source": [
    "\n",
    "class A:\n",
    "    def fun(self):\n",
    "        print('This is class A')\n",
    "\n",
    "class B:\n",
    "    def fun(self):\n",
    "        print('This is class B')\n",
    "\n",
    "class C:\n",
    "    def fun(self):\n",
    "        print('This is class C')\n",
    "\n",
    "def poly(obj):\n",
    "    obj.fun()\n",
    "\n",
    "obj1 = A()\n",
    "obj2 = B()\n",
    "obj3 = C()\n",
    "\n",
    "poly(obj1)\n",
    "poly(obj2)\n",
    "poly(obj3)\n"
   ]
  },
  {
   "cell_type": "code",
   "execution_count": 23,
   "id": "e9289d7c-418d-4ab9-9781-87c68814bdb3",
   "metadata": {},
   "outputs": [
    {
     "name": "stdout",
     "output_type": "stream",
     "text": [
      "3\n",
      "6\n",
      "helloworld\n"
     ]
    }
   ],
   "source": [
    "#by method overloading\n",
    "import multipledispatch\n",
    "from multipledispatch import dispatch\n",
    "\n",
    "class A:\n",
    "    @dispatch(int, int)\n",
    "    def add(self, a, b):\n",
    "        print(a + b)\n",
    "\n",
    "    @dispatch(int, int, int)\n",
    "    def add(self, a, b, c):\n",
    "        print(a + b + c)\n",
    "\n",
    "    @dispatch(str, str)\n",
    "    def add(self, a, b):\n",
    "        print(a + b)\n",
    "\n",
    "obj = A()\n",
    "obj.add(1, 2)\n",
    "obj.add(1, 2, 3)\n",
    "obj.add('hello', 'world')\n",
    "\n",
    "        "
   ]
  },
  {
   "cell_type": "markdown",
   "id": "3cffc679-a7a2-40c7-b68a-a4cec8ac0000",
   "metadata": {},
   "source": [
    "# Encapsulation "
   ]
  },
  {
   "cell_type": "markdown",
   "id": "745c2fbf-de9b-44f8-b320-a1189a878b84",
   "metadata": {},
   "source": [
    "## PUBLIC\n",
    "## PROTECTED\n",
    "## PRIVATE"
   ]
  },
  {
   "cell_type": "markdown",
   "id": "e779a886-ebf3-4a87-994f-deca1d0f3bc6",
   "metadata": {},
   "source": [
    "# INSTANCE AND CLASS METHODS"
   ]
  },
  {
   "cell_type": "code",
   "execution_count": 2,
   "id": "465dcfca-b397-40fb-8804-1f9aef47d5f1",
   "metadata": {},
   "outputs": [],
   "source": [
    "from types import MethodType\n",
    "\n",
    "class Employee:\n",
    "    A = 10\n",
    "\n",
    "    def __init__(self, name, emp_id, salary):\n",
    "        self.name = name\n",
    "        self.emp_id = emp_id\n",
    "        self.salary = salary\n",
    "\n",
    "    def getEmployeeName(self):\n",
    "        print(self.name)\n",
    "\n",
    "    def getClassVariable(self):\n",
    "        print(self.A)\n",
    "\n",
    "    def updateEmployeeName(self, new_name):\n",
    "        self.name = new_name\n",
    "\n",
    "    def updateClassVariable(self, new_value):\n",
    "        self.__class__.A = new_value\n",
    "\n",
    "    def deleteInstanceVariable(self):\n",
    "        del self.name\n",
    "\n",
    "    def deleteClassVariable(self):\n",
    "        del self.__class__.A\n",
    "\n",
    "emp1 = Employee('pavan', 1000001, 40000)\n",
    "emp2 = Employee('ravi', 299910, 30000)\n",
    "emp1.deleteClassVariable()\n",
    "def addingMethod(self):\n",
    "    print('method added successfully from outside')\n",
    "\n",
    "emp1.newInstanceMethod = MethodType(addingMethod, emp1)"
   ]
  },
  {
   "cell_type": "code",
   "execution_count": 3,
   "id": "bfa67f87-f985-41d2-9ed8-e5d8009f2132",
   "metadata": {},
   "outputs": [
    {
     "name": "stdout",
     "output_type": "stream",
     "text": [
      "30\n",
      "13\n",
      "33\n",
      "6.0\n"
     ]
    }
   ],
   "source": [
    "class Calculator:\n",
    "\n",
    "    @staticmethod\n",
    "    def add(a, b):\n",
    "        return a + b\n",
    "\n",
    "    @staticmethod\n",
    "    def sub(a, b):\n",
    "        return a - b\n",
    "\n",
    "    @staticmethod\n",
    "    def mul(a, b):\n",
    "        return a * b\n",
    "\n",
    "    @staticmethod\n",
    "    def div(a, b):\n",
    "        return a / b\n",
    "\n",
    "print(Calculator.add(10, 20))\n",
    "print(Calculator.sub(15, 2))\n",
    "print(Calculator.mul(3, 11))\n",
    "print(Calculator.div(30, 5))\n"
   ]
  },
  {
   "cell_type": "code",
   "execution_count": null,
   "id": "f78d9852-5c95-43cb-981f-9d92a6ea9801",
   "metadata": {},
   "outputs": [],
   "source": []
  }
 ],
 "metadata": {
  "kernelspec": {
   "display_name": "Python 3 (ipykernel)",
   "language": "python",
   "name": "python3"
  },
  "language_info": {
   "codemirror_mode": {
    "name": "ipython",
    "version": 3
   },
   "file_extension": ".py",
   "mimetype": "text/x-python",
   "name": "python",
   "nbconvert_exporter": "python",
   "pygments_lexer": "ipython3",
   "version": "3.12.7"
  }
 },
 "nbformat": 4,
 "nbformat_minor": 5
}
