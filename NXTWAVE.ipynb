{
 "cells": [
  {
   "cell_type": "markdown",
   "id": "a1f099f2-f335-4e6c-91e0-461b02a391ea",
   "metadata": {},
   "source": [
    "# CODING PRACTICE 13B"
   ]
  },
  {
   "cell_type": "code",
   "execution_count": 2,
   "id": "3131feaa-de58-4556-af52-4bddeabcc897",
   "metadata": {},
   "outputs": [
    {
     "name": "stdin",
     "output_type": "stream",
     "text": [
      " 5\n"
     ]
    },
    {
     "name": "stdout",
     "output_type": "stream",
     "text": [
      "1 2 3 4 5 \n",
      "6 7 8 9 10 \n",
      "11 12 13 14 15 \n",
      "16 17 18 19 20 \n",
      "21 22 23 24 25 \n"
     ]
    }
   ],
   "source": [
    "n=int(input())\n",
    "k=1\n",
    "for i in range(1,n+1):\n",
    "    for j in range(1,n+1):\n",
    "        print(k,end=\" \")\n",
    "        k+=1\n",
    "    print()"
   ]
  },
  {
   "cell_type": "code",
   "execution_count": 3,
   "id": "de42581d-eca1-4307-a561-56f3be8b945a",
   "metadata": {},
   "outputs": [
    {
     "name": "stdin",
     "output_type": "stream",
     "text": [
      " 2\n",
      " 5\n"
     ]
    },
    {
     "name": "stdout",
     "output_type": "stream",
     "text": [
      "10 9 8 7 6 \n",
      "5 4 3 2 1 \n"
     ]
    }
   ],
   "source": [
    "a=int(input())\n",
    "b=int(input())\n",
    "k=a*b\n",
    "for i in range(1,a+1):\n",
    "    for i in range(1,b+1):\n",
    "        print(k,end=\" \")\n",
    "        k-=1\n",
    "    print()"
   ]
  },
  {
   "cell_type": "code",
   "execution_count": 6,
   "id": "0f13e862-c9da-4e87-bea2-f2555f525fef",
   "metadata": {},
   "outputs": [
    {
     "name": "stdin",
     "output_type": "stream",
     "text": [
      " 15\n"
     ]
    },
    {
     "name": "stdout",
     "output_type": "stream",
     "text": [
      "12\n"
     ]
    }
   ],
   "source": [
    "a=int(input())\n",
    "count=0\n",
    "for i in range(1,a+1):\n",
    "    for j in range(i+1,a+1):\n",
    "        for k in range(j+1,a+1):\n",
    "            if (i+k+j)==a:\n",
    "                count+=1\n",
    "print(count)"
   ]
  },
  {
   "cell_type": "code",
   "execution_count": 7,
   "id": "1d443277-0869-4023-9102-caf38bc3a5f7",
   "metadata": {},
   "outputs": [
    {
     "name": "stdin",
     "output_type": "stream",
     "text": [
      " 4\n",
      " 5\n"
     ]
    },
    {
     "name": "stdout",
     "output_type": "stream",
     "text": [
      "4 5 \n",
      "6 7 8 9 \n",
      "10 11 12 13 14 15 \n",
      "16 17 18 19 20 21 22 23 \n",
      "24 25 26 27 28 29 30 31 32 33 \n"
     ]
    }
   ],
   "source": [
    "a=int(input())\n",
    "b=int(input())\n",
    "for i in range(1,b+1):\n",
    "    for j in range(i*2):\n",
    "        print(a,end=\" \")\n",
    "        a=a+1\n",
    "    print()"
   ]
  },
  {
   "cell_type": "code",
   "execution_count": 1,
   "id": "af916442-2059-4801-ba00-a200f743aa70",
   "metadata": {},
   "outputs": [
    {
     "name": "stdin",
     "output_type": "stream",
     "text": [
      " 5\n"
     ]
    },
    {
     "name": "stdout",
     "output_type": "stream",
     "text": [
      "15 14 13 12 11 \n",
      "  10 9 8 7 \n",
      "    6 5 4 \n",
      "      3 2 \n",
      "        1 \n"
     ]
    }
   ],
   "source": [
    "a=int(input())\n",
    "b=0\n",
    "for k in range(1,a+1):\n",
    "   b+=k \n",
    "for i in range(a):\n",
    "    each=\"\"\n",
    "    left=\" \"*(2*i)\n",
    "    for j in range(a-i):\n",
    "        each=each+str(b)+\" \"\n",
    "        b=b-1\n",
    "    each=left+each\n",
    "    print(each)"
   ]
  },
  {
   "cell_type": "code",
   "execution_count": 2,
   "id": "4eb059b2-c260-43ca-81d8-434dcde98f96",
   "metadata": {},
   "outputs": [
    {
     "name": "stdin",
     "output_type": "stream",
     "text": [
      " 5\n"
     ]
    },
    {
     "name": "stdout",
     "output_type": "stream",
     "text": [
      "1 \n",
      "1 2 1 \n",
      "1 2 3 1 2 \n",
      "1 2 3 4 1 2 3 \n",
      "1 2 3 4 5 1 2 3 4 \n"
     ]
    }
   ],
   "source": [
    "n=int(input())\n",
    "for i in range(1,n+1):\n",
    "    b=\"\"\n",
    "    for j in range(1,i+1):\n",
    "        b=b+str(j)+\" \"\n",
    "    for j in range(1,i):\n",
    "        b=b+str(j)+\" \"\n",
    "    print(b)"
   ]
  },
  {
   "cell_type": "code",
   "execution_count": 3,
   "id": "6c31b744-a862-4d45-9d21-d85937f19adf",
   "metadata": {},
   "outputs": [
    {
     "name": "stdin",
     "output_type": "stream",
     "text": [
      " 5\n",
      " 10\n"
     ]
    },
    {
     "name": "stdout",
     "output_type": "stream",
     "text": [
      "5 \n",
      "6 7 \n",
      "8 9 10 \n",
      "11 12 13 14 \n",
      "15 16 17 18 19 \n",
      "20 21 22 23 24 25 \n",
      "26 27 28 29 30 31 32 \n",
      "33 34 35 36 37 38 39 40 \n",
      "41 42 43 44 45 46 47 48 49 \n",
      "50 51 52 53 54 55 56 57 58 59 \n"
     ]
    }
   ],
   "source": [
    "a=int(input())\n",
    "b=int(input())\n",
    "for i in range(1,b+1):\n",
    "    for j in range(1,i+1):\n",
    "        print(a,end=\" \")\n",
    "        a+=1\n",
    "    print()"
   ]
  },
  {
   "cell_type": "code",
   "execution_count": 4,
   "id": "18db2b96-2ca8-4000-abaa-424882e55581",
   "metadata": {},
   "outputs": [
    {
     "name": "stdin",
     "output_type": "stream",
     "text": [
      " 6\n",
      " 4\n"
     ]
    },
    {
     "name": "stdout",
     "output_type": "stream",
     "text": [
      "15 \n",
      "14 13 \n",
      "12 11 10 \n",
      "9 8 7 6 \n"
     ]
    }
   ],
   "source": [
    "a=int(input())\n",
    "b=int(input())\n",
    "c=b*(b+1)//2\n",
    "d=c+a-1\n",
    "for i in range(1,b+1):\n",
    "    for j in range(1,i+1):\n",
    "        print(d,end=\" \")\n",
    "        d-=1\n",
    "    print()"
   ]
  },
  {
   "cell_type": "code",
   "execution_count": 5,
   "id": "e6a31475-b8ef-462a-8727-aecdaad598b3",
   "metadata": {},
   "outputs": [
    {
     "name": "stdin",
     "output_type": "stream",
     "text": [
      " 6\n"
     ]
    },
    {
     "name": "stdout",
     "output_type": "stream",
     "text": [
      "654321\n",
      "54321\n",
      "4321\n",
      "321\n",
      "21\n",
      "1\n"
     ]
    }
   ],
   "source": [
    "n = int(input())\n",
    "for row_num in range(n,0,-1):\n",
    "    row_output = \"\"\n",
    "    seq_num = row_num\n",
    "    while seq_num > 0:\n",
    "        row_output = row_output + str(seq_num)\n",
    "        seq_num = seq_num - 1\n",
    "    print(row_output)\n"
   ]
  },
  {
   "cell_type": "markdown",
   "id": "f65ee3d5-d984-4762-aee3-da1a2b738a6e",
   "metadata": {},
   "source": [
    "# ASSIGNMENT-13"
   ]
  },
  {
   "cell_type": "code",
   "execution_count": 7,
   "id": "1a2237a5-87b6-4ac4-b230-015eedb6ce46",
   "metadata": {},
   "outputs": [
    {
     "name": "stdin",
     "output_type": "stream",
     "text": [
      " 15\n"
     ]
    },
    {
     "name": "stdout",
     "output_type": "stream",
     "text": [
      "4\n"
     ]
    }
   ],
   "source": [
    "n=int(input())\n",
    "count=0\n",
    "for i in range(1,n+1):\n",
    "    for j in range(i,n+1):\n",
    "        for k in range(j,n+1):\n",
    "            if (i**2)+(j**2)==(k**2):\n",
    "                count+=1\n",
    "print(count)"
   ]
  },
  {
   "cell_type": "code",
   "execution_count": 8,
   "id": "15f1139d-33f9-42fd-b912-d7a529675e41",
   "metadata": {},
   "outputs": [
    {
     "name": "stdin",
     "output_type": "stream",
     "text": [
      " 8\n",
      " 4\n"
     ]
    },
    {
     "name": "stdout",
     "output_type": "stream",
     "text": [
      "17 16 15 14 \n",
      "13 12 11 \n",
      "10 9 \n",
      "8 \n"
     ]
    }
   ],
   "source": [
    "a=int(input())\n",
    "b=int(input())\n",
    "c=b*(b+1)//2\n",
    "d=c+a-1\n",
    "for i in range(1,b+1):\n",
    "    for j in range(b-i+1):\n",
    "        print(d,end=\" \")\n",
    "        d-=1\n",
    "    print()"
   ]
  },
  {
   "cell_type": "code",
   "execution_count": 9,
   "id": "4300c744-3cd3-410c-855d-6eea398e2cd9",
   "metadata": {},
   "outputs": [
    {
     "name": "stdin",
     "output_type": "stream",
     "text": [
      " 5\n"
     ]
    },
    {
     "name": "stdout",
     "output_type": "stream",
     "text": [
      "1 2 3 4 5 \n",
      " 1 2 3 4 \n",
      "  1 2 3 \n",
      "   1 2 \n",
      "    1 \n"
     ]
    }
   ],
   "source": [
    "a=int(input())\n",
    "for i in range(a):\n",
    "    row=\"\"\n",
    "    spaces=i*\" \"\n",
    "    for j in range(1,a-i+1):\n",
    "        row+=str(j)+\" \"\n",
    "    print(spaces+row)"
   ]
  },
  {
   "cell_type": "markdown",
   "id": "188f0829-d670-4cee-badd-33a9c65b345f",
   "metadata": {},
   "source": [
    "### IMP"
   ]
  },
  {
   "cell_type": "code",
   "execution_count": 10,
   "id": "69ee6490-dfa2-46fe-ab82-0f0609b5dd21",
   "metadata": {},
   "outputs": [
    {
     "name": "stdin",
     "output_type": "stream",
     "text": [
      " 5\n"
     ]
    },
    {
     "name": "stdout",
     "output_type": "stream",
     "text": [
      "    1 \n",
      "   1 2 \n",
      "  1 2 3 \n",
      " 1 2 3 4 \n",
      "1 2 3 4 5 \n",
      " 1 2 3 4 \n",
      "  1 2 3 \n",
      "   1 2 \n",
      "    1 \n"
     ]
    }
   ],
   "source": [
    "a=int(input())\n",
    "for i in range(1,a+1):\n",
    "    row=\"\"\n",
    "    spaces=(a-i)*\" \"\n",
    "    for j in range(1,i+1):\n",
    "        row+=str(j)+\" \"\n",
    "    print(spaces+row)\n",
    "for i in range(a-1,0,-1):\n",
    "    row=\"\"\n",
    "    spaces=\" \"*(a-i)\n",
    "    for j in range(1,i+1):\n",
    "        row+=str(j)+\" \"\n",
    "    print(spaces+row)"
   ]
  },
  {
   "cell_type": "code",
   "execution_count": 11,
   "id": "f5ed5759-f310-4f3a-bb32-f9bc5c7fc38a",
   "metadata": {},
   "outputs": [
    {
     "name": "stdin",
     "output_type": "stream",
     "text": [
      " 10\n"
     ]
    },
    {
     "name": "stdout",
     "output_type": "stream",
     "text": [
      "1\n"
     ]
    }
   ],
   "source": [
    "a=int(input())\n",
    "count=0\n",
    "for i in range(1,a+1):\n",
    "    divisible=False\n",
    "    for j in range(2,11):\n",
    "        if (i%j)==0:\n",
    "            divisible=True\n",
    "            break\n",
    "    if not divisible:\n",
    "        count+=1\n",
    "print(count)"
   ]
  },
  {
   "cell_type": "code",
   "execution_count": 1,
   "id": "6206dcc7-6757-4dbd-89fe-667170dae68c",
   "metadata": {},
   "outputs": [
    {
     "name": "stdin",
     "output_type": "stream",
     "text": [
      " 2\n",
      " 10\n"
     ]
    },
    {
     "name": "stdout",
     "output_type": "stream",
     "text": [
      "4\n",
      "6\n",
      "8\n",
      "9\n",
      "10\n"
     ]
    }
   ],
   "source": [
    "a=int(input())\n",
    "b=int(input())\n",
    "for i in range(a,b+1):\n",
    "    isprime=True\n",
    "    for j in range(2,int(i**0.5)+1):\n",
    "        if i%j==0:\n",
    "            print(i)\n",
    "            break"
   ]
  },
  {
   "cell_type": "code",
   "execution_count": 3,
   "id": "d18eb119-d47d-43df-ada3-9ecd48753d98",
   "metadata": {},
   "outputs": [
    {
     "name": "stdin",
     "output_type": "stream",
     "text": [
      " 1\n",
      " 300\n"
     ]
    },
    {
     "name": "stdout",
     "output_type": "stream",
     "text": [
      "1 2 3 4 5 6 7 8 9 153 "
     ]
    }
   ],
   "source": [
    "a=int(input())\n",
    "b=int(input())\n",
    "def func(a):\n",
    "    c=str(a)\n",
    "    d=len(c)\n",
    "    z=a\n",
    "    sum=0\n",
    "    while a>0:\n",
    "        e=a%10\n",
    "        sum+=e**d\n",
    "        a=a//10\n",
    "    if sum==z:\n",
    "        return True\n",
    "    else:\n",
    "        return False\n",
    "count=0\n",
    "for i in range(a,b+1):\n",
    "    if func(i):\n",
    "        count+=1\n",
    "        print(i,end=\" \")\n",
    "if count<1:\n",
    "    print(-1)"
   ]
  },
  {
   "cell_type": "code",
   "execution_count": 4,
   "id": "76bf9136-7436-4f57-ba5d-a309418a3cfc",
   "metadata": {},
   "outputs": [
    {
     "name": "stdin",
     "output_type": "stream",
     "text": [
      " 10\n",
      " 5\n"
     ]
    },
    {
     "name": "stdout",
     "output_type": "stream",
     "text": [
      "24 \n",
      "23 22 \n",
      "21 20 19 \n",
      "18 17 16 15 \n",
      "14 13 12 11 10 \n"
     ]
    }
   ],
   "source": [
    "a=int(input())\n",
    "b=int(input())\n",
    "c=b*(b+1)//2\n",
    "d=a+c-1\n",
    "for i in range(1,b+1):\n",
    "    row=\"\"\n",
    "    for j in range(i):\n",
    "        row=str(d)+\" \"\n",
    "        d-=1\n",
    "        print(row,end=\"\")\n",
    "    print()\n",
    "    "
   ]
  },
  {
   "cell_type": "markdown",
   "id": "a16f423f-8aa4-4d44-8d81-91e8580969e1",
   "metadata": {},
   "source": [
    "#  CODING PRACTICE 14A"
   ]
  },
  {
   "cell_type": "code",
   "execution_count": 1,
   "id": "5a81e0be-2e9e-4cd0-9b27-283608ad1ad0",
   "metadata": {},
   "outputs": [
    {
     "name": "stdin",
     "output_type": "stream",
     "text": [
      " 5\n"
     ]
    },
    {
     "name": "stdout",
     "output_type": "stream",
     "text": [
      "1 2 3 4 5 \n",
      "1       5 \n",
      "1       5 \n",
      "1       5 \n",
      "1 2 3 4 5 \n"
     ]
    }
   ],
   "source": [
    "a=int(input())\n",
    "for i in range(1,a+1):\n",
    "    b=\"\"\n",
    "    for j in range(1,a+1):\n",
    "        if i==1 or i==a:\n",
    "            b=b+str(j)+\" \"\n",
    "        else:\n",
    "            if j==1 or j==a:\n",
    "                b=b+str(j)+\" \"\n",
    "            else:\n",
    "                b=b+\"  \"\n",
    "    print(b)"
   ]
  },
  {
   "cell_type": "code",
   "execution_count": 2,
   "id": "3724d2fc-27e2-4237-a667-20a1a6c34af6",
   "metadata": {},
   "outputs": [
    {
     "name": "stdin",
     "output_type": "stream",
     "text": [
      " 5\n"
     ]
    },
    {
     "name": "stdout",
     "output_type": "stream",
     "text": [
      "1 2 3 4 5 \n",
      "1       5 \n",
      "1       5 \n",
      "1       5 \n",
      "1 2 3 4 5 \n"
     ]
    }
   ],
   "source": [
    "# approach 2\n",
    "n = int(input())\n",
    "for i in range(1, n + 1):\n",
    "    for j in range(1, n + 1):\n",
    "        if i == 1 or i == n or j == 1 or j == n:\n",
    "            print(j, end=\" \")\n",
    "        else:\n",
    "            print(\"  \", end=\"\")  # Two spaces for alignment\n",
    "    print()\n"
   ]
  },
  {
   "cell_type": "code",
   "execution_count": 3,
   "id": "df89305f-6c27-4b54-9ead-0441700cc309",
   "metadata": {},
   "outputs": [
    {
     "name": "stdin",
     "output_type": "stream",
     "text": [
      " 5\n"
     ]
    },
    {
     "name": "stdout",
     "output_type": "stream",
     "text": [
      "    1 \n",
      "   1 2 \n",
      "  1 2 3 \n",
      " 1 2 3 4 \n",
      "1 2 3 4 5 \n"
     ]
    }
   ],
   "source": [
    "a=int(input())\n",
    "for i in range(1,a+1):\n",
    "    num=\"\"\n",
    "    b=(a-i)*\" \"\n",
    "    for j in range(1,i+1):\n",
    "       num=num+str(j)+\" \"\n",
    "    print(b+num)"
   ]
  },
  {
   "cell_type": "markdown",
   "id": "ff5efc61-f89d-4f30-be3c-a29a5b868ed7",
   "metadata": {},
   "source": [
    "## Tough Pattern"
   ]
  },
  {
   "cell_type": "code",
   "execution_count": 5,
   "id": "baa28120-7be2-4d85-a67e-3df5d62690e0",
   "metadata": {},
   "outputs": [
    {
     "name": "stdin",
     "output_type": "stream",
     "text": [
      " 10\n"
     ]
    },
    {
     "name": "stdout",
     "output_type": "stream",
     "text": [
      "         1 \n",
      "        1 2 \n",
      "       1   3 \n",
      "      1     4 \n",
      "     1       5 \n",
      "    1         6 \n",
      "   1           7 \n",
      "  1             8 \n",
      " 1               9 \n",
      "1 2 3 4 5 6 7 8 9 10 \n"
     ]
    }
   ],
   "source": [
    "a=int(input())\n",
    "for i in range(1,a+1):\n",
    "    spaces=\" \"*(a-i)\n",
    "    n=\"\"\n",
    "    for j in range(1,i+1):\n",
    "        if j==1 or j==i or i==a:\n",
    "            n+=str(j)+\" \"\n",
    "        else:\n",
    "            n+=\"  \"\n",
    "    print(spaces+n)"
   ]
  },
  {
   "cell_type": "code",
   "execution_count": 6,
   "id": "ca7904d2-7e55-4832-8b65-098ed8bd2f1d",
   "metadata": {},
   "outputs": [
    {
     "name": "stdin",
     "output_type": "stream",
     "text": [
      " 10\n"
     ]
    },
    {
     "name": "stdout",
     "output_type": "stream",
     "text": [
      "1 \n",
      "1 2 \n",
      "1   3 \n",
      "1     4 \n",
      "1       5 \n",
      "1         6 \n",
      "1           7 \n",
      "1             8 \n",
      "1               9 \n",
      "1 2 3 4 5 6 7 8 9 10 \n"
     ]
    }
   ],
   "source": [
    "a=int(input())\n",
    "for i in range(1,a+1):\n",
    "    b=\"\"\n",
    "    for j in range(1,i+1):\n",
    "        if j==1 or j==i or i==a:\n",
    "            b+=str(j)+\" \"\n",
    "        else:\n",
    "            b+=\"  \"\n",
    "    print(b)"
   ]
  },
  {
   "cell_type": "code",
   "execution_count": 7,
   "id": "10ab6b22-0e64-4990-96a6-8ffa034a0f0a",
   "metadata": {},
   "outputs": [
    {
     "name": "stdin",
     "output_type": "stream",
     "text": [
      " 7\n"
     ]
    },
    {
     "name": "stdout",
     "output_type": "stream",
     "text": [
      "      5\n",
      "     5 6\n",
      "    5   7\n",
      "   5     8\n",
      "  5       9\n",
      " 5         10\n",
      "5 6 7 8 9 10 11 \n"
     ]
    }
   ],
   "source": [
    "a=int(input())\n",
    "for i in range(1,a):\n",
    "    left=(a-i)*\" \"\n",
    "    m=2*(i-1)-1\n",
    "    if i==1:\n",
    "        print(left+\"5\")\n",
    "    else:\n",
    "        print(left+\"5\"+\" \"*m+str(5+i-1))\n",
    "fin=\"\"\n",
    "for j in range(a):\n",
    "    fin+=str(5+j)+\" \"\n",
    "print(fin)"
   ]
  },
  {
   "cell_type": "code",
   "execution_count": 8,
   "id": "dc20d950-2380-4063-ad53-f4003de4c357",
   "metadata": {},
   "outputs": [
    {
     "name": "stdin",
     "output_type": "stream",
     "text": [
      " 5\n"
     ]
    },
    {
     "name": "stdout",
     "output_type": "stream",
     "text": [
      "1 2 3 4 5 \n",
      "1     4 \n",
      "1   3 \n",
      "1 2 \n",
      "1 \n"
     ]
    }
   ],
   "source": [
    "a=int(input())\n",
    "for i in range(1,a+1):\n",
    "    b=\"\"\n",
    "    for j in range(1,a-i+2):\n",
    "        if j==1 or j==a-i+1 or i==1:\n",
    "            b+=str(j)+\" \"\n",
    "        else:\n",
    "            b+=\"  \"\n",
    "    print(b)"
   ]
  },
  {
   "cell_type": "code",
   "execution_count": 9,
   "id": "4688279c-e1ec-4c2d-9840-8027edb66ab7",
   "metadata": {},
   "outputs": [
    {
     "name": "stdin",
     "output_type": "stream",
     "text": [
      " 5\n"
     ]
    },
    {
     "name": "stdout",
     "output_type": "stream",
     "text": [
      "        1 \n",
      "      2 1 \n",
      "    3   1 \n",
      "  4     1 \n",
      "5 4 3 2 1 \n"
     ]
    }
   ],
   "source": [
    "a=int(input())\n",
    "for i in range(1,a+1):\n",
    "    spaces=\"  \"*(a-i)\n",
    "    b=\"\"\n",
    "    for j in range(i,0,-1):\n",
    "        if j==1 or i==a or j==i:\n",
    "            b+=str(j)+\" \"\n",
    "        else:\n",
    "            b+=\"  \"\n",
    "    print(spaces+b)"
   ]
  },
  {
   "cell_type": "code",
   "execution_count": 2,
   "id": "73ef40a2-f75a-49b9-9b8c-84ff9bdc39f3",
   "metadata": {},
   "outputs": [
    {
     "name": "stdin",
     "output_type": "stream",
     "text": [
      " 5\n"
     ]
    },
    {
     "name": "stdout",
     "output_type": "stream",
     "text": [
      "1 2 3 4 5 \n",
      " 1     4 \n",
      "  1   3 \n",
      "   1 2 \n",
      "    1 \n"
     ]
    }
   ],
   "source": [
    "a = int(input())\n",
    "for i in range(a, 0, -1):\n",
    "    spaces = \" \" * (a - i)\n",
    "    n = \"\"\n",
    "    for j in range(1, i + 1):\n",
    "        if j == 1 or j == i or i == a:\n",
    "            n += str(j) + \" \"\n",
    "        else:\n",
    "            n += \"  \"\n",
    "    print(spaces + n)\n"
   ]
  },
  {
   "cell_type": "code",
   "execution_count": 1,
   "id": "37c84de3-04a0-4ec1-b24f-8270cdc9f053",
   "metadata": {},
   "outputs": [
    {
     "name": "stdin",
     "output_type": "stream",
     "text": [
      " 3\n",
      " 4\n"
     ]
    },
    {
     "name": "stdout",
     "output_type": "stream",
     "text": [
      "7 8 9 10 \n",
      "7     10 \n",
      "7 8 9 10 \n"
     ]
    }
   ],
   "source": [
    "a=int(input())\n",
    "b=int(input())\n",
    "for i in range(1,a+1):\n",
    "    c=7\n",
    "    for j in range(1,b+1):\n",
    "        if i==1 or i==a or j==1 or j==b:\n",
    "            print(c,end=\" \")\n",
    "        else:\n",
    "            print(\" \",end=\" \")\n",
    "        c+=1\n",
    "    print()"
   ]
  },
  {
   "cell_type": "code",
   "execution_count": 1,
   "id": "cc7ea6b4-d83b-4e59-9a99-e98d7d71ad3b",
   "metadata": {},
   "outputs": [
    {
     "name": "stdin",
     "output_type": "stream",
     "text": [
      " 5\n",
      " 6\n"
     ]
    },
    {
     "name": "stdout",
     "output_type": "stream",
     "text": [
      "6 7 8 9 10 \n",
      " 6     9 \n",
      "  6   8 \n",
      "   6 7 \n",
      "    6 \n"
     ]
    }
   ],
   "source": [
    "n=int(input())\n",
    "s=int(input())\n",
    "sec=s\n",
    "for i in range(1,n+1):\n",
    "    if i==1:\n",
    "        each=\"\"\n",
    "        for j in range(1,n+1):\n",
    "            each=each+str(s)+\" \"\n",
    "            s+=1\n",
    "        print(each)\n",
    "    elif i==n:\n",
    "        each=\" \"*(i-1)\n",
    "        for j in range(n-i+1):\n",
    "            each=each+str(sec)+\" \"\n",
    "        print(each)\n",
    "    else:\n",
    "        spaces=\" \"*(i-1)\n",
    "        hollow=\"  \"*(n-i-1)\n",
    "        each=spaces+str(sec)+\" \"+hollow+str(sec+n-i)+\" \"\n",
    "        print(each)\n",
    "        s+=1\n",
    "        "
   ]
  },
  {
   "cell_type": "code",
   "execution_count": 2,
   "id": "d1701141-24a8-443c-bd5a-4e905ccdc19e",
   "metadata": {},
   "outputs": [
    {
     "name": "stdin",
     "output_type": "stream",
     "text": [
      " 5\n"
     ]
    },
    {
     "name": "stdout",
     "output_type": "stream",
     "text": [
      "    * \n",
      "   * * \n",
      "  *   * \n",
      " *     * \n",
      "* * * * * \n"
     ]
    }
   ],
   "source": [
    "n=int(input())\n",
    "for i in range(1,n+1):\n",
    "    spaces=(n-i)*\" \"\n",
    "    if i==1:\n",
    "        print(spaces+\"* \"*i)\n",
    "    elif i==n:\n",
    "        print(\"* \"*i)\n",
    "    else:\n",
    "        hollow=\"  \"*(i-2)\n",
    "        print(spaces+\"* \"+hollow+\"* \")  "
   ]
  },
  {
   "cell_type": "code",
   "execution_count": 3,
   "id": "2d2f13fe-984e-487e-aef1-208d21535307",
   "metadata": {},
   "outputs": [
    {
     "name": "stdin",
     "output_type": "stream",
     "text": [
      " 5\n"
     ]
    },
    {
     "name": "stdout",
     "output_type": "stream",
     "text": [
      "5 4 3 2 1 \n",
      "5       1 \n",
      "5       1 \n",
      "5       1 \n",
      "5 4 3 2 1 \n"
     ]
    }
   ],
   "source": [
    "n=int(input())\n",
    "for i in range(1,n+1):\n",
    "    b=\"\"\n",
    "    s=n\n",
    "    for j in range(1,n+1):\n",
    "        if i==1 or i==n or j==1 or j==n:\n",
    "            b+=str(s)+\" \"\n",
    "            s-=1\n",
    "        else:\n",
    "            b+=\"  \"\n",
    "            s-=1\n",
    "    print(b)"
   ]
  },
  {
   "cell_type": "code",
   "execution_count": 4,
   "id": "f077aed8-9008-4102-9b6e-d4bd066f3a92",
   "metadata": {},
   "outputs": [
    {
     "name": "stdin",
     "output_type": "stream",
     "text": [
      " 5\n",
      " 4\n"
     ]
    },
    {
     "name": "stdout",
     "output_type": "stream",
     "text": [
      "1 2 3 4 \n",
      "5     8 \n",
      "9     12 \n",
      "13     16 \n",
      "17 18 19 20 \n"
     ]
    }
   ],
   "source": [
    "a=int(input())\n",
    "b=int(input())\n",
    "z=1\n",
    "for i in range(1,a+1):\n",
    "    x=\"\"\n",
    "    for j in range(1,b+1):\n",
    "        if i==1 or i==a or j==1 or j==b:\n",
    "            x+=str(z)+\" \"\n",
    "        else:\n",
    "            x+=\"  \"\n",
    "        z+=1\n",
    "    print(x)"
   ]
  },
  {
   "cell_type": "markdown",
   "id": "8b1783f7-ec88-4053-bc58-198dd834d3ae",
   "metadata": {},
   "source": [
    "# CODING PRACTICE 14B"
   ]
  },
  {
   "cell_type": "code",
   "execution_count": 2,
   "id": "eb28088e-a569-4b65-bf4a-05e9e66e8a3a",
   "metadata": {},
   "outputs": [
    {
     "name": "stdin",
     "output_type": "stream",
     "text": [
      " 2\n",
      " 4\n"
     ]
    },
    {
     "name": "stdout",
     "output_type": "stream",
     "text": [
      "2 3 4 5 \n",
      "6     9 \n",
      "10     13 \n",
      "14 15 16 17 \n"
     ]
    }
   ],
   "source": [
    "a=int(input())\n",
    "b=int(input())\n",
    "for i in range(1,b+1):\n",
    "    line=\"\"\n",
    "    for j in range(1,b+1):\n",
    "        if i==1 or j==1 or i==b or j==b:\n",
    "            line+=str(a)+\" \"\n",
    "        else:\n",
    "            line+=\"  \"\n",
    "        a+=1\n",
    "    print(line)"
   ]
  },
  {
   "cell_type": "code",
   "execution_count": 3,
   "id": "178f51ae-18e8-445f-9642-f833265348c2",
   "metadata": {},
   "outputs": [
    {
     "name": "stdin",
     "output_type": "stream",
     "text": [
      " 3\n",
      " 6\n"
     ]
    },
    {
     "name": "stdout",
     "output_type": "stream",
     "text": [
      "18 17 16 15 14 13 \n",
      "12         7 \n",
      "6 5 4 3 2 1 \n"
     ]
    }
   ],
   "source": [
    "a=int(input())\n",
    "b=int(input())\n",
    "c=a*b\n",
    "for i in range(a):\n",
    "    line=\"\"\n",
    "    for j in range(b):\n",
    "        if i==0 or j==0 or i==a-1 or j==b-1:\n",
    "            line+=str(c)+\" \"\n",
    "        else:\n",
    "            line+=\"  \"\n",
    "        c-=1\n",
    "    print(line)"
   ]
  },
  {
   "cell_type": "code",
   "execution_count": 4,
   "id": "3e0f881d-2cce-4189-a75c-a7c61fac6b9a",
   "metadata": {},
   "outputs": [
    {
     "name": "stdin",
     "output_type": "stream",
     "text": [
      " 2\n",
      " 4\n"
     ]
    },
    {
     "name": "stdout",
     "output_type": "stream",
     "text": [
      "2 \n",
      "3 4 \n",
      "5   6 \n",
      "7 8 9 10 \n"
     ]
    }
   ],
   "source": [
    "a=int(input())\n",
    "b=int(input())\n",
    "num=a\n",
    "for i in range(1,b+1):\n",
    "    for j in range(1,i+1):\n",
    "        if j==1 or j==i or i==b:\n",
    "            print(num,end=\" \")\n",
    "            num+=1\n",
    "        else:\n",
    "            print(\" \",end=\" \")\n",
    "    print()"
   ]
  },
  {
   "cell_type": "code",
   "execution_count": 5,
   "id": "47187e64-eacd-44a8-839c-6ab5a0fbc3d3",
   "metadata": {},
   "outputs": [
    {
     "name": "stdin",
     "output_type": "stream",
     "text": [
      " 2\n",
      " 4\n"
     ]
    },
    {
     "name": "stdout",
     "output_type": "stream",
     "text": [
      "2 3 4 5 \n",
      "  6   7 \n",
      "    8 9 \n",
      "      10 \n"
     ]
    }
   ],
   "source": [
    "a=int(input())\n",
    "b=int(input())\n",
    "c=a\n",
    "for i in range(b):\n",
    "    for j in range(b):\n",
    "        if i==0 or i==j or j==b-1:\n",
    "            print(c,end=\" \")\n",
    "            c+=1\n",
    "        else:\n",
    "            print(\" \",end=\" \")\n",
    "    print()"
   ]
  },
  {
   "cell_type": "code",
   "execution_count": 5,
   "id": "99cb372a-f219-478c-bc1b-33e8c52ee3e7",
   "metadata": {},
   "outputs": [
    {
     "name": "stdin",
     "output_type": "stream",
     "text": [
      " 5\n"
     ]
    },
    {
     "name": "stdout",
     "output_type": "stream",
     "text": [
      "1 2 3 4 5 \n",
      "6     9 \n",
      "10   12 \n",
      "13 14 \n",
      "15 \n"
     ]
    }
   ],
   "source": [
    "a=int(input())\n",
    "b=1\n",
    "for i in range(a):\n",
    "    c=\"\"\n",
    "    for j in range(a-i):\n",
    "        if i==0 or j==0 or j==a-i-1:\n",
    "            c+=str(b)+\" \"\n",
    "            b+=1\n",
    "        else:\n",
    "            c+=\"  \"\n",
    "            b+=1\n",
    "    print(c)\n"
   ]
  },
  {
   "cell_type": "code",
   "execution_count": 6,
   "id": "516abd62-3f04-442c-8a13-b3ff626224f9",
   "metadata": {},
   "outputs": [
    {
     "name": "stdin",
     "output_type": "stream",
     "text": [
      " 3\n",
      " 10\n"
     ]
    },
    {
     "name": "stdout",
     "output_type": "stream",
     "text": [
      "15\n"
     ]
    }
   ],
   "source": [
    "m=int(input())\n",
    "n=int(input())\n",
    "sum=0\n",
    "for i in range(m,n+1):\n",
    "    if i>1:\n",
    "        isprime=True\n",
    "        for j in range(2,int(i**0.5)+1):\n",
    "            if i%j==0:\n",
    "                isprime=False\n",
    "                break\n",
    "        if isprime:\n",
    "            sum+=i\n",
    "print(sum)"
   ]
  },
  {
   "cell_type": "markdown",
   "id": "fa7d27c2-08f0-4a4d-b90b-f0a0d00dd889",
   "metadata": {},
   "source": [
    "# ASSIGNMENT 14"
   ]
  },
  {
   "cell_type": "code",
   "execution_count": 2,
   "id": "81757c31-26f6-4334-9e60-41c66bfdf2a2",
   "metadata": {},
   "outputs": [
    {
     "name": "stdin",
     "output_type": "stream",
     "text": [
      " 2\n",
      " 6\n"
     ]
    },
    {
     "name": "stdout",
     "output_type": "stream",
     "text": [
      "22 21 20 19 18 17 \n",
      " 16       12 \n",
      "  11     8 \n",
      "   7   5 \n",
      "    4 3 \n",
      "     2 \n"
     ]
    }
   ],
   "source": [
    "s = int(input())\n",
    "n = int(input())\n",
    "sums_val = sum(range(1, n+1))  # changed variable name\n",
    "sums_val += s - 1\n",
    "for i in range(n, 0, -1):\n",
    "    spaces = (n-i) * \" \"\n",
    "    line = \"\"\n",
    "    for j in range(1, i+1):\n",
    "        if i == 1 or i == n or j == 1 or j == i:\n",
    "            line += str(sums_val) + \" \"\n",
    "        else:\n",
    "            line += \"  \"\n",
    "        sums_val -= 1\n",
    "    print(spaces + line)\n"
   ]
  },
  {
   "cell_type": "code",
   "execution_count": 23,
   "id": "e8c0aa24-5653-4f0b-8ccc-44274814d383",
   "metadata": {},
   "outputs": [
    {
     "name": "stdin",
     "output_type": "stream",
     "text": [
      " 5\n",
      " 6\n"
     ]
    },
    {
     "name": "stdout",
     "output_type": "stream",
     "text": [
      "5 6 7 8 9 10 \n",
      " 11       15 \n",
      "  16     19 \n",
      "   20   22 \n",
      "    23 24 \n",
      "     25 \n"
     ]
    }
   ],
   "source": [
    "a=int(input())\n",
    "d=int(input())\n",
    "c=a\n",
    "for i in range(d,0,-1):\n",
    "    line=\"\"\n",
    "    spaces=\" \"*(d-i)\n",
    "    for j in range(i):\n",
    "        if i==1 or i==d or j==0 or j==i-1:\n",
    "            line+=str(c)+\" \"\n",
    "        else:\n",
    "            line+=\"  \"\n",
    "        c+=1\n",
    "    print(spaces+line)  "
   ]
  },
  {
   "cell_type": "code",
   "execution_count": 22,
   "id": "81b80a21-6588-4bc2-a667-baea8cc6feaf",
   "metadata": {},
   "outputs": [
    {
     "name": "stdin",
     "output_type": "stream",
     "text": [
      " 8\n"
     ]
    },
    {
     "name": "stdout",
     "output_type": "stream",
     "text": [
      "       1 \n",
      "      1 2 \n",
      "     1   3 \n",
      "    1     4 \n",
      "   1       5 \n",
      "  1         6 \n",
      " 1           7 \n",
      "1             8 \n",
      " 1           7 \n",
      "  1         6 \n",
      "   1       5 \n",
      "    1     4 \n",
      "     1   3 \n",
      "      1 2 \n",
      "       1 \n"
     ]
    }
   ],
   "source": [
    "n=int(input())\n",
    "for i in range(1,n+1):\n",
    "    spaces=\" \"*(n-i)\n",
    "    line=\"\"\n",
    "    a=1\n",
    "    for j in range(1,i+1):\n",
    "        if j==1 or j==i:\n",
    "            line+=str(a)+\" \"\n",
    "        else:\n",
    "            line+=\"  \"\n",
    "        a+=1\n",
    "    print(spaces+line)\n",
    "for k in range(n-1,0,-1):\n",
    "    spaces=\" \"*(n-k)\n",
    "    line=\"\"\n",
    "    a=1\n",
    "    for z in range(1,k+1):\n",
    "        if z==1 or z==k:\n",
    "            line+=str(a)+\" \"\n",
    "        else:\n",
    "            line+=\"  \"\n",
    "        a+=1\n",
    "    print(spaces+line)"
   ]
  },
  {
   "cell_type": "code",
   "execution_count": 24,
   "id": "1bdfbb2f-9306-415f-a05c-018dfdf587ac",
   "metadata": {},
   "outputs": [
    {
     "name": "stdin",
     "output_type": "stream",
     "text": [
      " 6\n",
      " 4\n",
      " 4\n",
      " 2\n",
      " 7\n",
      " 9\n",
      " 1\n"
     ]
    },
    {
     "name": "stdout",
     "output_type": "stream",
     "text": [
      "9\n"
     ]
    }
   ],
   "source": [
    "#sum of primes\n",
    "a=int(input())\n",
    "sum=0\n",
    "for i in range(a):\n",
    "    b=int(input())\n",
    "    if b==1:\n",
    "        sum+=0\n",
    "    else:\n",
    "        isp=True\n",
    "        for j in range(2,b):\n",
    "            if b%j==0:\n",
    "                isp=False\n",
    "                break\n",
    "        if isp:\n",
    "            sum+=b\n",
    "print(sum)"
   ]
  },
  {
   "cell_type": "markdown",
   "id": "1b5f2b95-6e81-432a-ae48-db18e2189e95",
   "metadata": {},
   "source": [
    "# CODING PRACTICE-15A"
   ]
  },
  {
   "cell_type": "code",
   "execution_count": 1,
   "id": "a055a6fa-2723-4920-8c32-fc055d843056",
   "metadata": {},
   "outputs": [
    {
     "name": "stdin",
     "output_type": "stream",
     "text": [
      " 5\n"
     ]
    },
    {
     "name": "stdout",
     "output_type": "stream",
     "text": [
      "* \n",
      "* * \n",
      "* * * \n",
      "* * * * \n",
      "* * * * * \n",
      "* * * * \n",
      "* * * \n",
      "* * \n",
      "* \n"
     ]
    }
   ],
   "source": [
    "a=int(input())\n",
    "rows=2*a-1\n",
    "for i in range(1,rows+1):\n",
    "    if i<=a:\n",
    "        print(\"* \"*i)\n",
    "    else:\n",
    "        print(\"* \"*(rows-i+1))"
   ]
  },
  {
   "cell_type": "code",
   "execution_count": 2,
   "id": "72c9cb1a-3352-4b8f-9645-44e31bc5cbc4",
   "metadata": {},
   "outputs": [
    {
     "name": "stdin",
     "output_type": "stream",
     "text": [
      " 5\n"
     ]
    },
    {
     "name": "stdout",
     "output_type": "stream",
     "text": [
      "0 0 0 0 1 0 0 0 0 \n",
      "0 0 0 1 1 1 0 0 0 \n",
      "0 0 1 1 1 1 1 0 0 \n",
      "0 1 1 1 1 1 1 1 0 \n",
      "1 1 1 1 1 1 1 1 1 \n"
     ]
    }
   ],
   "source": [
    "a=int(input())\n",
    "for i in range(1,a+1):\n",
    "    zeros=\"0 \"*(a-i)\n",
    "    numbers=\"1 \"*i\n",
    "    numbers1=\"1 \"*(i-1)\n",
    "    nzeros=\"0 \"*(a-i)\n",
    "    print(zeros+numbers+numbers1+nzeros)"
   ]
  },
  {
   "cell_type": "code",
   "execution_count": 3,
   "id": "e3e773a6-8d52-463c-9faa-06ef1f4dda51",
   "metadata": {},
   "outputs": [
    {
     "name": "stdin",
     "output_type": "stream",
     "text": [
      " 5\n"
     ]
    },
    {
     "name": "stdout",
     "output_type": "stream",
     "text": [
      "A B C D E \n",
      "A B C D E \n",
      "A B C D E \n",
      "A B C D E \n",
      "A B C D E \n"
     ]
    }
   ],
   "source": [
    "a=int(input())\n",
    "b=\"ABCDEFGHIJKLMNOPQRSTUVWXYZ\"\n",
    "for i in range(1,a+1):\n",
    "    line=\"\"\n",
    "    for j in range(1,a+1):\n",
    "        line+=b[j-1]+\" \"\n",
    "    print(line)"
   ]
  },
  {
   "cell_type": "code",
   "execution_count": 4,
   "id": "4930861a-62ca-4e2d-892f-19ee824a461d",
   "metadata": {},
   "outputs": [
    {
     "name": "stdin",
     "output_type": "stream",
     "text": [
      " 5\n"
     ]
    },
    {
     "name": "stdout",
     "output_type": "stream",
     "text": [
      "* * * * * \n",
      "        * \n",
      "        * \n",
      "        * \n",
      "* * * * * \n",
      "*         \n",
      "*         \n",
      "*         \n",
      "* * * * * \n"
     ]
    }
   ],
   "source": [
    "a=int(input())\n",
    "for i in range(1,2*a):\n",
    "    if i==1 or i==a or i==2*a-1:\n",
    "        print(a*\"* \")\n",
    "    elif i<a:\n",
    "        print(\"  \"*(a-1)+\"* \")\n",
    "    else:\n",
    "        print(\"* \"+\"  \"*(a-1))"
   ]
  },
  {
   "cell_type": "code",
   "execution_count": 5,
   "id": "376f5916-6d30-48d6-8f97-023a00f3317f",
   "metadata": {},
   "outputs": [
    {
     "name": "stdin",
     "output_type": "stream",
     "text": [
      " 6\n"
     ]
    },
    {
     "name": "stdout",
     "output_type": "stream",
     "text": [
      "* * * * * * \n",
      "* \n",
      "* \n",
      "* \n",
      "* \n",
      "* * * * * * \n",
      "*         * \n",
      "*         * \n",
      "*         * \n",
      "*         * \n",
      "* * * * * * \n"
     ]
    }
   ],
   "source": [
    "a=int(input())\n",
    "for i in range(1,2*a):\n",
    "    if i==1 or i==((2*a-1)//2)+1 or i==2*a-1:\n",
    "        print(\"* \"*(a))\n",
    "    elif i<((2*a-1)//2)+1:\n",
    "        print(\"* \")\n",
    "    else:\n",
    "        print(\"* \"+\"  \"*(a-2)+\"* \")"
   ]
  },
  {
   "cell_type": "code",
   "execution_count": 6,
   "id": "52e4b953-ef14-428b-8034-c79ba7ff4da0",
   "metadata": {},
   "outputs": [
    {
     "name": "stdin",
     "output_type": "stream",
     "text": [
      " 5\n"
     ]
    },
    {
     "name": "stdout",
     "output_type": "stream",
     "text": [
      "*                 * \n",
      "* *             * * \n",
      "* * *         * * * \n",
      "* * * *     * * * * \n",
      "* * * * * * * * * * \n",
      "* * * * * * * * * * \n",
      "* * * *     * * * * \n",
      "* * *         * * * \n",
      "* *             * * \n",
      "*                 * \n"
     ]
    }
   ],
   "source": [
    "a=int(input())\n",
    "for i in range(1,a+1):\n",
    "    print(\"* \"*i+\"  \"*2*(a-i)+\"* \"*i)\n",
    "for i in range(a,0,-1):\n",
    "    print(\"* \"*i+\"  \"*2*(a-i)+\"* \"*i)"
   ]
  },
  {
   "cell_type": "code",
   "execution_count": 7,
   "id": "e4baff8d-70bc-4c6f-a222-dd3cde4bc63e",
   "metadata": {},
   "outputs": [
    {
     "name": "stdin",
     "output_type": "stream",
     "text": [
      " 5\n"
     ]
    },
    {
     "name": "stdout",
     "output_type": "stream",
     "text": [
      "* * * * * \n",
      "*       * \n",
      "*       * \n",
      "*       * \n",
      "*       * \n",
      "* * * * * \n",
      "*       * \n",
      "*       * \n",
      "*       * \n",
      "*       * \n",
      "* * * * * \n"
     ]
    }
   ],
   "source": [
    "a=int(input())\n",
    "for i in range(1,2*a+2):\n",
    "    if i==1 or i==a+1 or i==2*a+1:\n",
    "        print(\"* \"*a)\n",
    "    else:\n",
    "        print(\"* \"+\"  \"*(a-2)+\"* \")"
   ]
  },
  {
   "cell_type": "code",
   "execution_count": 8,
   "id": "97870646-44b9-40cc-a7df-34e66baca354",
   "metadata": {},
   "outputs": [
    {
     "name": "stdin",
     "output_type": "stream",
     "text": [
      " 5\n"
     ]
    },
    {
     "name": "stdout",
     "output_type": "stream",
     "text": [
      "* * * * * \n",
      "* \n",
      "* \n",
      "* \n",
      "* * * * * \n",
      "        * \n",
      "        * \n",
      "        * \n",
      "* * * * * \n"
     ]
    }
   ],
   "source": [
    "a=int(input())\n",
    "for i in range(1,2*a):\n",
    "    if i==1 or i==2*a-1 or i==(2*a)//2:\n",
    "        print(\"* \"*a)\n",
    "    elif i<(2*a)//2:\n",
    "        print(\"* \")\n",
    "    else:\n",
    "        print(\"  \"*(a-1)+\"* \")"
   ]
  },
  {
   "cell_type": "code",
   "execution_count": 9,
   "id": "bc001fd0-ab9b-4f20-b2e8-aa91069cfb08",
   "metadata": {},
   "outputs": [
    {
     "name": "stdin",
     "output_type": "stream",
     "text": [
      " 5\n"
     ]
    },
    {
     "name": "stdout",
     "output_type": "stream",
     "text": [
      ". . . . 0 . . . . \n",
      ". . . 0 0 0 . . . \n",
      ". . 0 0 0 0 0 . . \n",
      ". 0 0 0 0 0 0 0 . \n",
      "0 0 0 0 0 0 0 0 0 \n"
     ]
    }
   ],
   "source": [
    "a=int(input())\n",
    "for j in range(1,a+1):\n",
    "    dots=\". \"*(a-j)\n",
    "    zeros=\"0 \"*j\n",
    "    zerose=\"0 \"*(j-1)\n",
    "    dotse=\". \"*(a-j)\n",
    "    print(dots+zeros+zerose+dotse)"
   ]
  },
  {
   "cell_type": "code",
   "execution_count": 10,
   "id": "8f0253a0-567f-4725-9ce0-fa9e83ce4f26",
   "metadata": {},
   "outputs": [
    {
     "name": "stdin",
     "output_type": "stream",
     "text": [
      " 5\n"
     ]
    },
    {
     "name": "stdout",
     "output_type": "stream",
     "text": [
      "1\n"
     ]
    }
   ],
   "source": [
    "a=int(input())\n",
    "largest=0\n",
    "for i in range(1,a):\n",
    "    if a%i==0:\n",
    "        largest=i\n",
    "print(largest)"
   ]
  },
  {
   "cell_type": "code",
   "execution_count": 12,
   "id": "25b1bf69-7b0a-455f-987c-77d3f3ea984a",
   "metadata": {},
   "outputs": [
    {
     "name": "stdin",
     "output_type": "stream",
     "text": [
      " 6\n",
      " 4\n"
     ]
    },
    {
     "name": "stdout",
     "output_type": "stream",
     "text": [
      "A B C D \n",
      "E     H \n",
      "I     L \n",
      "M     P \n",
      "Q     T \n",
      "U V W X \n"
     ]
    }
   ],
   "source": [
    "m=int(input())\n",
    "n=int(input())\n",
    "z=\"ABCDEFGHIJKLMNOPQRSTUVWXYZ\"\n",
    "b=0\n",
    "for  i in range(1,m+1):\n",
    "    line=\"\"\n",
    "    for j in range(1,n+1):\n",
    "        if i==1 or  i==m or  j==1 or j==n:\n",
    "            line+=z[b]+\" \"\n",
    "        else:\n",
    "            line+=\"  \"\n",
    "        b+=1\n",
    "    print(line)"
   ]
  },
  {
   "cell_type": "markdown",
   "id": "f3c4f47c-4654-4833-8fbd-2f80be342885",
   "metadata": {},
   "source": [
    "# CODING PRACTICE 16"
   ]
  },
  {
   "cell_type": "code",
   "execution_count": 1,
   "id": "a58d39c4-81cd-436f-b153-fcab62d5e730",
   "metadata": {},
   "outputs": [
    {
     "name": "stdin",
     "output_type": "stream",
     "text": [
      " 6\n",
      " 4\n"
     ]
    },
    {
     "name": "stdout",
     "output_type": "stream",
     "text": [
      "4\n"
     ]
    }
   ],
   "source": [
    "a=int(input())\n",
    "for i in range(a):\n",
    "    b=int(input())\n",
    "    if b%2==0:\n",
    "        print(b)\n",
    "        break\n",
    "    "
   ]
  },
  {
   "cell_type": "code",
   "execution_count": 2,
   "id": "5f0a8510-a5c4-4c16-876b-3b2858018763",
   "metadata": {},
   "outputs": [
    {
     "name": "stdin",
     "output_type": "stream",
     "text": [
      " 5\n",
      " 6\n",
      " 7\n",
      " -1\n"
     ]
    },
    {
     "name": "stdout",
     "output_type": "stream",
     "text": [
      "-1\n"
     ]
    }
   ],
   "source": [
    "a=int(input())\n",
    "for  i in range(a):\n",
    "    n=int(input())\n",
    "    if n<0:\n",
    "        print(n)\n",
    "        break"
   ]
  },
  {
   "cell_type": "code",
   "execution_count": 3,
   "id": "a6fd4604-29a9-4d52-8da5-8cd20448a66d",
   "metadata": {},
   "outputs": [
    {
     "name": "stdin",
     "output_type": "stream",
     "text": [
      " pranay is good boy.\n"
     ]
    },
    {
     "name": "stdout",
     "output_type": "stream",
     "text": [
      "PRANAY is good boy.\n"
     ]
    }
   ],
   "source": [
    "a=input()\n",
    "a=list(a)\n",
    "for i in range(len(a)):\n",
    "    if a[i]==\" \":\n",
    "        break\n",
    "    a[i]=a[i].upper()\n",
    "print(\"\".join(a))"
   ]
  },
  {
   "cell_type": "code",
   "execution_count": 4,
   "id": "19a86896-9df2-448f-98f2-e04e0fbfd5e7",
   "metadata": {},
   "outputs": [
    {
     "name": "stdin",
     "output_type": "stream",
     "text": [
      " wdiknwdoifniH\n"
     ]
    },
    {
     "name": "stdout",
     "output_type": "stream",
     "text": [
      "H\n"
     ]
    }
   ],
   "source": [
    "a=input()\n",
    "for i in a:\n",
    "    if i.isupper():\n",
    "        print(i)\n",
    "        break"
   ]
  },
  {
   "cell_type": "code",
   "execution_count": 5,
   "id": "453995fc-1371-412e-845a-a7cecd2634b9",
   "metadata": {},
   "outputs": [
    {
     "name": "stdin",
     "output_type": "stream",
     "text": [
      " 5\n",
      " 8\n"
     ]
    },
    {
     "name": "stdout",
     "output_type": "stream",
     "text": [
      "40\n"
     ]
    }
   ],
   "source": [
    "m=int(input())\n",
    "n=int(input())\n",
    "if m>n:\n",
    "    great=m\n",
    "else:\n",
    "    great=n\n",
    "while True:\n",
    "    if (great%m==0) and (great%n==0):\n",
    "        print(great)\n",
    "        break\n",
    "    great+=1"
   ]
  },
  {
   "cell_type": "code",
   "execution_count": 6,
   "id": "21bcebc3-1967-4903-9aee-635d53f6c96b",
   "metadata": {},
   "outputs": [
    {
     "name": "stdin",
     "output_type": "stream",
     "text": [
      " 5\n",
      " 8\n"
     ]
    },
    {
     "name": "stdout",
     "output_type": "stream",
     "text": [
      "1\n"
     ]
    }
   ],
   "source": [
    "a=int(input())\n",
    "b=int(input())\n",
    "c=max(a,b)\n",
    "d=0\n",
    "for i in range(1,c+1):\n",
    "    if a%i==0 and b%i==0:\n",
    "        d=i\n",
    "print(d)"
   ]
  },
  {
   "cell_type": "code",
   "execution_count": 7,
   "id": "d2b5e648-0350-4974-ba67-211ce3dfc5fe",
   "metadata": {},
   "outputs": [
    {
     "name": "stdin",
     "output_type": "stream",
     "text": [
      " 5\n",
      " 100\n"
     ]
    },
    {
     "name": "stdout",
     "output_type": "stream",
     "text": [
      "5\n"
     ]
    }
   ],
   "source": [
    "a=int(input())\n",
    "b=int(input())\n",
    "for i in range(a,b+1):\n",
    "    if i>1:\n",
    "        isp=True\n",
    "        for j in range(2,i):\n",
    "            if i%j==0:\n",
    "                isp=False\n",
    "                break\n",
    "        if isp:\n",
    "            print(i)\n",
    "            break\n",
    "else:\n",
    "    print(\"No prime numbers in the given range\")"
   ]
  },
  {
   "cell_type": "code",
   "execution_count": 4,
   "id": "bdce7425-107a-4d79-aea4-170359f5f89b",
   "metadata": {},
   "outputs": [
    {
     "name": "stdin",
     "output_type": "stream",
     "text": [
      " 12\n",
      " 2\n"
     ]
    },
    {
     "name": "stdout",
     "output_type": "stream",
     "text": [
      "6\n"
     ]
    }
   ],
   "source": [
    "a=int(input())\n",
    "b=int(input())\n",
    "for i in range(a):\n",
    "    if a%(a-i)==0:\n",
    "        lar=a-i\n",
    "        b=b-1\n",
    "    if b==0:\n",
    "        break\n",
    "print(lar)"
   ]
  },
  {
   "cell_type": "code",
   "execution_count": 5,
   "id": "3f972318-f347-4169-a2b6-f4c5e4b90120",
   "metadata": {},
   "outputs": [
    {
     "name": "stdin",
     "output_type": "stream",
     "text": [
      " chasing the sun\n"
     ]
    },
    {
     "name": "stdout",
     "output_type": "stream",
     "text": [
      "chasing"
     ]
    }
   ],
   "source": [
    "a=input()\n",
    "b=list(a)\n",
    "for i in range(len(b)):\n",
    "    if b[i]==\" \":\n",
    "        break\n",
    "    else:\n",
    "        print(b[i],end=\"\")\n",
    "        "
   ]
  },
  {
   "cell_type": "markdown",
   "id": "cf0ab9d0-748c-4894-9cf2-8b859af2c537",
   "metadata": {},
   "source": [
    "# ASSIGNMENT 16"
   ]
  },
  {
   "cell_type": "code",
   "execution_count": 6,
   "id": "4f63c615-dad5-4027-8791-b3ab8c941205",
   "metadata": {},
   "outputs": [
    {
     "name": "stdin",
     "output_type": "stream",
     "text": [
      " 12\n",
      " 2\n"
     ]
    },
    {
     "name": "stdout",
     "output_type": "stream",
     "text": [
      "6\n"
     ]
    }
   ],
   "source": [
    "# to find kth factor\n",
    "a=int(input())\n",
    "k=int(input())\n",
    "for i in range(a,0,-1):\n",
    "    if a%i==0:\n",
    "        k-=1\n",
    "    if k==0:\n",
    "        print(i)\n",
    "        break\n",
    "else:\n",
    "    print(1)"
   ]
  },
  {
   "cell_type": "code",
   "execution_count": 8,
   "id": "b43a3558-3cf0-4faa-a060-fa7678b52c3b",
   "metadata": {},
   "outputs": [
    {
     "name": "stdin",
     "output_type": "stream",
     "text": [
      " 4\n",
      " 2\n"
     ]
    },
    {
     "name": "stdout",
     "output_type": "stream",
     "text": [
      "2\n"
     ]
    }
   ],
   "source": [
    "a=int(input())\n",
    "for i in range(a):\n",
    "    b=int(input())\n",
    "    isp=True\n",
    "    if b<2:\n",
    "        continue\n",
    "    for j in range(2,b):\n",
    "        if b%j==0:\n",
    "            isp=False\n",
    "            break\n",
    "    if isp:\n",
    "        print(b)\n",
    "        break"
   ]
  },
  {
   "cell_type": "code",
   "execution_count": 9,
   "id": "9354a124-b5d5-47b9-a806-6c68b3aec7fa",
   "metadata": {},
   "outputs": [
    {
     "name": "stdin",
     "output_type": "stream",
     "text": [
      " 5\n",
      " 1\n"
     ]
    },
    {
     "name": "stdout",
     "output_type": "stream",
     "text": [
      "1\n"
     ]
    },
    {
     "name": "stdin",
     "output_type": "stream",
     "text": [
      " 2\n"
     ]
    },
    {
     "name": "stdout",
     "output_type": "stream",
     "text": [
      "2\n"
     ]
    },
    {
     "name": "stdin",
     "output_type": "stream",
     "text": [
      " 3\n"
     ]
    },
    {
     "name": "stdout",
     "output_type": "stream",
     "text": [
      "3\n"
     ]
    },
    {
     "name": "stdin",
     "output_type": "stream",
     "text": [
      " 4\n"
     ]
    },
    {
     "name": "stdout",
     "output_type": "stream",
     "text": [
      "4\n"
     ]
    },
    {
     "name": "stdin",
     "output_type": "stream",
     "text": [
      " 5\n"
     ]
    }
   ],
   "source": [
    "a=int(input())\n",
    "for i in range(a):\n",
    "    b=int(input())\n",
    "    if b%5==0:\n",
    "        break\n",
    "    print(b)"
   ]
  },
  {
   "cell_type": "code",
   "execution_count": 12,
   "id": "56ebef00-4f31-465d-b220-876d81b2ecee",
   "metadata": {},
   "outputs": [
    {
     "name": "stdin",
     "output_type": "stream",
     "text": [
      " 5\n",
      " 1\n",
      " 2\n",
      " 3\n"
     ]
    },
    {
     "name": "stdout",
     "output_type": "stream",
     "text": [
      "3\n"
     ]
    },
    {
     "name": "stdin",
     "output_type": "stream",
     "text": [
      " 4\n",
      " 5\n"
     ]
    }
   ],
   "source": [
    "a=int(input())\n",
    "for  i in range(a):\n",
    "    b=int(input())\n",
    "    if b%3==0:\n",
    "        print(b)"
   ]
  },
  {
   "cell_type": "code",
   "execution_count": 13,
   "id": "fc0afe93-a0de-413a-89af-e055db1e3dca",
   "metadata": {},
   "outputs": [
    {
     "name": "stdin",
     "output_type": "stream",
     "text": [
      " 5\n"
     ]
    },
    {
     "name": "stdout",
     "output_type": "stream",
     "text": [
      "        A \n",
      "      A B \n",
      "    A B C \n",
      "  A B C D \n",
      "A B C D E \n"
     ]
    }
   ],
   "source": [
    "a=int(input())\n",
    "b=\"ABCDEFGHIJKLMNOPQRSTUVWXYZ\"\n",
    "for i in range(1,a+1):\n",
    "    space=\"  \"*(a-i)\n",
    "    lin=\"\"\n",
    "    for j in range(1,i+1):\n",
    "        lin+=str(b[j-1])+\" \"\n",
    "    print(space+lin)"
   ]
  },
  {
   "cell_type": "markdown",
   "id": "b5b6bc1d-c519-475e-ba75-b05bdc399e96",
   "metadata": {},
   "source": [
    "# GRANDASSIGNMENT 2"
   ]
  },
  {
   "cell_type": "code",
   "execution_count": 14,
   "id": "289e152d-8724-449e-922e-ad0004aa78ed",
   "metadata": {},
   "outputs": [
    {
     "name": "stdin",
     "output_type": "stream",
     "text": [
      " 4\n",
      " 10\n"
     ]
    },
    {
     "name": "stdout",
     "output_type": "stream",
     "text": [
      "3\n",
      "4\n"
     ]
    }
   ],
   "source": [
    "#EVN AND ODD COUNT\n",
    "a=int(input())\n",
    "b=int(input())\n",
    "e=0\n",
    "o=0\n",
    "for i in range(a,b+1):\n",
    "    if i%2==0:\n",
    "        e+=1\n",
    "    else:\n",
    "        o+=1\n",
    "print(o)\n",
    "print(e)"
   ]
  },
  {
   "cell_type": "code",
   "execution_count": 15,
   "id": "d598052e-d221-40cb-a5d7-f63d6f5998d9",
   "metadata": {},
   "outputs": [
    {
     "name": "stdin",
     "output_type": "stream",
     "text": [
      " sbdsuvbefuyvbseu\n"
     ]
    },
    {
     "name": "stdout",
     "output_type": "stream",
     "text": [
      "5\n",
      "11\n"
     ]
    }
   ],
   "source": [
    "#vowel and consonants count\n",
    "a=input()\n",
    "v=0\n",
    "c=0\n",
    "for i in a:\n",
    "    if i in \"AEIOUaeiou\":\n",
    "        v+=1\n",
    "    elif i.isalpha():\n",
    "        c+=1\n",
    "print(v)\n",
    "print(c)"
   ]
  },
  {
   "cell_type": "code",
   "execution_count": 16,
   "id": "09a94a88-ae73-4216-b653-978cb178c091",
   "metadata": {},
   "outputs": [
    {
     "name": "stdin",
     "output_type": "stream",
     "text": [
      " RRGGR\n"
     ]
    },
    {
     "name": "stdout",
     "output_type": "stream",
     "text": [
      "2\n"
     ]
    }
   ],
   "source": [
    "#count of unique color to make  or all to equal\n",
    "a=input()\n",
    "r=0\n",
    "g=0\n",
    "for i in a:\n",
    "    if i==\"R\":\n",
    "        r+=1\n",
    "    else:\n",
    "        g+=1\n",
    "if r>g:\n",
    "    print(g)\n",
    "else:\n",
    "    print(r)"
   ]
  },
  {
   "cell_type": "code",
   "execution_count": 17,
   "id": "2d990f66-a17b-4a86-88f3-6aec5ed1de60",
   "metadata": {},
   "outputs": [
    {
     "name": "stdin",
     "output_type": "stream",
     "text": [
      " 5\n"
     ]
    },
    {
     "name": "stdout",
     "output_type": "stream",
     "text": [
      "A \n",
      "A B \n",
      "A B C \n",
      "A B C D \n",
      "A B C D E \n"
     ]
    }
   ],
   "source": [
    "a=int(input())\n",
    "b=\"ABCDEFGHIJKLMNOPQRSTUVWXYZ\"\n",
    "for i in range(1,a+1):\n",
    "    for j in range(1,i+1):\n",
    "        print(b[j-1],end=\" \")\n",
    "    print()"
   ]
  },
  {
   "cell_type": "code",
   "execution_count": 18,
   "id": "f5e4dd78-6f88-4ae2-a570-0243a20249fc",
   "metadata": {},
   "outputs": [
    {
     "name": "stdin",
     "output_type": "stream",
     "text": [
      " 5\n"
     ]
    },
    {
     "name": "stdout",
     "output_type": "stream",
     "text": [
      "1\n",
      "121\n",
      "12321\n",
      "1234321\n",
      "123454321\n"
     ]
    }
   ],
   "source": [
    "a=int(input())\n",
    "for i in range(1,a+1):\n",
    "    line=\"\"\n",
    "    for j in range(1,i+1):\n",
    "        line+=str(j)\n",
    "    for k in range(i-1,0,-1):\n",
    "        line+=str(k)\n",
    "    print(line)"
   ]
  },
  {
   "cell_type": "code",
   "execution_count": 19,
   "id": "228c82e7-1aa1-4fef-b165-993bf2c78d9d",
   "metadata": {},
   "outputs": [
    {
     "name": "stdin",
     "output_type": "stream",
     "text": [
      " parnayRao\n"
     ]
    },
    {
     "name": "stdout",
     "output_type": "stream",
     "text": [
      "parnay_rao\n"
     ]
    }
   ],
   "source": [
    "a=input()\n",
    "b=\"\"\n",
    "for i in range(len(a)):\n",
    "    if a[i].islower():\n",
    "        b+=a[i]\n",
    "    else:\n",
    "        if i==0:\n",
    "            b+=a[i].lower()\n",
    "        else:\n",
    "            b=b+\"_\"+a[i]\n",
    "print(b.lower())"
   ]
  },
  {
   "cell_type": "code",
   "execution_count": 20,
   "id": "02f1d87c-2eb7-4379-8a18-bb0e9cb7d7cb",
   "metadata": {},
   "outputs": [
    {
     "name": "stdin",
     "output_type": "stream",
     "text": [
      " 4\n",
      " 2\n",
      " 4\n",
      " 6\n",
      " 7\n"
     ]
    },
    {
     "name": "stdout",
     "output_type": "stream",
     "text": [
      "10\n"
     ]
    }
   ],
   "source": [
    "#sum of non primes\n",
    "a=int(input())\n",
    "sum=0\n",
    "for i in range(a):\n",
    "    b=int(input())\n",
    "    for j in range(2,b):\n",
    "        if b%j==0:\n",
    "            sum+=b\n",
    "            break\n",
    "print(sum)"
   ]
  },
  {
   "cell_type": "code",
   "execution_count": 21,
   "id": "0f8bcb79-3b39-4dd0-85be-8ebecc3527d7",
   "metadata": {},
   "outputs": [
    {
     "name": "stdin",
     "output_type": "stream",
     "text": [
      " 5\n"
     ]
    },
    {
     "name": "stdout",
     "output_type": "stream",
     "text": [
      "* * * * * \n",
      " * * * * \n",
      "  * * * \n",
      "   * * \n",
      "    * \n",
      "   * * \n",
      "  * * * \n",
      " * * * * \n",
      "* * * * * \n"
     ]
    }
   ],
   "source": [
    "a=int(input())\n",
    "for i in range(1,a):\n",
    "    spaces=\" \"*(i-1)\n",
    "    stars=\"* \"*(a-i+1)\n",
    "    print(spaces+stars)\n",
    "for j in range(1,a+1):\n",
    "    spaces=\" \"*(a-j)\n",
    "    stars=\"* \"*j\n",
    "    print(spaces+stars)"
   ]
  },
  {
   "cell_type": "markdown",
   "id": "cdbc06a3-ea31-4a50-b914-d4d058fc437a",
   "metadata": {},
   "source": [
    "# CODING PRACTICE-17A"
   ]
  },
  {
   "cell_type": "code",
   "execution_count": 2,
   "id": "d94d80a0-6685-4b08-8d0f-80d3c203c2c9",
   "metadata": {},
   "outputs": [
    {
     "name": "stdin",
     "output_type": "stream",
     "text": [
      " 98\n",
      " 110\n"
     ]
    },
    {
     "name": "stdout",
     "output_type": "stream",
     "text": [
      "b\n",
      "c\n",
      "d\n",
      "e\n",
      "f\n",
      "g\n",
      "h\n",
      "i\n",
      "j\n",
      "k\n",
      "l\n",
      "m\n",
      "n\n"
     ]
    }
   ],
   "source": [
    "a=int(input())\n",
    "b=int(input())\n",
    "for i in range(a,b+1):\n",
    "    print(chr(i))"
   ]
  },
  {
   "cell_type": "code",
   "execution_count": 1,
   "id": "24c081d6-df3a-473e-a36e-a2e0352db869",
   "metadata": {},
   "outputs": [
    {
     "name": "stdin",
     "output_type": "stream",
     "text": [
      " jfnj\n"
     ]
    },
    {
     "name": "stdout",
     "output_type": "stream",
     "text": [
      "106\n",
      "102\n",
      "110\n",
      "106\n"
     ]
    }
   ],
   "source": [
    "a=input()\n",
    "for i in a:\n",
    "    print(ord(i))"
   ]
  },
  {
   "cell_type": "code",
   "execution_count": 3,
   "id": "37b79f6e-3012-439f-b869-c2f3a3aa83ae",
   "metadata": {},
   "outputs": [
    {
     "name": "stdin",
     "output_type": "stream",
     "text": [
      " 5\n",
      " 98\n",
      " 97\n",
      " 96\n",
      " 94\n",
      " 93\n"
     ]
    },
    {
     "name": "stdout",
     "output_type": "stream",
     "text": [
      "ba`^]\n"
     ]
    }
   ],
   "source": [
    "a=int(input())\n",
    "b=\"\"\n",
    "for i in range(a):\n",
    "    j=int(input())\n",
    "    b+=chr(j) \n",
    "print(b)"
   ]
  },
  {
   "cell_type": "code",
   "execution_count": 4,
   "id": "59da1c06-90a8-43a1-acdb-aa88a952836c",
   "metadata": {},
   "outputs": [
    {
     "name": "stdin",
     "output_type": "stream",
     "text": [
      " hello\n",
      " 98\n"
     ]
    },
    {
     "name": "stdout",
     "output_type": "stream",
     "text": [
      "0\n"
     ]
    }
   ],
   "source": [
    "#no of chars that have asci values as b\n",
    "a=input()\n",
    "b=int(input())\n",
    "count=0\n",
    "for  i in a:\n",
    "    if ord(i)==b:\n",
    "        count+=1\n",
    "print(count)"
   ]
  },
  {
   "cell_type": "code",
   "execution_count": 6,
   "id": "0450964e-4236-45cf-8418-6d1b1b8a2499",
   "metadata": {},
   "outputs": [
    {
     "name": "stdin",
     "output_type": "stream",
     "text": [
      " pranaY\n"
     ]
    },
    {
     "name": "stdout",
     "output_type": "stream",
     "text": [
      "89\n"
     ]
    }
   ],
   "source": [
    "a=input() #ascii value of first capital letter\n",
    "for i in a:\n",
    "    if i==i.upper():\n",
    "        print(ord(i))\n",
    "        break"
   ]
  },
  {
   "cell_type": "markdown",
   "id": "237814e5-0c31-498c-a1c6-c849acf11f33",
   "metadata": {},
   "source": [
    "# CODING PRACTICE-17B"
   ]
  },
  {
   "cell_type": "code",
   "execution_count": 7,
   "id": "a5c1978d-72b4-412a-8275-ba6bcbe17818",
   "metadata": {},
   "outputs": [
    {
     "name": "stdin",
     "output_type": "stream",
     "text": [
      " praNay\n"
     ]
    },
    {
     "name": "stdout",
     "output_type": "stream",
     "text": [
      "q\n",
      "s\n",
      "b\n",
      "O\n",
      "b\n",
      "z\n"
     ]
    }
   ],
   "source": [
    "a=input() #ascii values of the each character in a string\n",
    "for i in a:\n",
    "    print(chr(ord(i)+1))"
   ]
  },
  {
   "cell_type": "markdown",
   "id": "7335e9be-3d8b-4171-b0df-6854e5c7a6ed",
   "metadata": {},
   "source": [
    "# ASSIGNMENT 17"
   ]
  },
  {
   "cell_type": "code",
   "execution_count": 1,
   "id": "5254c907-8299-41cf-9d34-1328f6d62ad3",
   "metadata": {},
   "outputs": [
    {
     "name": "stdin",
     "output_type": "stream",
     "text": [
      " Word\n",
      " 99\n",
      " 117\n"
     ]
    },
    {
     "name": "stdout",
     "output_type": "stream",
     "text": [
      "o r d "
     ]
    }
   ],
   "source": [
    "s=input() #to find the chars in s that are in range of m,n.\n",
    "m=int(input())\n",
    "n=int(input())\n",
    "b=\"\"\n",
    "for i in s:\n",
    "    if ord(i)>=m and ord(i)<=n:\n",
    "        print(i,end=\" \")"
   ]
  },
  {
   "cell_type": "code",
   "execution_count": 2,
   "id": "82a4c849-7e6c-4f19-acc4-aed06ba452ff",
   "metadata": {},
   "outputs": [
    {
     "name": "stdin",
     "output_type": "stream",
     "text": [
      " pranahy6hsdb\n"
     ]
    },
    {
     "name": "stdout",
     "output_type": "stream",
     "text": [
      "54\n"
     ]
    }
   ],
   "source": [
    "a=input()\n",
    "for i in a:\n",
    "    if i.isdigit():\n",
    "        print(ord(i))\n",
    "        break"
   ]
  },
  {
   "cell_type": "code",
   "execution_count": 3,
   "id": "3e8d586f-39e5-4f5a-9ffc-a21a048ee243",
   "metadata": {},
   "outputs": [
    {
     "name": "stdin",
     "output_type": "stream",
     "text": [
      " abcDef\n"
     ]
    },
    {
     "name": "stdout",
     "output_type": "stream",
     "text": [
      "bcdEfg\n"
     ]
    }
   ],
   "source": [
    "a=input()#nextchar of each letter\n",
    "b=\"\"\n",
    "for i in a:\n",
    "    if i.isalpha():\n",
    "       c=ord(i)+1\n",
    "       b+=chr(c)\n",
    "    else:\n",
    "        b+=i\n",
    "print(b)"
   ]
  },
  {
   "cell_type": "code",
   "execution_count": 5,
   "id": "50b697bb-a109-4df2-8c31-ea64640aed66",
   "metadata": {},
   "outputs": [
    {
     "name": "stdin",
     "output_type": "stream",
     "text": [
      " 4\n"
     ]
    },
    {
     "name": "stdout",
     "output_type": "stream",
     "text": [
      "1111\n",
      "2222\n",
      "3333\n",
      "4444\n"
     ]
    }
   ],
   "source": [
    "a=int(input())\n",
    "rows=1\n",
    "while rows<=a:\n",
    "    print(str(rows)*a,end=\"\")\n",
    "    print()\n",
    "    rows+=1"
   ]
  },
  {
   "cell_type": "code",
   "execution_count": 9,
   "id": "697cfa01-d5c8-4b82-890c-738395839ea4",
   "metadata": {},
   "outputs": [
    {
     "name": "stdin",
     "output_type": "stream",
     "text": [
      " High\n"
     ]
    },
    {
     "name": "stdout",
     "output_type": "stream",
     "text": [
      "H i\n"
     ]
    }
   ],
   "source": [
    "a=input()#chars with highest and lowest unicode values\n",
    "low=a[0]\n",
    "high=a[0]\n",
    "for i in a:\n",
    "    if ord(i)<ord(low):\n",
    "        low=i\n",
    "    if ord(i)>ord(high):\n",
    "        high=i\n",
    "print(low,high)"
   ]
  },
  {
   "cell_type": "code",
   "execution_count": null,
   "id": "ddda6947-ea7a-455a-bc8d-91ca07f7ea00",
   "metadata": {},
   "outputs": [],
   "source": []
  }
 ],
 "metadata": {
  "kernelspec": {
   "display_name": "Python 3 (ipykernel)",
   "language": "python",
   "name": "python3"
  },
  "language_info": {
   "codemirror_mode": {
    "name": "ipython",
    "version": 3
   },
   "file_extension": ".py",
   "mimetype": "text/x-python",
   "name": "python",
   "nbconvert_exporter": "python",
   "pygments_lexer": "ipython3",
   "version": "3.12.7"
  }
 },
 "nbformat": 4,
 "nbformat_minor": 5
}
