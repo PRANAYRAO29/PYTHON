{
 "cells": [
  {
   "cell_type": "code",
   "execution_count": 9,
   "id": "84f43eec-49c9-4ee3-b7c7-10c99ffdc794",
   "metadata": {},
   "outputs": [
    {
     "name": "stdout",
     "output_type": "stream",
     "text": [
      "B\n",
      "[<class '__main__.D'>, <class '__main__.B'>, <class '__main__.C'>, <class '__main__.A'>, <class 'object'>]\n"
     ]
    }
   ],
   "source": [
    "class A:\n",
    "    def show(self):\n",
    "        print(\"A\")\n",
    "class B(A):\n",
    "    def show(self):\n",
    "        print(\"B\")\n",
    "class C(A):\n",
    "    def show(self):\n",
    "        print(\"C\")\n",
    "class D(B,C):\n",
    "    pass\n",
    "d=D()\n",
    "d.show()\n",
    "print(D.mro())"
   ]
  },
  {
   "cell_type": "markdown",
   "id": "ca59fa76-8902-4e54-8f49-257f8445e61e",
   "metadata": {},
   "source": [
    "# Encapsulation\n",
    "- Encapsulation is one of the fundamental principles of OOP.\n",
    "- It means binding data (variables) and methods (functions) that operate on the data into a single unit- typically a class - and access to some of the objects's components.\n"
   ]
  },
  {
   "cell_type": "markdown",
   "id": "d249e85e-dde2-4aab-94d5-8521a43ff512",
   "metadata": {},
   "source": [
    "## Purpose of Encapsulation\n",
    "- To protect data from being accessed or modified directly.\n",
    "- To ensure controlled access using getter and setter methods.\n",
    "- To make code more modular,secure and maintainable"
   ]
  },
  {
   "cell_type": "markdown",
   "id": "20f18b58-0cee-4dcb-917c-93a35d872699",
   "metadata": {},
   "source": [
    "## Access Modifiers In Python"
   ]
  },
  {
   "cell_type": "markdown",
   "id": "51db507a-df9a-476a-b5da-4e8f141a276e",
   "metadata": {},
   "source": [
    "- Modifier syntax access level\n",
    "- Public self.name Accessible everywhere\n",
    "- Protected self._name Accessible within the class and its subclass\n",
    "- Private self.__name Name mangled:not directly accessible outside the class"
   ]
  },
  {
   "cell_type": "markdown",
   "id": "4bcb13bf-0b0b-4317-8a7e-3ad9b463694c",
   "metadata": {},
   "source": [
    "# Polymorphism\n",
    "- Polymorphism means one interface(method or operator) behaves differently depending one the object calling it.\n"
   ]
  },
  {
   "cell_type": "code",
   "execution_count": 12,
   "id": "72f2b860-f89b-4fd6-b4ef-f93aad98b87f",
   "metadata": {},
   "outputs": [
    {
     "name": "stdout",
     "output_type": "stream",
     "text": [
      "bark\n",
      "meow\n"
     ]
    }
   ],
   "source": [
    "class dog:\n",
    "    def sound(self):\n",
    "        return \"bark\"\n",
    "class cat:\n",
    "    def sound(self):\n",
    "        return \"meow\"\n",
    "def animal_sound(animal):\n",
    "    print(animal.sound())\n",
    "d = dog()\n",
    "c = cat()\n",
    "animal_sound(d)\n",
    "animal_sound(c)"
   ]
  },
  {
   "cell_type": "markdown",
   "id": "bac2e3a2-b57f-4a3e-8eed-45236de7f434",
   "metadata": {},
   "source": [
    "# Abstraction\n",
    "- Abstraction is the concept of hiding internal details and only showing essential features.\n",
    "- In Python,abstraction is implemented using abstract base classes from the abc module"
   ]
  },
  {
   "cell_type": "code",
   "execution_count": 21,
   "id": "d632503d-6792-46ea-9f8f-b3116e6ff0fd",
   "metadata": {},
   "outputs": [
    {
     "name": "stdout",
     "output_type": "stream",
     "text": [
      "12\n",
      "15.700000000000001\n"
     ]
    }
   ],
   "source": [
    "from abc import ABC,abstractmethod\n",
    "\n",
    "class shape(ABC):\n",
    "    @abstractmethod\n",
    "    def area(self):\n",
    "        pass\n",
    "\n",
    "class rectangle(shape):\n",
    "    def __init__(self,length,width):\n",
    "        self.length = length\n",
    "        self.width = width\n",
    "\n",
    "    def area(self):\n",
    "        return self.length*self.width\n",
    "        \n",
    "class Circle(shape):\n",
    "    def __init__(self,radius):\n",
    "        self.radius = radius\n",
    "    def area(self):\n",
    "        return self.radius*3.14\n",
    "r=rectangle(3,4)\n",
    "c=Circle(5)\n",
    "print(r.area())\n",
    "print(c.area())"
   ]
  },
  {
   "cell_type": "code",
   "execution_count": 1,
   "id": "da518f29-746d-4756-a511-75f398a14ef6",
   "metadata": {},
   "outputs": [
    {
     "name": "stdout",
     "output_type": "stream",
     "text": [
      "12\n",
      "15.700000000000001\n"
     ]
    }
   ],
   "source": [
    "\n",
    "class rectangle:\n",
    "    def __init__(self,length,width):\n",
    "        self.length = length\n",
    "        self.width = width\n",
    "\n",
    "    def area(self):\n",
    "        return self.length*self.width\n",
    "        \n",
    "class Circle:\n",
    "    def __init__(self,radius):\n",
    "        self.radius = radius\n",
    "    def area(self):\n",
    "        return self.radius*3.14\n",
    "r=rectangle(3,4)\n",
    "c=Circle(5)\n",
    "print(r.area())\n",
    "print(c.area())"
   ]
  },
  {
   "cell_type": "code",
   "execution_count": null,
   "id": "d1adac44-ac82-47c8-a329-ff65c4e6527e",
   "metadata": {},
   "outputs": [],
   "source": [
    "n=5\n",
    "for i in range(1,n+1):\n",
    "    "
   ]
  }
 ],
 "metadata": {
  "kernelspec": {
   "display_name": "Python 3 (ipykernel)",
   "language": "python",
   "name": "python3"
  },
  "language_info": {
   "codemirror_mode": {
    "name": "ipython",
    "version": 3
   },
   "file_extension": ".py",
   "mimetype": "text/x-python",
   "name": "python",
   "nbconvert_exporter": "python",
   "pygments_lexer": "ipython3",
   "version": "3.12.7"
  }
 },
 "nbformat": 4,
 "nbformat_minor": 5
}
