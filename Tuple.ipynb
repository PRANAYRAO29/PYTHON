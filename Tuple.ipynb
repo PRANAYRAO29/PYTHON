{
 "cells": [
  {
   "cell_type": "markdown",
   "id": "38f1505a-faed-4073-93d3-4ca69e2e1c3b",
   "metadata": {},
   "source": [
    "# TUPLE"
   ]
  },
  {
   "cell_type": "markdown",
   "id": "d28c9b7b-2a97-4279-986e-51c65655b525",
   "metadata": {},
   "source": [
    "- is ordered collection of elements/items\n",
    "- tuple is represented using ()\n",
    "- allows all data types and duplicates also.\n",
    "- is immutable data type.\n",
    "- tuples are 50x faster than list in response.\n",
    "- we can avoid accidental changes when we use tuples.\n",
    "  "
   ]
  },
  {
   "cell_type": "markdown",
   "id": "19ff7cd9-ce61-4744-bbc6-bafc61cbe703",
   "metadata": {},
   "source": [
    "## Create an empty tuple"
   ]
  },
  {
   "cell_type": "code",
   "execution_count": 1,
   "id": "a4e4c7bd-33a7-4cb9-a238-6bd218ac43b4",
   "metadata": {},
   "outputs": [],
   "source": [
    "a=()"
   ]
  },
  {
   "cell_type": "code",
   "execution_count": 3,
   "id": "ae635e5d-5509-4a95-9ccc-4f1a2d5c743d",
   "metadata": {},
   "outputs": [
    {
     "name": "stdout",
     "output_type": "stream",
     "text": [
      "(1, 2, 6, 4, 5)\n"
     ]
    }
   ],
   "source": [
    "tuple_int=(1,2,6,4,5)\n",
    "print(tuple_int)\n"
   ]
  },
  {
   "cell_type": "code",
   "execution_count": 2,
   "id": "ffa13e1e-b47c-4406-a437-1fabc448716d",
   "metadata": {},
   "outputs": [
    {
     "name": "stdout",
     "output_type": "stream",
     "text": [
      "(1.0, 2.0, 3.0, 4.0)\n"
     ]
    }
   ],
   "source": [
    "tuple_float=(1.0,2.0,3.0,4.0)\n",
    "print(tuple_float)"
   ]
  },
  {
   "cell_type": "code",
   "execution_count": 5,
   "id": "fc2dce26-5fff-4977-9d99-dec074c8900a",
   "metadata": {},
   "outputs": [
    {
     "name": "stdout",
     "output_type": "stream",
     "text": [
      "('pranay', 'santhosh', 'sravan', 'vishu')\n"
     ]
    }
   ],
   "source": [
    "tuple_str=(\"pranay\",\"santhosh\",\"sravan\",\"vishu\")\n",
    "print(tuple_str)"
   ]
  },
  {
   "cell_type": "code",
   "execution_count": 6,
   "id": "33b94b80-2c72-4131-8f1a-0e26f95acc89",
   "metadata": {},
   "outputs": [
    {
     "name": "stdout",
     "output_type": "stream",
     "text": [
      "(True, False)\n"
     ]
    }
   ],
   "source": [
    "tuple_bool=(True,False)\n",
    "print(tuple_bool)"
   ]
  },
  {
   "cell_type": "code",
   "execution_count": 7,
   "id": "171da5ad-8170-4a10-9a24-b9d8e765b49a",
   "metadata": {},
   "outputs": [
    {
     "name": "stdout",
     "output_type": "stream",
     "text": [
      "(1, 2, 3.0, 'pranay', False)\n"
     ]
    }
   ],
   "source": [
    "tuple_mixed=(1,2,3.0,\"pranay\",False)\n",
    "print(tuple_mixed)"
   ]
  },
  {
   "cell_type": "code",
   "execution_count": 1,
   "id": "05d01c12-da9e-4251-859c-4e43233849a6",
   "metadata": {},
   "outputs": [
    {
     "name": "stdout",
     "output_type": "stream",
     "text": [
      "(1, 2, 2, 3, ('pranay', 2.0, False), True, 30.0)\n"
     ]
    }
   ],
   "source": [
    "tuple_nest=(1,2,2,3,(\"pranay\",2.0,False),True,30.0)\n",
    "print(tuple_nest)"
   ]
  },
  {
   "cell_type": "code",
   "execution_count": 3,
   "id": "0e46fcf0-5040-4b84-ac99-cbeede4d6574",
   "metadata": {},
   "outputs": [
    {
     "name": "stdout",
     "output_type": "stream",
     "text": [
      "2\n",
      "True\n",
      "(2, 3, ('pranay', 2.0, False))\n",
      "(1, 2, 2, 3, ('pranay', 2.0, False), True, 30.0)\n",
      "2.0\n",
      "(30.0, True, ('pranay', 2.0, False), 3, 2, 2, 1)\n"
     ]
    }
   ],
   "source": [
    "print(tuple_nest[1])\n",
    "print(tuple_nest[-2])\n",
    "print(tuple_nest[-5:-2])\n",
    "print(tuple_nest[:])\n",
    "print(tuple_nest[4][1])\n",
    "print(tuple_nest[::-1])"
   ]
  },
  {
   "cell_type": "code",
   "execution_count": 4,
   "id": "a8ea74d2-f516-4536-8fb9-b14079742576",
   "metadata": {},
   "outputs": [
    {
     "data": {
      "text/plain": [
       "2"
      ]
     },
     "execution_count": 4,
     "metadata": {},
     "output_type": "execute_result"
    }
   ],
   "source": [
    "tuple_nest.count(2)"
   ]
  },
  {
   "cell_type": "markdown",
   "id": "a924045c-938d-46a9-a464-ac84b86c37af",
   "metadata": {},
   "source": [
    "## packing and unpacking in tuples"
   ]
  },
  {
   "cell_type": "code",
   "execution_count": 22,
   "id": "57dc5da7-2b8b-457d-8ce8-b8d16da3a3e5",
   "metadata": {},
   "outputs": [
    {
     "name": "stdout",
     "output_type": "stream",
     "text": [
      "(3, 4)\n",
      "3\n",
      "4\n"
     ]
    }
   ],
   "source": [
    "a = 3\n",
    "b = 4\n",
    "c = (a,b) #packing in tuples\n",
    "print(c)\n",
    "a , b = c #unpacking in tuples\n",
    "print(a)\n",
    "print(b)"
   ]
  },
  {
   "cell_type": "markdown",
   "id": "4b604b3c-78f7-4ea1-a10b-12482989771e",
   "metadata": {},
   "source": [
    "## Sorting"
   ]
  },
  {
   "cell_type": "code",
   "execution_count": 27,
   "id": "fb7ff04f-65d8-4c5b-a38d-626edc94e5de",
   "metadata": {},
   "outputs": [
    {
     "name": "stdout",
     "output_type": "stream",
     "text": [
      "[1, 2, 3, 3, 5, 7, 9]\n",
      "[9, 7, 5, 3, 3, 2, 1]\n"
     ]
    }
   ],
   "source": [
    "a=(1,3,5,7,9,2,3)\n",
    "print(sorted(a))\n",
    "print(sorted(a,reverse=True))"
   ]
  },
  {
   "cell_type": "code",
   "execution_count": 31,
   "id": "eb5b1b1e-8f3a-4cc8-a058-7938b6d9e138",
   "metadata": {},
   "outputs": [
    {
     "name": "stdout",
     "output_type": "stream",
     "text": [
      "['cat', 'dog', 'donkey', 'monkey', 'zebra']\n",
      "['Donkey', 'Zebra', 'cat', 'dog', 'monkey']\n"
     ]
    }
   ],
   "source": [
    "a=(\"monkey\",\"donkey\",\"cat\",\"dog\",\"zebra\")\n",
    "b=(\"monkey\",\"Donkey\",\"cat\",\"dog\",\"Zebra\")\n",
    "print(sorted(a))\n",
    "print(sorted(b))"
   ]
  },
  {
   "cell_type": "code",
   "execution_count": 37,
   "id": "aba7d0df-e192-4a94-b755-e1a212be9d5c",
   "metadata": {},
   "outputs": [
    {
     "name": "stdout",
     "output_type": "stream",
     "text": [
      "['monkey', 'donkey', 'cat', 'dog', 'zebra']\n",
      "('monkey', 'donkey', 'cat', 'dog', 'zebra')\n"
     ]
    }
   ],
   "source": [
    "a=(\"monkey\",\"donkey\",\"cat\",\"dog\",\"zebra\")\n",
    "b=list(a)  ##CONVERTING TUPLE TO LIST\n",
    "print(b)\n",
    "c=tuple(b) ## CONVERTING LIST TO TUPLE\n",
    "print(c)"
   ]
  },
  {
   "cell_type": "code",
   "execution_count": 56,
   "id": "16f484d8-948a-4e41-ac8b-dfc13ffa2909",
   "metadata": {},
   "outputs": [
    {
     "name": "stdout",
     "output_type": "stream",
     "text": [
      "(1, 2, 3, [4, 5, 6])\n",
      "(4, 5, 6)\n"
     ]
    },
    {
     "ename": "AttributeError",
     "evalue": "'tuple' object has no attribute 'insert'",
     "output_type": "error",
     "traceback": [
      "\u001b[1;31m---------------------------------------------------------------------------\u001b[0m",
      "\u001b[1;31mAttributeError\u001b[0m                            Traceback (most recent call last)",
      "Cell \u001b[1;32mIn[56], line 6\u001b[0m\n\u001b[0;32m      4\u001b[0m c\u001b[38;5;241m=\u001b[39m\u001b[38;5;28mtuple\u001b[39m(b[\u001b[38;5;241m3\u001b[39m])\n\u001b[0;32m      5\u001b[0m \u001b[38;5;28mprint\u001b[39m(c)\n\u001b[1;32m----> 6\u001b[0m c\u001b[38;5;241m=\u001b[39mb\u001b[38;5;241m.\u001b[39minsert(\u001b[38;5;241m3\u001b[39m,c)\n\u001b[0;32m      7\u001b[0m \u001b[38;5;28mprint\u001b[39m(c)\n",
      "\u001b[1;31mAttributeError\u001b[0m: 'tuple' object has no attribute 'insert'"
     ]
    }
   ],
   "source": [
    "a=[1,2,3,[4,5,6]]\n",
    "b=tuple(a)\n",
    "print(b)\n",
    "c=tuple(b[3])\n",
    "print(c)\n",
    "c=b.insert(3,c)\n",
    "print(c)"
   ]
  },
  {
   "cell_type": "code",
   "execution_count": 78,
   "id": "a81b61f8-dd8b-4cbd-8eb2-75113f9d1ff8",
   "metadata": {},
   "outputs": [
    {
     "name": "stdout",
     "output_type": "stream",
     "text": [
      "[1, 2, 3, [4, 5, 6]]\n"
     ]
    }
   ],
   "source": [
    "a=(1,2,3,(4,5,6))\n",
    "b=list(a)\n",
    "c=b[:3]+[list(b[3])]\n",
    "print(c)"
   ]
  },
  {
   "cell_type": "code",
   "execution_count": 79,
   "id": "c832d871-0220-4878-b664-156735194b87",
   "metadata": {},
   "outputs": [
    {
     "name": "stdout",
     "output_type": "stream",
     "text": [
      "(1, 2, 3, 4, 5, 6)\n"
     ]
    }
   ],
   "source": [
    "c\n",
    "d=tuple(c)\n",
    "e=d[:3]+(tuple(d[3]))\n",
    "print(e)"
   ]
  },
  {
   "cell_type": "code",
   "execution_count": null,
   "id": "d156f1db-4daf-4ad0-a500-d5ad7089891d",
   "metadata": {},
   "outputs": [],
   "source": []
  }
 ],
 "metadata": {
  "kernelspec": {
   "display_name": "Python 3 (ipykernel)",
   "language": "python",
   "name": "python3"
  },
  "language_info": {
   "codemirror_mode": {
    "name": "ipython",
    "version": 3
   },
   "file_extension": ".py",
   "mimetype": "text/x-python",
   "name": "python",
   "nbconvert_exporter": "python",
   "pygments_lexer": "ipython3",
   "version": "3.12.7"
  }
 },
 "nbformat": 4,
 "nbformat_minor": 5
}
