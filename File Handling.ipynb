{
 "cells": [
  {
   "cell_type": "markdown",
   "id": "34936ca3-107f-4d24-9425-6205d267a242",
   "metadata": {},
   "source": [
    "# Open the file"
   ]
  },
  {
   "cell_type": "code",
   "execution_count": 1,
   "id": "3319b864-e2a6-40fb-bf97-3f95215fb698",
   "metadata": {},
   "outputs": [],
   "source": [
    "x=open(\"texts.txt\")"
   ]
  },
  {
   "cell_type": "code",
   "execution_count": 5,
   "id": "d47ce96c-d58e-4aee-8192-26fc4c76e856",
   "metadata": {},
   "outputs": [
    {
     "data": {
      "text/plain": [
       "'KEYWORDS:are reserved words in python\\n                 (or) \\n         are special words reserved for specific purpose.\\n'"
      ]
     },
     "execution_count": 5,
     "metadata": {},
     "output_type": "execute_result"
    }
   ],
   "source": [
    "#reading from the file\n",
    "x=open(\"texts.txt\",mode='r')\n",
    "x.read()"
   ]
  },
  {
   "cell_type": "code",
   "execution_count": 6,
   "id": "e6c111ab-eda8-4458-ae34-aa5e454dd1bb",
   "metadata": {},
   "outputs": [],
   "source": [
    "# close the file\n",
    "x.close()"
   ]
  },
  {
   "cell_type": "code",
   "execution_count": 7,
   "id": "3389d820-b3b3-4ef5-8f24-10f886bb2207",
   "metadata": {},
   "outputs": [
    {
     "data": {
      "text/plain": [
       "'KEYWORDS:are reserved words in python\\n'"
      ]
     },
     "execution_count": 7,
     "metadata": {},
     "output_type": "execute_result"
    }
   ],
   "source": [
    "x=open(\"texts.txt\",mode='r')\n",
    "x.readline()"
   ]
  },
  {
   "cell_type": "code",
   "execution_count": 8,
   "id": "1f17b60c-703f-4603-a544-e4d90fbf8dfc",
   "metadata": {},
   "outputs": [],
   "source": [
    "x.close()"
   ]
  },
  {
   "cell_type": "code",
   "execution_count": 9,
   "id": "e6090223-ca96-4a3a-8668-3c458b3c6718",
   "metadata": {},
   "outputs": [
    {
     "data": {
      "text/plain": [
       "['KEYWORDS:are reserved words in python\\n',\n",
       " '                 (or) \\n',\n",
       " '         are special words reserved for specific purpose.\\n']"
      ]
     },
     "execution_count": 9,
     "metadata": {},
     "output_type": "execute_result"
    }
   ],
   "source": [
    "x=open(\"texts.txt\",mode='r')\n",
    "x.readlines()"
   ]
  },
  {
   "cell_type": "code",
   "execution_count": 10,
   "id": "68203eb2-ba20-494d-9543-255396ae4249",
   "metadata": {},
   "outputs": [],
   "source": [
    "x.close()"
   ]
  },
  {
   "cell_type": "markdown",
   "id": "1178eff9-95f0-41c2-942f-bbaa17bd9c11",
   "metadata": {},
   "source": [
    "# Write into the file"
   ]
  },
  {
   "cell_type": "code",
   "execution_count": 11,
   "id": "822e04d7-da88-4019-85a2-5f9a4f7c16c8",
   "metadata": {},
   "outputs": [],
   "source": [
    "x=open(\"texts.txt\",mode='w')"
   ]
  },
  {
   "cell_type": "code",
   "execution_count": 14,
   "id": "1be25816-b536-410b-b3db-1bef004b5a7d",
   "metadata": {},
   "outputs": [],
   "source": [
    "df=\"my name is pranay\""
   ]
  },
  {
   "cell_type": "code",
   "execution_count": 15,
   "id": "2a30384a-f9e3-40af-a564-1c7c3dea1543",
   "metadata": {},
   "outputs": [
    {
     "data": {
      "text/plain": [
       "17"
      ]
     },
     "execution_count": 15,
     "metadata": {},
     "output_type": "execute_result"
    }
   ],
   "source": [
    "x.write(df)"
   ]
  },
  {
   "cell_type": "code",
   "execution_count": 16,
   "id": "e21580be-5ddc-48b6-9cef-74a46f5dcbad",
   "metadata": {},
   "outputs": [],
   "source": [
    "x.close()"
   ]
  },
  {
   "cell_type": "code",
   "execution_count": 17,
   "id": "19b09a7c-3efd-41d0-a582-8ffc3e6bb1fa",
   "metadata": {},
   "outputs": [
    {
     "data": {
      "text/plain": [
       "['pranayymy name is pranay']"
      ]
     },
     "execution_count": 17,
     "metadata": {},
     "output_type": "execute_result"
    }
   ],
   "source": [
    "x=open(\"texts.txt\",mode='r')\n",
    "x.readlines()"
   ]
  },
  {
   "cell_type": "code",
   "execution_count": 18,
   "id": "7e4e5867-4f2b-4199-8a8c-2caa89ad5943",
   "metadata": {},
   "outputs": [],
   "source": [
    "x.close()"
   ]
  },
  {
   "cell_type": "code",
   "execution_count": 19,
   "id": "2c5f6dbb-16be-40ec-94ad-e58d52241e92",
   "metadata": {},
   "outputs": [
    {
     "data": {
      "text/plain": [
       "17"
      ]
     },
     "execution_count": 19,
     "metadata": {},
     "output_type": "execute_result"
    }
   ],
   "source": [
    "x=open(\"texts.txt\",mode='a')\n",
    "x.write(df)"
   ]
  },
  {
   "cell_type": "code",
   "execution_count": 20,
   "id": "fe421723-7e72-46b4-9918-c76bc675a0c2",
   "metadata": {},
   "outputs": [],
   "source": [
    "x.close()"
   ]
  },
  {
   "cell_type": "code",
   "execution_count": 22,
   "id": "8538aa0a-4d0c-4bbc-a4f5-f2cdfbf75629",
   "metadata": {},
   "outputs": [
    {
     "data": {
      "text/plain": [
       "['pranayymy name is pranaymy name is pranay']"
      ]
     },
     "execution_count": 22,
     "metadata": {},
     "output_type": "execute_result"
    }
   ],
   "source": [
    "x=open(\"texts.txt\",mode='r')\n",
    "x.readlines()"
   ]
  },
  {
   "cell_type": "code",
   "execution_count": 23,
   "id": "a127a296-b90a-4bcd-a9c5-38bc8bac2599",
   "metadata": {},
   "outputs": [],
   "source": [
    "x.close()"
   ]
  },
  {
   "cell_type": "code",
   "execution_count": null,
   "id": "b7e10297-3a55-4f21-b9ed-afe20d6c145d",
   "metadata": {},
   "outputs": [],
   "source": []
  }
 ],
 "metadata": {
  "kernelspec": {
   "display_name": "Python 3 (ipykernel)",
   "language": "python",
   "name": "python3"
  },
  "language_info": {
   "codemirror_mode": {
    "name": "ipython",
    "version": 3
   },
   "file_extension": ".py",
   "mimetype": "text/x-python",
   "name": "python",
   "nbconvert_exporter": "python",
   "pygments_lexer": "ipython3",
   "version": "3.12.7"
  }
 },
 "nbformat": 4,
 "nbformat_minor": 5
}
